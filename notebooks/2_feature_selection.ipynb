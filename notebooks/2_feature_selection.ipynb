{
 "cells": [
  {
   "cell_type": "code",
   "execution_count": 23,
   "metadata": {
    "collapsed": true
   },
   "outputs": [],
   "source": [
    "import pandas as pd\n",
    "import numpy as np\n",
    "from pygam import LogisticGAM, s, f\n",
    "from sklearn.model_selection import train_test_split\n",
    "from sklearn.preprocessing import StandardScaler, OneHotEncoder\n",
    "from sklearn.compose import ColumnTransformer\n",
    "from sklearn.pipeline import Pipeline\n",
    "from sklearn.linear_model import LogisticRegression\n",
    "from sklearn.tree import DecisionTreeClassifier\n",
    "from sklearn.metrics import classification_report, confusion_matrix, accuracy_score\n",
    "import matplotlib.pyplot as plt"
   ]
  },
  {
   "cell_type": "code",
   "execution_count": 1,
   "outputs": [],
   "source": [],
   "metadata": {
    "collapsed": false
   }
  },
  {
   "cell_type": "code",
   "execution_count": 2,
   "outputs": [],
   "source": [
    "fi_log_reg_df  = pd.read_csv('feature_importance_log_reg.csv', sep=';')\n",
    "fi_tree_df  = pd.read_csv('feature_importance_tree.csv', sep=';')"
   ],
   "metadata": {
    "collapsed": false
   }
  },
  {
   "cell_type": "code",
   "execution_count": 3,
   "outputs": [],
   "source": [
    "fi_log_reg_df = fi_log_reg_df.rename(columns={'index': 'feature'})\n",
    "fi_tree_df = fi_tree_df.rename(columns={'index': 'feature'})"
   ],
   "metadata": {
    "collapsed": false
   }
  },
  {
   "cell_type": "code",
   "execution_count": null,
   "outputs": [],
   "source": [],
   "metadata": {
    "collapsed": false
   }
  },
  {
   "cell_type": "markdown",
   "source": [
    "# Select all feature with importance higher than 0.5"
   ],
   "metadata": {
    "collapsed": false
   }
  },
  {
   "cell_type": "code",
   "execution_count": 8,
   "outputs": [],
   "source": [
    "fi_log_reg_list = fi_log_reg_df.loc[fi_log_reg_df['Abs_Importance'] > 0.5, 'feature'].to_list()\n",
    "fi_tree_list = fi_tree_df.loc[fi_tree_df['Abs_Importance'] > 0.5, 'feature'].to_list()"
   ],
   "metadata": {
    "collapsed": false
   }
  },
  {
   "cell_type": "code",
   "execution_count": 10,
   "outputs": [
    {
     "data": {
      "text/plain": "45"
     },
     "execution_count": 10,
     "metadata": {},
     "output_type": "execute_result"
    }
   ],
   "source": [
    "len(fi_log_reg_list)"
   ],
   "metadata": {
    "collapsed": false
   }
  },
  {
   "cell_type": "code",
   "execution_count": 11,
   "outputs": [
    {
     "data": {
      "text/plain": "45"
     },
     "execution_count": 11,
     "metadata": {},
     "output_type": "execute_result"
    }
   ],
   "source": [
    "len(fi_tree_list)"
   ],
   "metadata": {
    "collapsed": false
   }
  },
  {
   "cell_type": "code",
   "execution_count": 12,
   "outputs": [
    {
     "data": {
      "text/plain": "set()"
     },
     "execution_count": 12,
     "metadata": {},
     "output_type": "execute_result"
    }
   ],
   "source": [
    "set(fi_log_reg_list) - set(fi_tree_list)"
   ],
   "metadata": {
    "collapsed": false
   }
  },
  {
   "cell_type": "code",
   "execution_count": 13,
   "outputs": [
    {
     "data": {
      "text/plain": "set()"
     },
     "execution_count": 13,
     "metadata": {},
     "output_type": "execute_result"
    }
   ],
   "source": [
    "set(fi_tree_list) - set(fi_log_reg_list)  # feature importance lists are identical"
   ],
   "metadata": {
    "collapsed": false
   }
  },
  {
   "cell_type": "code",
   "execution_count": 14,
   "outputs": [
    {
     "data": {
      "text/plain": "45"
     },
     "execution_count": 14,
     "metadata": {},
     "output_type": "execute_result"
    }
   ],
   "source": [
    "len(set(fi_tree_list))"
   ],
   "metadata": {
    "collapsed": false
   }
  },
  {
   "cell_type": "code",
   "execution_count": 15,
   "outputs": [],
   "source": [
    "feature_to_save_df = pd.DataFrame()\n",
    "feature_to_save_df['feature'] = fi_tree_list"
   ],
   "metadata": {
    "collapsed": false
   }
  },
  {
   "cell_type": "code",
   "execution_count": 16,
   "outputs": [],
   "source": [
    "feature_to_save_df.to_csv(f'../data/features_to_save.csv', index=False)"
   ],
   "metadata": {
    "collapsed": false
   }
  },
  {
   "cell_type": "code",
   "execution_count": 4,
   "outputs": [],
   "source": [
    "feature_to_save_df = pd.read_csv(f'../data/features_to_save.csv')"
   ],
   "metadata": {
    "collapsed": false
   }
  },
  {
   "cell_type": "code",
   "execution_count": 5,
   "outputs": [
    {
     "data": {
      "text/plain": "                                            feature\n0                              Model_GRAND SANTA FE\n1                                           Model_3\n2                   passport_region_Томская область\n3                    passport_region_Алтайский край\n4                              passport_region_н.д.\n5                passport_region_Республика Хакасия\n6                                      Model_PAJERO\n7                                   Model_DISCOVERY\n8                                       Model_TIIDA\n9                 passport_region_Кировская область\n10                                    Model_ORLANDO\n11         passport_region_Республика Саха (Якутия)\n12                                       Model_GOLF\n13                                         Model_A6\n14            passport_region_Архангельская область\n15               passport_region_Республика Бурятия\n16                                    Model_TRANSIT\n17                                       Model_VITO\n18                                  Filial_Ижевский\n19                                       Model_XC60\n20                  passport_region_Республика Коми\n21             passport_region_Новгородская область\n22                  passport_region_Республика Тыва\n23                                        Model_SLS\n24                                      Model_FABIA\n25                                   Model_MULTIVAN\n26  passport_region_Коми-Пермяцкий автономный округ\n27                                          Model_B\n28                passport_region_Тюменская область\n29                                        Model_GLC\n30                                      Model_CRUZE\n31                                    Model_OUTBACK\n32                                          Model_6\n33                         Model_RANGE ROVER EVOQUE\n34                                         Model_X5\n35             passport_region_Чувашская Республика\n36                                      Model_L-200\n37              passport_region_Ульяновская область\n38                                        Model_GLS\n39                                   Model_EXPLORER\n40              passport_region_Республика Мордовия\n41                          Model_RANGE ROVER SPORT\n42                                    Model_6-СЕРИЯ\n43             passport_region_Оренбургская область\n44                                       Model_2111",
      "text/html": "<div>\n<style scoped>\n    .dataframe tbody tr th:only-of-type {\n        vertical-align: middle;\n    }\n\n    .dataframe tbody tr th {\n        vertical-align: top;\n    }\n\n    .dataframe thead th {\n        text-align: right;\n    }\n</style>\n<table border=\"1\" class=\"dataframe\">\n  <thead>\n    <tr style=\"text-align: right;\">\n      <th></th>\n      <th>feature</th>\n    </tr>\n  </thead>\n  <tbody>\n    <tr>\n      <th>0</th>\n      <td>Model_GRAND SANTA FE</td>\n    </tr>\n    <tr>\n      <th>1</th>\n      <td>Model_3</td>\n    </tr>\n    <tr>\n      <th>2</th>\n      <td>passport_region_Томская область</td>\n    </tr>\n    <tr>\n      <th>3</th>\n      <td>passport_region_Алтайский край</td>\n    </tr>\n    <tr>\n      <th>4</th>\n      <td>passport_region_н.д.</td>\n    </tr>\n    <tr>\n      <th>5</th>\n      <td>passport_region_Республика Хакасия</td>\n    </tr>\n    <tr>\n      <th>6</th>\n      <td>Model_PAJERO</td>\n    </tr>\n    <tr>\n      <th>7</th>\n      <td>Model_DISCOVERY</td>\n    </tr>\n    <tr>\n      <th>8</th>\n      <td>Model_TIIDA</td>\n    </tr>\n    <tr>\n      <th>9</th>\n      <td>passport_region_Кировская область</td>\n    </tr>\n    <tr>\n      <th>10</th>\n      <td>Model_ORLANDO</td>\n    </tr>\n    <tr>\n      <th>11</th>\n      <td>passport_region_Республика Саха (Якутия)</td>\n    </tr>\n    <tr>\n      <th>12</th>\n      <td>Model_GOLF</td>\n    </tr>\n    <tr>\n      <th>13</th>\n      <td>Model_A6</td>\n    </tr>\n    <tr>\n      <th>14</th>\n      <td>passport_region_Архангельская область</td>\n    </tr>\n    <tr>\n      <th>15</th>\n      <td>passport_region_Республика Бурятия</td>\n    </tr>\n    <tr>\n      <th>16</th>\n      <td>Model_TRANSIT</td>\n    </tr>\n    <tr>\n      <th>17</th>\n      <td>Model_VITO</td>\n    </tr>\n    <tr>\n      <th>18</th>\n      <td>Filial_Ижевский</td>\n    </tr>\n    <tr>\n      <th>19</th>\n      <td>Model_XC60</td>\n    </tr>\n    <tr>\n      <th>20</th>\n      <td>passport_region_Республика Коми</td>\n    </tr>\n    <tr>\n      <th>21</th>\n      <td>passport_region_Новгородская область</td>\n    </tr>\n    <tr>\n      <th>22</th>\n      <td>passport_region_Республика Тыва</td>\n    </tr>\n    <tr>\n      <th>23</th>\n      <td>Model_SLS</td>\n    </tr>\n    <tr>\n      <th>24</th>\n      <td>Model_FABIA</td>\n    </tr>\n    <tr>\n      <th>25</th>\n      <td>Model_MULTIVAN</td>\n    </tr>\n    <tr>\n      <th>26</th>\n      <td>passport_region_Коми-Пермяцкий автономный округ</td>\n    </tr>\n    <tr>\n      <th>27</th>\n      <td>Model_B</td>\n    </tr>\n    <tr>\n      <th>28</th>\n      <td>passport_region_Тюменская область</td>\n    </tr>\n    <tr>\n      <th>29</th>\n      <td>Model_GLC</td>\n    </tr>\n    <tr>\n      <th>30</th>\n      <td>Model_CRUZE</td>\n    </tr>\n    <tr>\n      <th>31</th>\n      <td>Model_OUTBACK</td>\n    </tr>\n    <tr>\n      <th>32</th>\n      <td>Model_6</td>\n    </tr>\n    <tr>\n      <th>33</th>\n      <td>Model_RANGE ROVER EVOQUE</td>\n    </tr>\n    <tr>\n      <th>34</th>\n      <td>Model_X5</td>\n    </tr>\n    <tr>\n      <th>35</th>\n      <td>passport_region_Чувашская Республика</td>\n    </tr>\n    <tr>\n      <th>36</th>\n      <td>Model_L-200</td>\n    </tr>\n    <tr>\n      <th>37</th>\n      <td>passport_region_Ульяновская область</td>\n    </tr>\n    <tr>\n      <th>38</th>\n      <td>Model_GLS</td>\n    </tr>\n    <tr>\n      <th>39</th>\n      <td>Model_EXPLORER</td>\n    </tr>\n    <tr>\n      <th>40</th>\n      <td>passport_region_Республика Мордовия</td>\n    </tr>\n    <tr>\n      <th>41</th>\n      <td>Model_RANGE ROVER SPORT</td>\n    </tr>\n    <tr>\n      <th>42</th>\n      <td>Model_6-СЕРИЯ</td>\n    </tr>\n    <tr>\n      <th>43</th>\n      <td>passport_region_Оренбургская область</td>\n    </tr>\n    <tr>\n      <th>44</th>\n      <td>Model_2111</td>\n    </tr>\n  </tbody>\n</table>\n</div>"
     },
     "execution_count": 5,
     "metadata": {},
     "output_type": "execute_result"
    }
   ],
   "source": [
    "feature_to_save_df"
   ],
   "metadata": {
    "collapsed": false
   }
  },
  {
   "cell_type": "code",
   "execution_count": null,
   "outputs": [],
   "source": [],
   "metadata": {
    "collapsed": false
   }
  },
  {
   "cell_type": "markdown",
   "source": [
    "# GAM with short list of features"
   ],
   "metadata": {
    "collapsed": false
   }
  },
  {
   "cell_type": "code",
   "execution_count": 6,
   "outputs": [],
   "source": [
    "df = pd.read_excel('../data/Задание (пролонгация).xlsx', sheet_name='data_full')"
   ],
   "metadata": {
    "collapsed": false
   }
  },
  {
   "cell_type": "code",
   "execution_count": 7,
   "outputs": [],
   "source": [
    "# Make target binary, force it to 1 or 0\n",
    "df['target'] = df['target'].apply(lambda x: abs(x) if x == -1 else 0)"
   ],
   "metadata": {
    "collapsed": false
   }
  },
  {
   "cell_type": "code",
   "execution_count": 8,
   "outputs": [],
   "source": [
    "X = df.drop('target', axis=1)\n",
    "y = df['target']"
   ],
   "metadata": {
    "collapsed": false
   }
  },
  {
   "cell_type": "code",
   "execution_count": 9,
   "outputs": [],
   "source": [
    "numerical_cols = X.select_dtypes(include=['int64', 'float64']).columns\n",
    "categorical_cols = X.select_dtypes(include=['object', 'category']).columns"
   ],
   "metadata": {
    "collapsed": false
   }
  },
  {
   "cell_type": "code",
   "execution_count": 10,
   "outputs": [],
   "source": [
    "scaler = StandardScaler()\n",
    "X_numerical_scaled = pd.DataFrame(scaler.fit_transform(X[numerical_cols]),\n",
    "                                  columns=numerical_cols)\n",
    "X_categorical_encoded = pd.get_dummies(X[categorical_cols])\n",
    "X_preprocessed = pd.concat([X_numerical_scaled, X_categorical_encoded], axis=1)"
   ],
   "metadata": {
    "collapsed": false
   }
  },
  {
   "cell_type": "code",
   "execution_count": 13,
   "outputs": [],
   "source": [
    "# filter by features"
   ],
   "metadata": {
    "collapsed": false
   }
  },
  {
   "cell_type": "code",
   "execution_count": 16,
   "outputs": [],
   "source": [
    "X_preprocessed1 = X_preprocessed[feature_to_save_df['feature']].copy()"
   ],
   "metadata": {
    "collapsed": false
   }
  },
  {
   "cell_type": "code",
   "execution_count": 17,
   "outputs": [
    {
     "data": {
      "text/plain": "       Model_GRAND SANTA FE  Model_3  passport_region_Томская область  \\\n0                     False    False                            False   \n1                     False    False                            False   \n2                     False    False                            False   \n3                     False    False                            False   \n4                     False    False                            False   \n...                     ...      ...                              ...   \n10858                  True    False                            False   \n10859                 False    False                            False   \n10860                 False    False                            False   \n10861                 False    False                            False   \n10862                 False    False                            False   \n\n       passport_region_Алтайский край  passport_region_н.д.  \\\n0                               False                 False   \n1                               False                 False   \n2                               False                 False   \n3                               False                 False   \n4                               False                 False   \n...                               ...                   ...   \n10858                           False                 False   \n10859                           False                 False   \n10860                           False                 False   \n10861                           False                 False   \n10862                           False                 False   \n\n       passport_region_Республика Хакасия  Model_PAJERO  Model_DISCOVERY  \\\n0                                   False         False            False   \n1                                   False         False            False   \n2                                   False         False            False   \n3                                   False         False            False   \n4                                   False         False            False   \n...                                   ...           ...              ...   \n10858                               False         False            False   \n10859                               False         False            False   \n10860                               False         False            False   \n10861                               False         False            False   \n10862                               False         False            False   \n\n       Model_TIIDA  passport_region_Кировская область  ...  \\\n0            False                              False  ...   \n1            False                              False  ...   \n2            False                              False  ...   \n3            False                              False  ...   \n4            False                              False  ...   \n...            ...                                ...  ...   \n10858        False                              False  ...   \n10859        False                              False  ...   \n10860        False                              False  ...   \n10861        False                              False  ...   \n10862        False                              False  ...   \n\n       passport_region_Чувашская Республика  Model_L-200  \\\n0                                     False        False   \n1                                     False        False   \n2                                     False        False   \n3                                     False        False   \n4                                     False        False   \n...                                     ...          ...   \n10858                                 False        False   \n10859                                 False        False   \n10860                                 False        False   \n10861                                 False        False   \n10862                                 False        False   \n\n       passport_region_Ульяновская область  Model_GLS  Model_EXPLORER  \\\n0                                    False      False           False   \n1                                    False      False           False   \n2                                    False      False           False   \n3                                    False      False           False   \n4                                    False      False           False   \n...                                    ...        ...             ...   \n10858                                False      False           False   \n10859                                False      False           False   \n10860                                False      False           False   \n10861                                False      False           False   \n10862                                False      False           False   \n\n       passport_region_Республика Мордовия  Model_RANGE ROVER SPORT  \\\n0                                    False                    False   \n1                                    False                    False   \n2                                    False                    False   \n3                                    False                    False   \n4                                    False                    False   \n...                                    ...                      ...   \n10858                                False                    False   \n10859                                False                    False   \n10860                                False                    False   \n10861                                False                    False   \n10862                                False                    False   \n\n       Model_6-СЕРИЯ  passport_region_Оренбургская область  Model_2111  \n0              False                                 False       False  \n1              False                                 False       False  \n2              False                                 False       False  \n3              False                                 False       False  \n4              False                                 False       False  \n...              ...                                   ...         ...  \n10858          False                                 False       False  \n10859          False                                 False       False  \n10860          False                                 False       False  \n10861          False                                 False       False  \n10862          False                                 False       False  \n\n[10863 rows x 45 columns]",
      "text/html": "<div>\n<style scoped>\n    .dataframe tbody tr th:only-of-type {\n        vertical-align: middle;\n    }\n\n    .dataframe tbody tr th {\n        vertical-align: top;\n    }\n\n    .dataframe thead th {\n        text-align: right;\n    }\n</style>\n<table border=\"1\" class=\"dataframe\">\n  <thead>\n    <tr style=\"text-align: right;\">\n      <th></th>\n      <th>Model_GRAND SANTA FE</th>\n      <th>Model_3</th>\n      <th>passport_region_Томская область</th>\n      <th>passport_region_Алтайский край</th>\n      <th>passport_region_н.д.</th>\n      <th>passport_region_Республика Хакасия</th>\n      <th>Model_PAJERO</th>\n      <th>Model_DISCOVERY</th>\n      <th>Model_TIIDA</th>\n      <th>passport_region_Кировская область</th>\n      <th>...</th>\n      <th>passport_region_Чувашская Республика</th>\n      <th>Model_L-200</th>\n      <th>passport_region_Ульяновская область</th>\n      <th>Model_GLS</th>\n      <th>Model_EXPLORER</th>\n      <th>passport_region_Республика Мордовия</th>\n      <th>Model_RANGE ROVER SPORT</th>\n      <th>Model_6-СЕРИЯ</th>\n      <th>passport_region_Оренбургская область</th>\n      <th>Model_2111</th>\n    </tr>\n  </thead>\n  <tbody>\n    <tr>\n      <th>0</th>\n      <td>False</td>\n      <td>False</td>\n      <td>False</td>\n      <td>False</td>\n      <td>False</td>\n      <td>False</td>\n      <td>False</td>\n      <td>False</td>\n      <td>False</td>\n      <td>False</td>\n      <td>...</td>\n      <td>False</td>\n      <td>False</td>\n      <td>False</td>\n      <td>False</td>\n      <td>False</td>\n      <td>False</td>\n      <td>False</td>\n      <td>False</td>\n      <td>False</td>\n      <td>False</td>\n    </tr>\n    <tr>\n      <th>1</th>\n      <td>False</td>\n      <td>False</td>\n      <td>False</td>\n      <td>False</td>\n      <td>False</td>\n      <td>False</td>\n      <td>False</td>\n      <td>False</td>\n      <td>False</td>\n      <td>False</td>\n      <td>...</td>\n      <td>False</td>\n      <td>False</td>\n      <td>False</td>\n      <td>False</td>\n      <td>False</td>\n      <td>False</td>\n      <td>False</td>\n      <td>False</td>\n      <td>False</td>\n      <td>False</td>\n    </tr>\n    <tr>\n      <th>2</th>\n      <td>False</td>\n      <td>False</td>\n      <td>False</td>\n      <td>False</td>\n      <td>False</td>\n      <td>False</td>\n      <td>False</td>\n      <td>False</td>\n      <td>False</td>\n      <td>False</td>\n      <td>...</td>\n      <td>False</td>\n      <td>False</td>\n      <td>False</td>\n      <td>False</td>\n      <td>False</td>\n      <td>False</td>\n      <td>False</td>\n      <td>False</td>\n      <td>False</td>\n      <td>False</td>\n    </tr>\n    <tr>\n      <th>3</th>\n      <td>False</td>\n      <td>False</td>\n      <td>False</td>\n      <td>False</td>\n      <td>False</td>\n      <td>False</td>\n      <td>False</td>\n      <td>False</td>\n      <td>False</td>\n      <td>False</td>\n      <td>...</td>\n      <td>False</td>\n      <td>False</td>\n      <td>False</td>\n      <td>False</td>\n      <td>False</td>\n      <td>False</td>\n      <td>False</td>\n      <td>False</td>\n      <td>False</td>\n      <td>False</td>\n    </tr>\n    <tr>\n      <th>4</th>\n      <td>False</td>\n      <td>False</td>\n      <td>False</td>\n      <td>False</td>\n      <td>False</td>\n      <td>False</td>\n      <td>False</td>\n      <td>False</td>\n      <td>False</td>\n      <td>False</td>\n      <td>...</td>\n      <td>False</td>\n      <td>False</td>\n      <td>False</td>\n      <td>False</td>\n      <td>False</td>\n      <td>False</td>\n      <td>False</td>\n      <td>False</td>\n      <td>False</td>\n      <td>False</td>\n    </tr>\n    <tr>\n      <th>...</th>\n      <td>...</td>\n      <td>...</td>\n      <td>...</td>\n      <td>...</td>\n      <td>...</td>\n      <td>...</td>\n      <td>...</td>\n      <td>...</td>\n      <td>...</td>\n      <td>...</td>\n      <td>...</td>\n      <td>...</td>\n      <td>...</td>\n      <td>...</td>\n      <td>...</td>\n      <td>...</td>\n      <td>...</td>\n      <td>...</td>\n      <td>...</td>\n      <td>...</td>\n      <td>...</td>\n    </tr>\n    <tr>\n      <th>10858</th>\n      <td>True</td>\n      <td>False</td>\n      <td>False</td>\n      <td>False</td>\n      <td>False</td>\n      <td>False</td>\n      <td>False</td>\n      <td>False</td>\n      <td>False</td>\n      <td>False</td>\n      <td>...</td>\n      <td>False</td>\n      <td>False</td>\n      <td>False</td>\n      <td>False</td>\n      <td>False</td>\n      <td>False</td>\n      <td>False</td>\n      <td>False</td>\n      <td>False</td>\n      <td>False</td>\n    </tr>\n    <tr>\n      <th>10859</th>\n      <td>False</td>\n      <td>False</td>\n      <td>False</td>\n      <td>False</td>\n      <td>False</td>\n      <td>False</td>\n      <td>False</td>\n      <td>False</td>\n      <td>False</td>\n      <td>False</td>\n      <td>...</td>\n      <td>False</td>\n      <td>False</td>\n      <td>False</td>\n      <td>False</td>\n      <td>False</td>\n      <td>False</td>\n      <td>False</td>\n      <td>False</td>\n      <td>False</td>\n      <td>False</td>\n    </tr>\n    <tr>\n      <th>10860</th>\n      <td>False</td>\n      <td>False</td>\n      <td>False</td>\n      <td>False</td>\n      <td>False</td>\n      <td>False</td>\n      <td>False</td>\n      <td>False</td>\n      <td>False</td>\n      <td>False</td>\n      <td>...</td>\n      <td>False</td>\n      <td>False</td>\n      <td>False</td>\n      <td>False</td>\n      <td>False</td>\n      <td>False</td>\n      <td>False</td>\n      <td>False</td>\n      <td>False</td>\n      <td>False</td>\n    </tr>\n    <tr>\n      <th>10861</th>\n      <td>False</td>\n      <td>False</td>\n      <td>False</td>\n      <td>False</td>\n      <td>False</td>\n      <td>False</td>\n      <td>False</td>\n      <td>False</td>\n      <td>False</td>\n      <td>False</td>\n      <td>...</td>\n      <td>False</td>\n      <td>False</td>\n      <td>False</td>\n      <td>False</td>\n      <td>False</td>\n      <td>False</td>\n      <td>False</td>\n      <td>False</td>\n      <td>False</td>\n      <td>False</td>\n    </tr>\n    <tr>\n      <th>10862</th>\n      <td>False</td>\n      <td>False</td>\n      <td>False</td>\n      <td>False</td>\n      <td>False</td>\n      <td>False</td>\n      <td>False</td>\n      <td>False</td>\n      <td>False</td>\n      <td>False</td>\n      <td>...</td>\n      <td>False</td>\n      <td>False</td>\n      <td>False</td>\n      <td>False</td>\n      <td>False</td>\n      <td>False</td>\n      <td>False</td>\n      <td>False</td>\n      <td>False</td>\n      <td>False</td>\n    </tr>\n  </tbody>\n</table>\n<p>10863 rows × 45 columns</p>\n</div>"
     },
     "execution_count": 17,
     "metadata": {},
     "output_type": "execute_result"
    }
   ],
   "source": [
    "X_preprocessed1"
   ],
   "metadata": {
    "collapsed": false
   }
  },
  {
   "cell_type": "code",
   "execution_count": 18,
   "outputs": [],
   "source": [
    "X_train, X_test, y_train, y_test = train_test_split(X_preprocessed1, y, test_size=0.2, random_state=42)"
   ],
   "metadata": {
    "collapsed": false
   }
  },
  {
   "cell_type": "markdown",
   "source": [
    "### Fit"
   ],
   "metadata": {
    "collapsed": false
   }
  },
  {
   "cell_type": "code",
   "execution_count": 19,
   "outputs": [],
   "source": [
    "gam = LogisticGAM().fit(X_train, y_train)  # 8:57"
   ],
   "metadata": {
    "collapsed": false
   }
  },
  {
   "cell_type": "code",
   "execution_count": 20,
   "outputs": [
    {
     "name": "stdout",
     "output_type": "stream",
     "text": [
      "LogisticGAM                                                                                               \n",
      "=============================================== ==========================================================\n",
      "Distribution:                      BinomialDist Effective DoF:                                     45.0941\n",
      "Link Function:                        LogitLink Log Likelihood:                                 -5252.4549\n",
      "Number of Samples:                         8690 AIC:                                             10595.098\n",
      "                                                AICc:                                           10595.6004\n",
      "                                                UBRE:                                               3.2234\n",
      "                                                Scale:                                                 1.0\n",
      "                                                Pseudo R-Squared:                                   0.0109\n",
      "==========================================================================================================\n",
      "Feature Function                  Lambda               Rank         EDoF         P > x        Sig. Code   \n",
      "================================= ==================== ============ ============ ============ ============\n",
      "s(0)                              [0.6]                20           2.1          1.36e-01                 \n",
      "s(1)                              [0.6]                20           1.2          4.91e-02     *           \n",
      "s(2)                              [0.6]                20           1.0          1.00e+00                 \n",
      "s(3)                              [0.6]                20           1.2          5.95e-02     .           \n",
      "s(4)                              [0.6]                20           0.9          4.41e-01                 \n",
      "s(5)                              [0.6]                20           1.8          1.00e+00                 \n",
      "s(6)                              [0.6]                20           1.9          1.00e+00                 \n",
      "s(7)                              [0.6]                20           2.3          2.42e-01                 \n",
      "s(8)                              [0.6]                20           1.9          3.82e-01                 \n",
      "s(9)                              [0.6]                20           1.1          3.04e-01                 \n",
      "s(10)                             [0.6]                20           1.6          1.00e+00                 \n",
      "s(11)                             [0.6]                20           1.1          5.10e-01                 \n",
      "s(12)                             [0.6]                20           1.0          3.31e-01                 \n",
      "s(13)                             [0.6]                20           1.6          4.08e-01                 \n",
      "s(14)                             [0.6]                20           1.0          2.02e-01                 \n",
      "s(15)                             [0.6]                20           1.8          1.00e+00                 \n",
      "s(16)                             [0.6]                20           1.7          1.98e-01                 \n",
      "s(17)                             [0.6]                20           1.9          1.00e+00                 \n",
      "s(18)                             [0.6]                20           0.9          2.06e-01                 \n",
      "s(19)                             [0.6]                20           0.9          7.67e-01                 \n",
      "s(20)                             [0.6]                20           0.9          2.85e-01                 \n",
      "s(21)                             [0.6]                20           1.1          1.78e-01                 \n",
      "s(22)                             [0.6]                20           1.6          1.00e+00                 \n",
      "s(23)                             [0.6]                20           1.2          5.31e-01                 \n",
      "s(24)                             [0.6]                20           1.5          1.00e+00                 \n",
      "s(25)                             [0.6]                20           1.3          1.00e+00                 \n",
      "s(26)                             [0.6]                20           1.1          6.98e-01                 \n",
      "s(27)                             [0.6]                20           0.3          4.53e-01                 \n",
      "s(28)                             [0.6]                20           1.3          1.00e+00                 \n",
      "s(29)                             [0.6]                20           0.6          1.50e-01                 \n",
      "s(30)                             [0.6]                20           0.5          2.61e-01                 \n",
      "s(31)                             [0.6]                20           1.0          1.00e+00                 \n",
      "s(32)                             [0.6]                20           0.1          6.28e-01                 \n",
      "s(33)                             [0.6]                20           0.1          4.88e-01                 \n",
      "s(34)                             [0.6]                20           0.1          4.66e-01                 \n",
      "s(35)                             [0.6]                20           0.0          5.31e-01                 \n",
      "s(36)                             [0.6]                20           0.9          1.00e+00                 \n",
      "s(37)                             [0.6]                20           0.0          5.47e-01                 \n",
      "s(38)                             [0.6]                20           0.0          7.93e-01                 \n",
      "s(39)                             [0.6]                20           0.0          5.12e-01                 \n",
      "s(40)                             [0.6]                20           0.0          7.64e-01                 \n",
      "s(41)                             [0.6]                20           0.5          1.00e+00                 \n",
      "s(42)                             [0.6]                20           0.9          1.00e+00                 \n",
      "s(43)                             [0.6]                20           0.0          2.63e-01                 \n",
      "s(44)                             [0.6]                20           0.9          1.00e+00                 \n",
      "intercept                                              1            0.0          9.85e-01                 \n",
      "==========================================================================================================\n",
      "Significance codes:  0 '***' 0.001 '**' 0.01 '*' 0.05 '.' 0.1 ' ' 1\n",
      "\n",
      "WARNING: Fitting splines and a linear function to a feature introduces a model identifiability problem\n",
      "         which can cause p-values to appear significant when they are not.\n",
      "\n",
      "WARNING: p-values calculated in this manner behave correctly for un-penalized models or models with\n",
      "         known smoothing parameters, but when smoothing parameters have been estimated, the p-values\n",
      "         are typically lower than they should be, meaning that the tests reject the null too readily.\n"
     ]
    },
    {
     "name": "stderr",
     "output_type": "stream",
     "text": [
      "/var/folders/0d/nn90v_dn4y56s_xnhsv23lf00000gn/T/ipykernel_12171/869333826.py:1: UserWarning: KNOWN BUG: p-values computed in this summary are likely much smaller than they should be. \n",
      " \n",
      "Please do not make inferences based on these values! \n",
      "\n",
      "Collaborate on a solution, and stay up to date at: \n",
      "github.com/dswah/pyGAM/issues/163 \n",
      "\n",
      "  gam.summary()\n"
     ]
    }
   ],
   "source": [
    "gam.summary()"
   ],
   "metadata": {
    "collapsed": false
   }
  },
  {
   "cell_type": "markdown",
   "source": [
    "## Evaluation"
   ],
   "metadata": {
    "collapsed": false
   }
  },
  {
   "cell_type": "code",
   "execution_count": 22,
   "outputs": [
    {
     "name": "stdout",
     "output_type": "stream",
     "text": [
      "Accuracy: 0.6921306948918545\n",
      "              precision    recall  f1-score   support\n",
      "\n",
      "           0       0.70      0.98      0.82      1517\n",
      "           1       0.30      0.02      0.03       656\n",
      "\n",
      "    accuracy                           0.69      2173\n",
      "   macro avg       0.50      0.50      0.42      2173\n",
      "weighted avg       0.58      0.69      0.58      2173\n",
      "\n"
     ]
    }
   ],
   "source": [
    "y_pred = gam.predict(X_test)\n",
    "print(\"Accuracy:\", accuracy_score(y_test, y_pred))\n",
    "print(classification_report(y_test, y_pred))"
   ],
   "metadata": {
    "collapsed": false
   }
  },
  {
   "cell_type": "markdown",
   "source": [
    "Precision: Only 30% of the instances predicted as class 1 are actually class 1.\n",
    "Recall: The model correctly identifies only 2% of all actual class 1 instances, which is very low.\n",
    "F1-score: An extremely low F1-score of 3% for class 1, indicating poor performance in predicting the positive class.\n",
    "\n",
    "So perdict Class 1 almost impossible"
   ],
   "metadata": {
    "collapsed": false
   }
  },
  {
   "cell_type": "markdown",
   "source": [
    "## Feature Importance"
   ],
   "metadata": {
    "collapsed": false
   }
  },
  {
   "cell_type": "code",
   "execution_count": 29,
   "outputs": [],
   "source": [
    "def extract_feature_importance(gam, feature_names):\n",
    "    data = []\n",
    "    for i, feature_name in enumerate(feature_names):\n",
    "        XX = gam.generate_X_grid(term=i)\n",
    "        pdep, confi = gam.partial_dependence(term=i, X=XX, width=0.95)\n",
    "        confi_range = confi[:, 1] - confi[:, 0]\n",
    "        avg_confi_range = np.mean(confi_range)\n",
    "\n",
    "        data.append({'Feature': feature_name, 'Avg Conf Int Range': avg_confi_range})\n",
    "\n",
    "    feature_importance_df = pd.DataFrame(data)\n",
    "    feature_importance_df = feature_importance_df.sort_values(by='Avg Conf Int Range', ascending=False)\n",
    "\n",
    "    return feature_importance_df"
   ],
   "metadata": {
    "collapsed": false
   }
  },
  {
   "cell_type": "code",
   "execution_count": 30,
   "outputs": [],
   "source": [
    "feature_names = X_train.columns\n",
    "feature_importance_df = extract_feature_importance(gam, feature_names)"
   ],
   "metadata": {
    "collapsed": false
   }
  },
  {
   "cell_type": "code",
   "execution_count": 31,
   "outputs": [
    {
     "data": {
      "text/plain": "                                            Feature  Avg Conf Int Range\n44                                       Model_2111         1410.325560\n42                                    Model_6-СЕРИЯ         1410.325555\n36                                      Model_L-200         1410.325552\n5                passport_region_Республика Хакасия         1381.163643\n41                          Model_RANGE ROVER SPORT         1233.074908\n31                                    Model_OUTBACK         1221.347190\n22                  passport_region_Республика Тыва         1221.347185\n25                                   Model_MULTIVAN         1221.347182\n17                                       Model_VITO         1221.347179\n28                passport_region_Тюменская область         1213.216588\n15               passport_region_Республика Бурятия         1213.216586\n10                                    Model_ORLANDO         1213.216586\n6                                      Model_PAJERO         1206.991547\n24                                      Model_FABIA         1206.991533\n2                   passport_region_Томская область         1199.024000\n27                                          Model_B          143.807202\n7                                   Model_DISCOVERY          143.806445\n0                              Model_GRAND SANTA FE          143.806067\n11         passport_region_Республика Саха (Якутия)          143.805499\n4                              passport_region_н.д.          143.805436\n8                                       Model_TIIDA          143.805385\n26  passport_region_Коми-Пермяцкий автономный округ          143.804931\n38                                        Model_GLS          143.803228\n30                                      Model_CRUZE          143.803144\n34                                         Model_X5          143.803039\n12                                       Model_GOLF          143.803039\n40              passport_region_Республика Мордовия          143.803039\n23                                        Model_SLS          143.802712\n33                         Model_RANGE ROVER EVOQUE          143.802660\n1                                           Model_3          143.802552\n32                                          Model_6          143.802252\n37              passport_region_Ульяновская область          143.802054\n9                 passport_region_Кировская область          143.801909\n35             passport_region_Чувашская Республика          143.801822\n16                                    Model_TRANSIT          143.801795\n14            passport_region_Архангельская область          143.801756\n20                  passport_region_Республика Коми          143.801687\n3                    passport_region_Алтайский край          143.801651\n13                                         Model_A6          143.801567\n39                                   Model_EXPLORER          143.801536\n21             passport_region_Новгородская область          143.801405\n43             passport_region_Оренбургская область          143.801321\n19                                       Model_XC60          143.801183\n29                                        Model_GLC          143.800997\n18                                  Filial_Ижевский          143.800496",
      "text/html": "<div>\n<style scoped>\n    .dataframe tbody tr th:only-of-type {\n        vertical-align: middle;\n    }\n\n    .dataframe tbody tr th {\n        vertical-align: top;\n    }\n\n    .dataframe thead th {\n        text-align: right;\n    }\n</style>\n<table border=\"1\" class=\"dataframe\">\n  <thead>\n    <tr style=\"text-align: right;\">\n      <th></th>\n      <th>Feature</th>\n      <th>Avg Conf Int Range</th>\n    </tr>\n  </thead>\n  <tbody>\n    <tr>\n      <th>44</th>\n      <td>Model_2111</td>\n      <td>1410.325560</td>\n    </tr>\n    <tr>\n      <th>42</th>\n      <td>Model_6-СЕРИЯ</td>\n      <td>1410.325555</td>\n    </tr>\n    <tr>\n      <th>36</th>\n      <td>Model_L-200</td>\n      <td>1410.325552</td>\n    </tr>\n    <tr>\n      <th>5</th>\n      <td>passport_region_Республика Хакасия</td>\n      <td>1381.163643</td>\n    </tr>\n    <tr>\n      <th>41</th>\n      <td>Model_RANGE ROVER SPORT</td>\n      <td>1233.074908</td>\n    </tr>\n    <tr>\n      <th>31</th>\n      <td>Model_OUTBACK</td>\n      <td>1221.347190</td>\n    </tr>\n    <tr>\n      <th>22</th>\n      <td>passport_region_Республика Тыва</td>\n      <td>1221.347185</td>\n    </tr>\n    <tr>\n      <th>25</th>\n      <td>Model_MULTIVAN</td>\n      <td>1221.347182</td>\n    </tr>\n    <tr>\n      <th>17</th>\n      <td>Model_VITO</td>\n      <td>1221.347179</td>\n    </tr>\n    <tr>\n      <th>28</th>\n      <td>passport_region_Тюменская область</td>\n      <td>1213.216588</td>\n    </tr>\n    <tr>\n      <th>15</th>\n      <td>passport_region_Республика Бурятия</td>\n      <td>1213.216586</td>\n    </tr>\n    <tr>\n      <th>10</th>\n      <td>Model_ORLANDO</td>\n      <td>1213.216586</td>\n    </tr>\n    <tr>\n      <th>6</th>\n      <td>Model_PAJERO</td>\n      <td>1206.991547</td>\n    </tr>\n    <tr>\n      <th>24</th>\n      <td>Model_FABIA</td>\n      <td>1206.991533</td>\n    </tr>\n    <tr>\n      <th>2</th>\n      <td>passport_region_Томская область</td>\n      <td>1199.024000</td>\n    </tr>\n    <tr>\n      <th>27</th>\n      <td>Model_B</td>\n      <td>143.807202</td>\n    </tr>\n    <tr>\n      <th>7</th>\n      <td>Model_DISCOVERY</td>\n      <td>143.806445</td>\n    </tr>\n    <tr>\n      <th>0</th>\n      <td>Model_GRAND SANTA FE</td>\n      <td>143.806067</td>\n    </tr>\n    <tr>\n      <th>11</th>\n      <td>passport_region_Республика Саха (Якутия)</td>\n      <td>143.805499</td>\n    </tr>\n    <tr>\n      <th>4</th>\n      <td>passport_region_н.д.</td>\n      <td>143.805436</td>\n    </tr>\n    <tr>\n      <th>8</th>\n      <td>Model_TIIDA</td>\n      <td>143.805385</td>\n    </tr>\n    <tr>\n      <th>26</th>\n      <td>passport_region_Коми-Пермяцкий автономный округ</td>\n      <td>143.804931</td>\n    </tr>\n    <tr>\n      <th>38</th>\n      <td>Model_GLS</td>\n      <td>143.803228</td>\n    </tr>\n    <tr>\n      <th>30</th>\n      <td>Model_CRUZE</td>\n      <td>143.803144</td>\n    </tr>\n    <tr>\n      <th>34</th>\n      <td>Model_X5</td>\n      <td>143.803039</td>\n    </tr>\n    <tr>\n      <th>12</th>\n      <td>Model_GOLF</td>\n      <td>143.803039</td>\n    </tr>\n    <tr>\n      <th>40</th>\n      <td>passport_region_Республика Мордовия</td>\n      <td>143.803039</td>\n    </tr>\n    <tr>\n      <th>23</th>\n      <td>Model_SLS</td>\n      <td>143.802712</td>\n    </tr>\n    <tr>\n      <th>33</th>\n      <td>Model_RANGE ROVER EVOQUE</td>\n      <td>143.802660</td>\n    </tr>\n    <tr>\n      <th>1</th>\n      <td>Model_3</td>\n      <td>143.802552</td>\n    </tr>\n    <tr>\n      <th>32</th>\n      <td>Model_6</td>\n      <td>143.802252</td>\n    </tr>\n    <tr>\n      <th>37</th>\n      <td>passport_region_Ульяновская область</td>\n      <td>143.802054</td>\n    </tr>\n    <tr>\n      <th>9</th>\n      <td>passport_region_Кировская область</td>\n      <td>143.801909</td>\n    </tr>\n    <tr>\n      <th>35</th>\n      <td>passport_region_Чувашская Республика</td>\n      <td>143.801822</td>\n    </tr>\n    <tr>\n      <th>16</th>\n      <td>Model_TRANSIT</td>\n      <td>143.801795</td>\n    </tr>\n    <tr>\n      <th>14</th>\n      <td>passport_region_Архангельская область</td>\n      <td>143.801756</td>\n    </tr>\n    <tr>\n      <th>20</th>\n      <td>passport_region_Республика Коми</td>\n      <td>143.801687</td>\n    </tr>\n    <tr>\n      <th>3</th>\n      <td>passport_region_Алтайский край</td>\n      <td>143.801651</td>\n    </tr>\n    <tr>\n      <th>13</th>\n      <td>Model_A6</td>\n      <td>143.801567</td>\n    </tr>\n    <tr>\n      <th>39</th>\n      <td>Model_EXPLORER</td>\n      <td>143.801536</td>\n    </tr>\n    <tr>\n      <th>21</th>\n      <td>passport_region_Новгородская область</td>\n      <td>143.801405</td>\n    </tr>\n    <tr>\n      <th>43</th>\n      <td>passport_region_Оренбургская область</td>\n      <td>143.801321</td>\n    </tr>\n    <tr>\n      <th>19</th>\n      <td>Model_XC60</td>\n      <td>143.801183</td>\n    </tr>\n    <tr>\n      <th>29</th>\n      <td>Model_GLC</td>\n      <td>143.800997</td>\n    </tr>\n    <tr>\n      <th>18</th>\n      <td>Filial_Ижевский</td>\n      <td>143.800496</td>\n    </tr>\n  </tbody>\n</table>\n</div>"
     },
     "execution_count": 31,
     "metadata": {},
     "output_type": "execute_result"
    }
   ],
   "source": [
    "feature_importance_df"
   ],
   "metadata": {
    "collapsed": false
   }
  },
  {
   "cell_type": "code",
   "execution_count": 32,
   "outputs": [],
   "source": [
    "# ToDo weighted models?"
   ],
   "metadata": {
    "collapsed": false
   }
  },
  {
   "cell_type": "code",
   "execution_count": 30,
   "outputs": [],
   "source": [],
   "metadata": {
    "collapsed": false
   }
  }
 ],
 "metadata": {
  "kernelspec": {
   "display_name": "Python 3",
   "language": "python",
   "name": "python3"
  },
  "language_info": {
   "codemirror_mode": {
    "name": "ipython",
    "version": 2
   },
   "file_extension": ".py",
   "mimetype": "text/x-python",
   "name": "python",
   "nbconvert_exporter": "python",
   "pygments_lexer": "ipython2",
   "version": "2.7.6"
  }
 },
 "nbformat": 4,
 "nbformat_minor": 0
}
