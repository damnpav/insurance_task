{
 "cells": [
  {
   "cell_type": "code",
   "execution_count": 1,
   "id": "e9d45596-4934-418f-ba3e-e1bc45c8cc2f",
   "metadata": {},
   "outputs": [],
   "source": [
    "import pandas as pd\n",
    "from glob import glob"
   ]
  },
  {
   "cell_type": "code",
   "execution_count": 5,
   "id": "2fc520db-a716-40a0-bdf9-2951fc2bdfd3",
   "metadata": {},
   "outputs": [],
   "source": [
    "from ydata_profiling import ProfileReport"
   ]
  },
  {
   "cell_type": "code",
   "execution_count": 2,
   "id": "97e5b281-fa0d-40a3-9522-21b97020848a",
   "metadata": {},
   "outputs": [
    {
     "data": {
      "text/plain": [
       "['../data/Задание (пролонгация).xlsx']"
      ]
     },
     "execution_count": 2,
     "metadata": {},
     "output_type": "execute_result"
    }
   ],
   "source": [
    "glob('../data/*')"
   ]
  },
  {
   "cell_type": "code",
   "execution_count": 2,
   "id": "ed04bcc9-e02d-49ce-9a41-e4015998faa2",
   "metadata": {},
   "outputs": [],
   "source": [
    "df = pd.read_excel('../data/Задание (пролонгация).xlsx', sheet_name='data_full')"
   ]
  },
  {
   "cell_type": "code",
   "execution_count": 3,
   "id": "f71de552-3c31-4d95-b4ae-21c38cf6d2a8",
   "metadata": {},
   "outputs": [
    {
     "data": {
      "text/plain": "ID                   int64\nFilial              object\nType_ts             object\npassport_region     object\nVIP                 object\nBrand               object\nModel               object\nYr_production        int64\nGAP                 object\nmarried             object\nKBM                  int64\nKBM_prol_est         int64\ndelta_kbm            int64\ndeduct              object\ndeduct_amount       object\nproduct             object\nBank                object\nchannel - map       object\ncategory            object\nkvs_type            object\nAge                  int64\nExp                  int64\ndiscount           float64\nAmount - gr          int64\nsex                 object\npremium_car          int64\nprice_gr             int64\nprice_prc          float64\nOSAGO_clnt           int64\ntarget               int64\ndtype: object"
     },
     "execution_count": 3,
     "metadata": {},
     "output_type": "execute_result"
    }
   ],
   "source": [
    "df.dtypes"
   ]
  },
  {
   "cell_type": "code",
   "execution_count": null,
   "id": "360e28b7-83d3-4688-b866-97caec56f1fa",
   "metadata": {},
   "outputs": [],
   "source": []
  },
  {
   "cell_type": "markdown",
   "id": "1eabcb41-5c5d-4918-8c80-84f396d8673f",
   "metadata": {},
   "source": [
    "# Profiling"
   ]
  },
  {
   "cell_type": "code",
   "execution_count": 7,
   "id": "dc0653a5-d9f3-44ae-be99-68f3c9afbad0",
   "metadata": {},
   "outputs": [],
   "source": [
    "profile = ProfileReport(df, title=\"Insurance Data\")"
   ]
  },
  {
   "cell_type": "code",
   "execution_count": 8,
   "id": "f8a33cec-bdd4-4bf3-b8a1-522885c690bc",
   "metadata": {},
   "outputs": [
    {
     "data": {
      "application/vnd.jupyter.widget-view+json": {
       "model_id": "4e8052ba353e445088cc89107944164b",
       "version_major": 2,
       "version_minor": 0
      },
      "text/plain": [
       "Summarize dataset:   0%|          | 0/5 [00:00<?, ?it/s]"
      ]
     },
     "metadata": {},
     "output_type": "display_data"
    },
    {
     "name": "stderr",
     "output_type": "stream",
     "text": [
      "/Users/dp_user/PycharmProjects/insurance_task/venv/lib/python3.11/site-packages/ydata_profiling/model/correlations.py:66: UserWarning: There was an attempt to calculate the auto correlation, but this failed.\n",
      "To hide this warning, disable the calculation\n",
      "(using `df.profile_report(correlations={\"auto\": {\"calculate\": False}})`\n",
      "If this is problematic for your use case, please report this as an issue:\n",
      "https://github.com/ydataai/ydata-profiling/issues\n",
      "(include the error message: 'could not convert string to float: 'Банк'')\n",
      "  warnings.warn(\n"
     ]
    },
    {
     "data": {
      "application/vnd.jupyter.widget-view+json": {
       "model_id": "b168b89899e247dbad6c04d668d9803b",
       "version_major": 2,
       "version_minor": 0
      },
      "text/plain": [
       "Generate report structure:   0%|          | 0/1 [00:00<?, ?it/s]"
      ]
     },
     "metadata": {},
     "output_type": "display_data"
    },
    {
     "data": {
      "application/vnd.jupyter.widget-view+json": {
       "model_id": "63dd26c1406146c0abe41d20191e719c",
       "version_major": 2,
       "version_minor": 0
      },
      "text/plain": [
       "Render HTML:   0%|          | 0/1 [00:00<?, ?it/s]"
      ]
     },
     "metadata": {},
     "output_type": "display_data"
    },
    {
     "data": {
      "application/vnd.jupyter.widget-view+json": {
       "model_id": "9efb648bd38b419895f18abb8354a847",
       "version_major": 2,
       "version_minor": 0
      },
      "text/plain": [
       "Export report to file:   0%|          | 0/1 [00:00<?, ?it/s]"
      ]
     },
     "metadata": {},
     "output_type": "display_data"
    }
   ],
   "source": [
    "profile.to_file('profile.html')"
   ]
  },
  {
   "cell_type": "markdown",
   "source": [
    "# Encoding"
   ],
   "metadata": {
    "collapsed": false
   }
  },
  {
   "cell_type": "code",
   "execution_count": 10,
   "outputs": [],
   "source": [
    "categorized_data = df[['Filial', 'Type_ts', 'passport_region', 'VIP', 'Brand', 'Model', 'GAP', 'married', 'deduct', 'deduct_amount', 'product', 'Bank', 'channel - map', 'category', 'kvs_type', 'sex']]"
   ],
   "metadata": {
    "collapsed": false
   }
  },
  {
   "cell_type": "code",
   "execution_count": 15,
   "outputs": [],
   "source": [
    "cat_cols = categorized_data.columns"
   ],
   "metadata": {
    "collapsed": false
   }
  },
  {
   "cell_type": "code",
   "execution_count": 11,
   "outputs": [],
   "source": [
    "df_encoded = pd.get_dummies(categorized_data)"
   ],
   "metadata": {
    "collapsed": false
   }
  },
  {
   "cell_type": "code",
   "execution_count": 12,
   "outputs": [
    {
     "data": {
      "text/plain": "       Filial_Белгородский  Filial_Волгоградский  Filial_Воронежский  \\\n0                    False                 False               False   \n1                    False                 False               False   \n2                    False                 False               False   \n3                    False                 False               False   \n4                    False                 False               False   \n...                    ...                   ...                 ...   \n10858                False                 False               False   \n10859                False                 False               False   \n10860                False                 False               False   \n10861                False                 False               False   \n10862                 True                 False               False   \n\n       Filial_Дальневосточный  Filial_Екатеринбургский  Filial_Ижевский  \\\n0                       False                    False            False   \n1                       False                    False            False   \n2                       False                    False            False   \n3                       False                    False            False   \n4                       False                    False            False   \n...                       ...                      ...              ...   \n10858                   False                    False            False   \n10859                   False                    False             True   \n10860                   False                    False            False   \n10861                   False                    False            False   \n10862                   False                    False            False   \n\n       Filial_Казанский  Filial_Кемеровский  Filial_Краснодарский  \\\n0                 False               False                 False   \n1                 False               False                 False   \n2                 False               False                 False   \n3                  True               False                 False   \n4                 False               False                 False   \n...                 ...                 ...                   ...   \n10858             False                True                 False   \n10859             False               False                 False   \n10860             False               False                 False   \n10861             False               False                 False   \n10862             False               False                 False   \n\n       Filial_Магнитогорский  ...  channel - map_Розница  category_NB 0-1  \\\n0                       True  ...                  False             True   \n1                       True  ...                  False            False   \n2                      False  ...                  False             True   \n3                      False  ...                  False            False   \n4                      False  ...                   True             True   \n...                      ...  ...                    ...              ...   \n10858                  False  ...                  False             True   \n10859                  False  ...                  False            False   \n10860                  False  ...                  False            False   \n10861                  False  ...                  False             True   \n10862                  False  ...                  False             True   \n\n       category_NB 2+  category_RN  category_RN sppg  \\\n0               False        False             False   \n1               False         True             False   \n2               False        False             False   \n3               False         True             False   \n4               False        False             False   \n...               ...          ...               ...   \n10858           False        False             False   \n10859           False         True             False   \n10860           False         True             False   \n10861           False        False             False   \n10862           False        False             False   \n\n       kvs_type_Водители согласно перечню  \\\n0                                    True   \n1                                    True   \n2                                    True   \n3                                    True   \n4                                    True   \n...                                   ...   \n10858                                True   \n10859                                True   \n10860                                True   \n10861                                True   \n10862                                True   \n\n       kvs_type_Ограничение по стажу и возрасту, без ограничения количества лиц  \\\n0                                                  False                          \n1                                                  False                          \n2                                                  False                          \n3                                                  False                          \n4                                                  False                          \n...                                                  ...                          \n10858                                              False                          \n10859                                              False                          \n10860                                              False                          \n10861                                              False                          \n10862                                              False                          \n\n       sex_   sex_F  sex_M  \n0      False  False   True  \n1      False  False   True  \n2      False   True  False  \n3      False  False   True  \n4      False  False   True  \n...      ...    ...    ...  \n10858  False  False   True  \n10859  False  False   True  \n10860  False   True  False  \n10861  False  False   True  \n10862  False  False   True  \n\n[10863 rows x 362 columns]",
      "text/html": "<div>\n<style scoped>\n    .dataframe tbody tr th:only-of-type {\n        vertical-align: middle;\n    }\n\n    .dataframe tbody tr th {\n        vertical-align: top;\n    }\n\n    .dataframe thead th {\n        text-align: right;\n    }\n</style>\n<table border=\"1\" class=\"dataframe\">\n  <thead>\n    <tr style=\"text-align: right;\">\n      <th></th>\n      <th>Filial_Белгородский</th>\n      <th>Filial_Волгоградский</th>\n      <th>Filial_Воронежский</th>\n      <th>Filial_Дальневосточный</th>\n      <th>Filial_Екатеринбургский</th>\n      <th>Filial_Ижевский</th>\n      <th>Filial_Казанский</th>\n      <th>Filial_Кемеровский</th>\n      <th>Filial_Краснодарский</th>\n      <th>Filial_Магнитогорский</th>\n      <th>...</th>\n      <th>channel - map_Розница</th>\n      <th>category_NB 0-1</th>\n      <th>category_NB 2+</th>\n      <th>category_RN</th>\n      <th>category_RN sppg</th>\n      <th>kvs_type_Водители согласно перечню</th>\n      <th>kvs_type_Ограничение по стажу и возрасту, без ограничения количества лиц</th>\n      <th>sex_</th>\n      <th>sex_F</th>\n      <th>sex_M</th>\n    </tr>\n  </thead>\n  <tbody>\n    <tr>\n      <th>0</th>\n      <td>False</td>\n      <td>False</td>\n      <td>False</td>\n      <td>False</td>\n      <td>False</td>\n      <td>False</td>\n      <td>False</td>\n      <td>False</td>\n      <td>False</td>\n      <td>True</td>\n      <td>...</td>\n      <td>False</td>\n      <td>True</td>\n      <td>False</td>\n      <td>False</td>\n      <td>False</td>\n      <td>True</td>\n      <td>False</td>\n      <td>False</td>\n      <td>False</td>\n      <td>True</td>\n    </tr>\n    <tr>\n      <th>1</th>\n      <td>False</td>\n      <td>False</td>\n      <td>False</td>\n      <td>False</td>\n      <td>False</td>\n      <td>False</td>\n      <td>False</td>\n      <td>False</td>\n      <td>False</td>\n      <td>True</td>\n      <td>...</td>\n      <td>False</td>\n      <td>False</td>\n      <td>False</td>\n      <td>True</td>\n      <td>False</td>\n      <td>True</td>\n      <td>False</td>\n      <td>False</td>\n      <td>False</td>\n      <td>True</td>\n    </tr>\n    <tr>\n      <th>2</th>\n      <td>False</td>\n      <td>False</td>\n      <td>False</td>\n      <td>False</td>\n      <td>False</td>\n      <td>False</td>\n      <td>False</td>\n      <td>False</td>\n      <td>False</td>\n      <td>False</td>\n      <td>...</td>\n      <td>False</td>\n      <td>True</td>\n      <td>False</td>\n      <td>False</td>\n      <td>False</td>\n      <td>True</td>\n      <td>False</td>\n      <td>False</td>\n      <td>True</td>\n      <td>False</td>\n    </tr>\n    <tr>\n      <th>3</th>\n      <td>False</td>\n      <td>False</td>\n      <td>False</td>\n      <td>False</td>\n      <td>False</td>\n      <td>False</td>\n      <td>True</td>\n      <td>False</td>\n      <td>False</td>\n      <td>False</td>\n      <td>...</td>\n      <td>False</td>\n      <td>False</td>\n      <td>False</td>\n      <td>True</td>\n      <td>False</td>\n      <td>True</td>\n      <td>False</td>\n      <td>False</td>\n      <td>False</td>\n      <td>True</td>\n    </tr>\n    <tr>\n      <th>4</th>\n      <td>False</td>\n      <td>False</td>\n      <td>False</td>\n      <td>False</td>\n      <td>False</td>\n      <td>False</td>\n      <td>False</td>\n      <td>False</td>\n      <td>False</td>\n      <td>False</td>\n      <td>...</td>\n      <td>True</td>\n      <td>True</td>\n      <td>False</td>\n      <td>False</td>\n      <td>False</td>\n      <td>True</td>\n      <td>False</td>\n      <td>False</td>\n      <td>False</td>\n      <td>True</td>\n    </tr>\n    <tr>\n      <th>...</th>\n      <td>...</td>\n      <td>...</td>\n      <td>...</td>\n      <td>...</td>\n      <td>...</td>\n      <td>...</td>\n      <td>...</td>\n      <td>...</td>\n      <td>...</td>\n      <td>...</td>\n      <td>...</td>\n      <td>...</td>\n      <td>...</td>\n      <td>...</td>\n      <td>...</td>\n      <td>...</td>\n      <td>...</td>\n      <td>...</td>\n      <td>...</td>\n      <td>...</td>\n      <td>...</td>\n    </tr>\n    <tr>\n      <th>10858</th>\n      <td>False</td>\n      <td>False</td>\n      <td>False</td>\n      <td>False</td>\n      <td>False</td>\n      <td>False</td>\n      <td>False</td>\n      <td>True</td>\n      <td>False</td>\n      <td>False</td>\n      <td>...</td>\n      <td>False</td>\n      <td>True</td>\n      <td>False</td>\n      <td>False</td>\n      <td>False</td>\n      <td>True</td>\n      <td>False</td>\n      <td>False</td>\n      <td>False</td>\n      <td>True</td>\n    </tr>\n    <tr>\n      <th>10859</th>\n      <td>False</td>\n      <td>False</td>\n      <td>False</td>\n      <td>False</td>\n      <td>False</td>\n      <td>True</td>\n      <td>False</td>\n      <td>False</td>\n      <td>False</td>\n      <td>False</td>\n      <td>...</td>\n      <td>False</td>\n      <td>False</td>\n      <td>False</td>\n      <td>True</td>\n      <td>False</td>\n      <td>True</td>\n      <td>False</td>\n      <td>False</td>\n      <td>False</td>\n      <td>True</td>\n    </tr>\n    <tr>\n      <th>10860</th>\n      <td>False</td>\n      <td>False</td>\n      <td>False</td>\n      <td>False</td>\n      <td>False</td>\n      <td>False</td>\n      <td>False</td>\n      <td>False</td>\n      <td>False</td>\n      <td>False</td>\n      <td>...</td>\n      <td>False</td>\n      <td>False</td>\n      <td>False</td>\n      <td>True</td>\n      <td>False</td>\n      <td>True</td>\n      <td>False</td>\n      <td>False</td>\n      <td>True</td>\n      <td>False</td>\n    </tr>\n    <tr>\n      <th>10861</th>\n      <td>False</td>\n      <td>False</td>\n      <td>False</td>\n      <td>False</td>\n      <td>False</td>\n      <td>False</td>\n      <td>False</td>\n      <td>False</td>\n      <td>False</td>\n      <td>False</td>\n      <td>...</td>\n      <td>False</td>\n      <td>True</td>\n      <td>False</td>\n      <td>False</td>\n      <td>False</td>\n      <td>True</td>\n      <td>False</td>\n      <td>False</td>\n      <td>False</td>\n      <td>True</td>\n    </tr>\n    <tr>\n      <th>10862</th>\n      <td>True</td>\n      <td>False</td>\n      <td>False</td>\n      <td>False</td>\n      <td>False</td>\n      <td>False</td>\n      <td>False</td>\n      <td>False</td>\n      <td>False</td>\n      <td>False</td>\n      <td>...</td>\n      <td>False</td>\n      <td>True</td>\n      <td>False</td>\n      <td>False</td>\n      <td>False</td>\n      <td>True</td>\n      <td>False</td>\n      <td>False</td>\n      <td>False</td>\n      <td>True</td>\n    </tr>\n  </tbody>\n</table>\n<p>10863 rows × 362 columns</p>\n</div>"
     },
     "execution_count": 12,
     "metadata": {},
     "output_type": "execute_result"
    }
   ],
   "source": [
    "df_encoded # TODO check hotel task"
   ],
   "metadata": {
    "collapsed": false
   }
  },
  {
   "cell_type": "code",
   "execution_count": null,
   "outputs": [],
   "source": [],
   "metadata": {
    "collapsed": false
   }
  },
  {
   "cell_type": "code",
   "execution_count": null,
   "outputs": [],
   "source": [],
   "metadata": {
    "collapsed": false
   }
  },
  {
   "cell_type": "code",
   "execution_count": null,
   "outputs": [],
   "source": [],
   "metadata": {
    "collapsed": false
   }
  },
  {
   "cell_type": "code",
   "execution_count": 9,
   "outputs": [
    {
     "data": {
      "text/plain": "ID                   int64\nFilial              object\nType_ts             object\npassport_region     object\nVIP                 object\nBrand               object\nModel               object\nYr_production        int64\nGAP                 object\nmarried             object\nKBM                  int64\nKBM_prol_est         int64\ndelta_kbm            int64\ndeduct              object\ndeduct_amount       object\nproduct             object\nBank                object\nchannel - map       object\ncategory            object\nkvs_type            object\nAge                  int64\nExp                  int64\ndiscount           float64\nAmount - gr          int64\nsex                 object\npremium_car          int64\nprice_gr             int64\nprice_prc          float64\nOSAGO_clnt           int64\ntarget               int64\ndtype: object"
     },
     "execution_count": 9,
     "metadata": {},
     "output_type": "execute_result"
    }
   ],
   "source": [
    "df.dtypes"
   ],
   "metadata": {
    "collapsed": false
   }
  },
  {
   "cell_type": "code",
   "execution_count": 8,
   "outputs": [
    {
     "data": {
      "text/plain": "          ID          Filial        Type_ts        passport_region  VIP  \\\n0          1  Магнитогорский    Иностранные    Челябинская область  NaN   \n1          2  Магнитогорский  Отечественные    Челябинская область  NaN   \n2          3      Ростовский  Отечественные     Ростовская область  NaN   \n3          4       Казанский    Иностранные   Республика Татарстан  NaN   \n4          5      Московский    Иностранные                 Москва  NaN   \n...      ...             ...            ...                    ...  ...   \n10858  10859     Кемеровский    Иностранные    Кемеровская область  NaN   \n10859  10860        Ижевский  Отечественные  Удмуртская Республика  NaN   \n10860  10861   Новосибирский    Иностранные   Белгородская область  NaN   \n10861  10862      Ростовский  Отечественные     Ростовская область  NaN   \n10862  10863    Белгородский    Иностранные   Белгородская область  NaN   \n\n         Brand           Model  Yr_production  GAP             married  ...  \\\n0       TOYOTA           RAV 4           2018  Нет     Состоит в браке  ...   \n1         LADA          GRANTA           2016  Нет     Состоит в браке  ...   \n2         LADA          GRANTA           2018  Нет  Не состоит в браке  ...   \n3          KIA             RIO           2016  Нет  Не состоит в браке  ...   \n4       DATSUN           ON-DO           2018  Нет     Состоит в браке  ...   \n...        ...             ...            ...  ...                 ...  ...   \n10858  HYUNDAI  GRAND SANTA FE           2018  Нет     Состоит в браке  ...   \n10859     LADA          GRANTA           2016  Нет  Не состоит в браке  ...   \n10860      KIA          CERATO           2017   Да     Состоит в браке  ...   \n10861     LADA          GRANTA           2018  Нет     Состоит в браке  ...   \n10862      KIA          CERATO           2018  Нет     Состоит в браке  ...   \n\n       Age  Exp  discount Amount - gr sex premium_car price_gr price_prc  \\\n0       42   24      1.00     1400000   M           0    55000     0.040   \n1       41    4      1.05      200000   M           0    10000     0.010   \n2       49   20      0.95      400000   F           0    30000     0.065   \n3       40   15      1.10      400000   M           0    10000     0.020   \n4       58   23      1.00      400000   M           0    10000     0.015   \n...    ...  ...       ...         ...  ..         ...      ...       ...   \n10858   44   21      1.00     1800000   M           0    70000     0.035   \n10859   33   15      1.00      200000   M           0    20000     0.080   \n10860   55   36      1.05      600000   F           0    10000     0.010   \n10861   60   32      1.00      400000   M           0    30000     0.050   \n10862   51   16      1.00     1000000   M           0    15000     0.015   \n\n      OSAGO_clnt target  \n0              0      0  \n1              0      0  \n2              1      1  \n3              1      0  \n4              0      0  \n...          ...    ...  \n10858          1     -1  \n10859          1     -1  \n10860          0     -1  \n10861          0     -1  \n10862          0     -1  \n\n[10863 rows x 30 columns]",
      "text/html": "<div>\n<style scoped>\n    .dataframe tbody tr th:only-of-type {\n        vertical-align: middle;\n    }\n\n    .dataframe tbody tr th {\n        vertical-align: top;\n    }\n\n    .dataframe thead th {\n        text-align: right;\n    }\n</style>\n<table border=\"1\" class=\"dataframe\">\n  <thead>\n    <tr style=\"text-align: right;\">\n      <th></th>\n      <th>ID</th>\n      <th>Filial</th>\n      <th>Type_ts</th>\n      <th>passport_region</th>\n      <th>VIP</th>\n      <th>Brand</th>\n      <th>Model</th>\n      <th>Yr_production</th>\n      <th>GAP</th>\n      <th>married</th>\n      <th>...</th>\n      <th>Age</th>\n      <th>Exp</th>\n      <th>discount</th>\n      <th>Amount - gr</th>\n      <th>sex</th>\n      <th>premium_car</th>\n      <th>price_gr</th>\n      <th>price_prc</th>\n      <th>OSAGO_clnt</th>\n      <th>target</th>\n    </tr>\n  </thead>\n  <tbody>\n    <tr>\n      <th>0</th>\n      <td>1</td>\n      <td>Магнитогорский</td>\n      <td>Иностранные</td>\n      <td>Челябинская область</td>\n      <td>NaN</td>\n      <td>TOYOTA</td>\n      <td>RAV 4</td>\n      <td>2018</td>\n      <td>Нет</td>\n      <td>Состоит в браке</td>\n      <td>...</td>\n      <td>42</td>\n      <td>24</td>\n      <td>1.00</td>\n      <td>1400000</td>\n      <td>M</td>\n      <td>0</td>\n      <td>55000</td>\n      <td>0.040</td>\n      <td>0</td>\n      <td>0</td>\n    </tr>\n    <tr>\n      <th>1</th>\n      <td>2</td>\n      <td>Магнитогорский</td>\n      <td>Отечественные</td>\n      <td>Челябинская область</td>\n      <td>NaN</td>\n      <td>LADA</td>\n      <td>GRANTA</td>\n      <td>2016</td>\n      <td>Нет</td>\n      <td>Состоит в браке</td>\n      <td>...</td>\n      <td>41</td>\n      <td>4</td>\n      <td>1.05</td>\n      <td>200000</td>\n      <td>M</td>\n      <td>0</td>\n      <td>10000</td>\n      <td>0.010</td>\n      <td>0</td>\n      <td>0</td>\n    </tr>\n    <tr>\n      <th>2</th>\n      <td>3</td>\n      <td>Ростовский</td>\n      <td>Отечественные</td>\n      <td>Ростовская область</td>\n      <td>NaN</td>\n      <td>LADA</td>\n      <td>GRANTA</td>\n      <td>2018</td>\n      <td>Нет</td>\n      <td>Не состоит в браке</td>\n      <td>...</td>\n      <td>49</td>\n      <td>20</td>\n      <td>0.95</td>\n      <td>400000</td>\n      <td>F</td>\n      <td>0</td>\n      <td>30000</td>\n      <td>0.065</td>\n      <td>1</td>\n      <td>1</td>\n    </tr>\n    <tr>\n      <th>3</th>\n      <td>4</td>\n      <td>Казанский</td>\n      <td>Иностранные</td>\n      <td>Республика Татарстан</td>\n      <td>NaN</td>\n      <td>KIA</td>\n      <td>RIO</td>\n      <td>2016</td>\n      <td>Нет</td>\n      <td>Не состоит в браке</td>\n      <td>...</td>\n      <td>40</td>\n      <td>15</td>\n      <td>1.10</td>\n      <td>400000</td>\n      <td>M</td>\n      <td>0</td>\n      <td>10000</td>\n      <td>0.020</td>\n      <td>1</td>\n      <td>0</td>\n    </tr>\n    <tr>\n      <th>4</th>\n      <td>5</td>\n      <td>Московский</td>\n      <td>Иностранные</td>\n      <td>Москва</td>\n      <td>NaN</td>\n      <td>DATSUN</td>\n      <td>ON-DO</td>\n      <td>2018</td>\n      <td>Нет</td>\n      <td>Состоит в браке</td>\n      <td>...</td>\n      <td>58</td>\n      <td>23</td>\n      <td>1.00</td>\n      <td>400000</td>\n      <td>M</td>\n      <td>0</td>\n      <td>10000</td>\n      <td>0.015</td>\n      <td>0</td>\n      <td>0</td>\n    </tr>\n    <tr>\n      <th>...</th>\n      <td>...</td>\n      <td>...</td>\n      <td>...</td>\n      <td>...</td>\n      <td>...</td>\n      <td>...</td>\n      <td>...</td>\n      <td>...</td>\n      <td>...</td>\n      <td>...</td>\n      <td>...</td>\n      <td>...</td>\n      <td>...</td>\n      <td>...</td>\n      <td>...</td>\n      <td>...</td>\n      <td>...</td>\n      <td>...</td>\n      <td>...</td>\n      <td>...</td>\n      <td>...</td>\n    </tr>\n    <tr>\n      <th>10858</th>\n      <td>10859</td>\n      <td>Кемеровский</td>\n      <td>Иностранные</td>\n      <td>Кемеровская область</td>\n      <td>NaN</td>\n      <td>HYUNDAI</td>\n      <td>GRAND SANTA FE</td>\n      <td>2018</td>\n      <td>Нет</td>\n      <td>Состоит в браке</td>\n      <td>...</td>\n      <td>44</td>\n      <td>21</td>\n      <td>1.00</td>\n      <td>1800000</td>\n      <td>M</td>\n      <td>0</td>\n      <td>70000</td>\n      <td>0.035</td>\n      <td>1</td>\n      <td>-1</td>\n    </tr>\n    <tr>\n      <th>10859</th>\n      <td>10860</td>\n      <td>Ижевский</td>\n      <td>Отечественные</td>\n      <td>Удмуртская Республика</td>\n      <td>NaN</td>\n      <td>LADA</td>\n      <td>GRANTA</td>\n      <td>2016</td>\n      <td>Нет</td>\n      <td>Не состоит в браке</td>\n      <td>...</td>\n      <td>33</td>\n      <td>15</td>\n      <td>1.00</td>\n      <td>200000</td>\n      <td>M</td>\n      <td>0</td>\n      <td>20000</td>\n      <td>0.080</td>\n      <td>1</td>\n      <td>-1</td>\n    </tr>\n    <tr>\n      <th>10860</th>\n      <td>10861</td>\n      <td>Новосибирский</td>\n      <td>Иностранные</td>\n      <td>Белгородская область</td>\n      <td>NaN</td>\n      <td>KIA</td>\n      <td>CERATO</td>\n      <td>2017</td>\n      <td>Да</td>\n      <td>Состоит в браке</td>\n      <td>...</td>\n      <td>55</td>\n      <td>36</td>\n      <td>1.05</td>\n      <td>600000</td>\n      <td>F</td>\n      <td>0</td>\n      <td>10000</td>\n      <td>0.010</td>\n      <td>0</td>\n      <td>-1</td>\n    </tr>\n    <tr>\n      <th>10861</th>\n      <td>10862</td>\n      <td>Ростовский</td>\n      <td>Отечественные</td>\n      <td>Ростовская область</td>\n      <td>NaN</td>\n      <td>LADA</td>\n      <td>GRANTA</td>\n      <td>2018</td>\n      <td>Нет</td>\n      <td>Состоит в браке</td>\n      <td>...</td>\n      <td>60</td>\n      <td>32</td>\n      <td>1.00</td>\n      <td>400000</td>\n      <td>M</td>\n      <td>0</td>\n      <td>30000</td>\n      <td>0.050</td>\n      <td>0</td>\n      <td>-1</td>\n    </tr>\n    <tr>\n      <th>10862</th>\n      <td>10863</td>\n      <td>Белгородский</td>\n      <td>Иностранные</td>\n      <td>Белгородская область</td>\n      <td>NaN</td>\n      <td>KIA</td>\n      <td>CERATO</td>\n      <td>2018</td>\n      <td>Нет</td>\n      <td>Состоит в браке</td>\n      <td>...</td>\n      <td>51</td>\n      <td>16</td>\n      <td>1.00</td>\n      <td>1000000</td>\n      <td>M</td>\n      <td>0</td>\n      <td>15000</td>\n      <td>0.015</td>\n      <td>0</td>\n      <td>-1</td>\n    </tr>\n  </tbody>\n</table>\n<p>10863 rows × 30 columns</p>\n</div>"
     },
     "execution_count": 8,
     "metadata": {},
     "output_type": "execute_result"
    }
   ],
   "source": [
    "df"
   ],
   "metadata": {
    "collapsed": false
   }
  },
  {
   "cell_type": "code",
   "execution_count": null,
   "outputs": [],
   "source": [],
   "metadata": {
    "collapsed": false
   }
  },
  {
   "cell_type": "markdown",
   "source": [
    "# Correlations"
   ],
   "metadata": {
    "collapsed": false
   }
  },
  {
   "cell_type": "code",
   "execution_count": 13,
   "outputs": [],
   "source": [
    "all_cols = df.columns"
   ],
   "metadata": {
    "collapsed": false
   }
  },
  {
   "cell_type": "code",
   "execution_count": 16,
   "outputs": [],
   "source": [
    "vect_cols = list(set(all_cols) - set(cat_cols))"
   ],
   "metadata": {
    "collapsed": false
   }
  },
  {
   "cell_type": "code",
   "execution_count": 17,
   "outputs": [],
   "source": [
    "# concat from left to right and look correlations"
   ],
   "metadata": {
    "collapsed": false
   }
  },
  {
   "cell_type": "code",
   "execution_count": null,
   "outputs": [],
   "source": [],
   "metadata": {
    "collapsed": false
   }
  },
  {
   "cell_type": "code",
   "execution_count": 7,
   "outputs": [
    {
     "data": {
      "text/plain": "          ID          Filial        Type_ts        passport_region  VIP  \\\n0          1  Магнитогорский    Иностранные    Челябинская область  NaN   \n1          2  Магнитогорский  Отечественные    Челябинская область  NaN   \n2          3      Ростовский  Отечественные     Ростовская область  NaN   \n3          4       Казанский    Иностранные   Республика Татарстан  NaN   \n4          5      Московский    Иностранные                 Москва  NaN   \n...      ...             ...            ...                    ...  ...   \n10858  10859     Кемеровский    Иностранные    Кемеровская область  NaN   \n10859  10860        Ижевский  Отечественные  Удмуртская Республика  NaN   \n10860  10861   Новосибирский    Иностранные   Белгородская область  NaN   \n10861  10862      Ростовский  Отечественные     Ростовская область  NaN   \n10862  10863    Белгородский    Иностранные   Белгородская область  NaN   \n\n         Brand           Model  Yr_production  GAP             married  ...  \\\n0       TOYOTA           RAV 4           2018  Нет     Состоит в браке  ...   \n1         LADA          GRANTA           2016  Нет     Состоит в браке  ...   \n2         LADA          GRANTA           2018  Нет  Не состоит в браке  ...   \n3          KIA             RIO           2016  Нет  Не состоит в браке  ...   \n4       DATSUN           ON-DO           2018  Нет     Состоит в браке  ...   \n...        ...             ...            ...  ...                 ...  ...   \n10858  HYUNDAI  GRAND SANTA FE           2018  Нет     Состоит в браке  ...   \n10859     LADA          GRANTA           2016  Нет  Не состоит в браке  ...   \n10860      KIA          CERATO           2017   Да     Состоит в браке  ...   \n10861     LADA          GRANTA           2018  Нет     Состоит в браке  ...   \n10862      KIA          CERATO           2018  Нет     Состоит в браке  ...   \n\n       Age  Exp  discount Amount - gr sex premium_car price_gr price_prc  \\\n0       42   24      1.00     1400000   M           0    55000     0.040   \n1       41    4      1.05      200000   M           0    10000     0.010   \n2       49   20      0.95      400000   F           0    30000     0.065   \n3       40   15      1.10      400000   M           0    10000     0.020   \n4       58   23      1.00      400000   M           0    10000     0.015   \n...    ...  ...       ...         ...  ..         ...      ...       ...   \n10858   44   21      1.00     1800000   M           0    70000     0.035   \n10859   33   15      1.00      200000   M           0    20000     0.080   \n10860   55   36      1.05      600000   F           0    10000     0.010   \n10861   60   32      1.00      400000   M           0    30000     0.050   \n10862   51   16      1.00     1000000   M           0    15000     0.015   \n\n      OSAGO_clnt target  \n0              0      0  \n1              0      0  \n2              1      1  \n3              1      0  \n4              0      0  \n...          ...    ...  \n10858          1     -1  \n10859          1     -1  \n10860          0     -1  \n10861          0     -1  \n10862          0     -1  \n\n[10863 rows x 30 columns]",
      "text/html": "<div>\n<style scoped>\n    .dataframe tbody tr th:only-of-type {\n        vertical-align: middle;\n    }\n\n    .dataframe tbody tr th {\n        vertical-align: top;\n    }\n\n    .dataframe thead th {\n        text-align: right;\n    }\n</style>\n<table border=\"1\" class=\"dataframe\">\n  <thead>\n    <tr style=\"text-align: right;\">\n      <th></th>\n      <th>ID</th>\n      <th>Filial</th>\n      <th>Type_ts</th>\n      <th>passport_region</th>\n      <th>VIP</th>\n      <th>Brand</th>\n      <th>Model</th>\n      <th>Yr_production</th>\n      <th>GAP</th>\n      <th>married</th>\n      <th>...</th>\n      <th>Age</th>\n      <th>Exp</th>\n      <th>discount</th>\n      <th>Amount - gr</th>\n      <th>sex</th>\n      <th>premium_car</th>\n      <th>price_gr</th>\n      <th>price_prc</th>\n      <th>OSAGO_clnt</th>\n      <th>target</th>\n    </tr>\n  </thead>\n  <tbody>\n    <tr>\n      <th>0</th>\n      <td>1</td>\n      <td>Магнитогорский</td>\n      <td>Иностранные</td>\n      <td>Челябинская область</td>\n      <td>NaN</td>\n      <td>TOYOTA</td>\n      <td>RAV 4</td>\n      <td>2018</td>\n      <td>Нет</td>\n      <td>Состоит в браке</td>\n      <td>...</td>\n      <td>42</td>\n      <td>24</td>\n      <td>1.00</td>\n      <td>1400000</td>\n      <td>M</td>\n      <td>0</td>\n      <td>55000</td>\n      <td>0.040</td>\n      <td>0</td>\n      <td>0</td>\n    </tr>\n    <tr>\n      <th>1</th>\n      <td>2</td>\n      <td>Магнитогорский</td>\n      <td>Отечественные</td>\n      <td>Челябинская область</td>\n      <td>NaN</td>\n      <td>LADA</td>\n      <td>GRANTA</td>\n      <td>2016</td>\n      <td>Нет</td>\n      <td>Состоит в браке</td>\n      <td>...</td>\n      <td>41</td>\n      <td>4</td>\n      <td>1.05</td>\n      <td>200000</td>\n      <td>M</td>\n      <td>0</td>\n      <td>10000</td>\n      <td>0.010</td>\n      <td>0</td>\n      <td>0</td>\n    </tr>\n    <tr>\n      <th>2</th>\n      <td>3</td>\n      <td>Ростовский</td>\n      <td>Отечественные</td>\n      <td>Ростовская область</td>\n      <td>NaN</td>\n      <td>LADA</td>\n      <td>GRANTA</td>\n      <td>2018</td>\n      <td>Нет</td>\n      <td>Не состоит в браке</td>\n      <td>...</td>\n      <td>49</td>\n      <td>20</td>\n      <td>0.95</td>\n      <td>400000</td>\n      <td>F</td>\n      <td>0</td>\n      <td>30000</td>\n      <td>0.065</td>\n      <td>1</td>\n      <td>1</td>\n    </tr>\n    <tr>\n      <th>3</th>\n      <td>4</td>\n      <td>Казанский</td>\n      <td>Иностранные</td>\n      <td>Республика Татарстан</td>\n      <td>NaN</td>\n      <td>KIA</td>\n      <td>RIO</td>\n      <td>2016</td>\n      <td>Нет</td>\n      <td>Не состоит в браке</td>\n      <td>...</td>\n      <td>40</td>\n      <td>15</td>\n      <td>1.10</td>\n      <td>400000</td>\n      <td>M</td>\n      <td>0</td>\n      <td>10000</td>\n      <td>0.020</td>\n      <td>1</td>\n      <td>0</td>\n    </tr>\n    <tr>\n      <th>4</th>\n      <td>5</td>\n      <td>Московский</td>\n      <td>Иностранные</td>\n      <td>Москва</td>\n      <td>NaN</td>\n      <td>DATSUN</td>\n      <td>ON-DO</td>\n      <td>2018</td>\n      <td>Нет</td>\n      <td>Состоит в браке</td>\n      <td>...</td>\n      <td>58</td>\n      <td>23</td>\n      <td>1.00</td>\n      <td>400000</td>\n      <td>M</td>\n      <td>0</td>\n      <td>10000</td>\n      <td>0.015</td>\n      <td>0</td>\n      <td>0</td>\n    </tr>\n    <tr>\n      <th>...</th>\n      <td>...</td>\n      <td>...</td>\n      <td>...</td>\n      <td>...</td>\n      <td>...</td>\n      <td>...</td>\n      <td>...</td>\n      <td>...</td>\n      <td>...</td>\n      <td>...</td>\n      <td>...</td>\n      <td>...</td>\n      <td>...</td>\n      <td>...</td>\n      <td>...</td>\n      <td>...</td>\n      <td>...</td>\n      <td>...</td>\n      <td>...</td>\n      <td>...</td>\n      <td>...</td>\n    </tr>\n    <tr>\n      <th>10858</th>\n      <td>10859</td>\n      <td>Кемеровский</td>\n      <td>Иностранные</td>\n      <td>Кемеровская область</td>\n      <td>NaN</td>\n      <td>HYUNDAI</td>\n      <td>GRAND SANTA FE</td>\n      <td>2018</td>\n      <td>Нет</td>\n      <td>Состоит в браке</td>\n      <td>...</td>\n      <td>44</td>\n      <td>21</td>\n      <td>1.00</td>\n      <td>1800000</td>\n      <td>M</td>\n      <td>0</td>\n      <td>70000</td>\n      <td>0.035</td>\n      <td>1</td>\n      <td>-1</td>\n    </tr>\n    <tr>\n      <th>10859</th>\n      <td>10860</td>\n      <td>Ижевский</td>\n      <td>Отечественные</td>\n      <td>Удмуртская Республика</td>\n      <td>NaN</td>\n      <td>LADA</td>\n      <td>GRANTA</td>\n      <td>2016</td>\n      <td>Нет</td>\n      <td>Не состоит в браке</td>\n      <td>...</td>\n      <td>33</td>\n      <td>15</td>\n      <td>1.00</td>\n      <td>200000</td>\n      <td>M</td>\n      <td>0</td>\n      <td>20000</td>\n      <td>0.080</td>\n      <td>1</td>\n      <td>-1</td>\n    </tr>\n    <tr>\n      <th>10860</th>\n      <td>10861</td>\n      <td>Новосибирский</td>\n      <td>Иностранные</td>\n      <td>Белгородская область</td>\n      <td>NaN</td>\n      <td>KIA</td>\n      <td>CERATO</td>\n      <td>2017</td>\n      <td>Да</td>\n      <td>Состоит в браке</td>\n      <td>...</td>\n      <td>55</td>\n      <td>36</td>\n      <td>1.05</td>\n      <td>600000</td>\n      <td>F</td>\n      <td>0</td>\n      <td>10000</td>\n      <td>0.010</td>\n      <td>0</td>\n      <td>-1</td>\n    </tr>\n    <tr>\n      <th>10861</th>\n      <td>10862</td>\n      <td>Ростовский</td>\n      <td>Отечественные</td>\n      <td>Ростовская область</td>\n      <td>NaN</td>\n      <td>LADA</td>\n      <td>GRANTA</td>\n      <td>2018</td>\n      <td>Нет</td>\n      <td>Состоит в браке</td>\n      <td>...</td>\n      <td>60</td>\n      <td>32</td>\n      <td>1.00</td>\n      <td>400000</td>\n      <td>M</td>\n      <td>0</td>\n      <td>30000</td>\n      <td>0.050</td>\n      <td>0</td>\n      <td>-1</td>\n    </tr>\n    <tr>\n      <th>10862</th>\n      <td>10863</td>\n      <td>Белгородский</td>\n      <td>Иностранные</td>\n      <td>Белгородская область</td>\n      <td>NaN</td>\n      <td>KIA</td>\n      <td>CERATO</td>\n      <td>2018</td>\n      <td>Нет</td>\n      <td>Состоит в браке</td>\n      <td>...</td>\n      <td>51</td>\n      <td>16</td>\n      <td>1.00</td>\n      <td>1000000</td>\n      <td>M</td>\n      <td>0</td>\n      <td>15000</td>\n      <td>0.015</td>\n      <td>0</td>\n      <td>-1</td>\n    </tr>\n  </tbody>\n</table>\n<p>10863 rows × 30 columns</p>\n</div>"
     },
     "execution_count": 7,
     "metadata": {},
     "output_type": "execute_result"
    }
   ],
   "source": [
    "df"
   ],
   "metadata": {
    "collapsed": false
   }
  },
  {
   "cell_type": "code",
   "execution_count": null,
   "outputs": [],
   "source": [],
   "metadata": {
    "collapsed": false,
    "pycharm": {
     "is_executing": true
    }
   }
  },
  {
   "cell_type": "code",
   "execution_count": null,
   "outputs": [],
   "source": [],
   "metadata": {
    "collapsed": false,
    "pycharm": {
     "is_executing": true
    }
   }
  },
  {
   "cell_type": "code",
   "execution_count": 3,
   "outputs": [],
   "source": [],
   "metadata": {
    "collapsed": false
   }
  }
 ],
 "metadata": {
  "kernelspec": {
   "display_name": "insurance_task",
   "language": "python",
   "name": "insurance_task"
  },
  "language_info": {
   "codemirror_mode": {
    "name": "ipython",
    "version": 3
   },
   "file_extension": ".py",
   "mimetype": "text/x-python",
   "name": "python",
   "nbconvert_exporter": "python",
   "pygments_lexer": "ipython3",
   "version": "3.11.6"
  }
 },
 "nbformat": 4,
 "nbformat_minor": 5
}
