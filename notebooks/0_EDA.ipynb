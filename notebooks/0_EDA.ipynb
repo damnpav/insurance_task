{
 "cells": [
  {
   "cell_type": "code",
   "execution_count": 1,
   "id": "e9d45596-4934-418f-ba3e-e1bc45c8cc2f",
   "metadata": {},
   "outputs": [],
   "source": [
    "import pandas as pd\n",
    "from glob import glob"
   ]
  },
  {
   "cell_type": "code",
   "execution_count": 5,
   "id": "2fc520db-a716-40a0-bdf9-2951fc2bdfd3",
   "metadata": {},
   "outputs": [],
   "source": [
    "from ydata_profiling import ProfileReport"
   ]
  },
  {
   "cell_type": "code",
   "execution_count": 2,
   "id": "97e5b281-fa0d-40a3-9522-21b97020848a",
   "metadata": {},
   "outputs": [
    {
     "data": {
      "text/plain": [
       "['../data/Задание (пролонгация).xlsx']"
      ]
     },
     "execution_count": 2,
     "metadata": {},
     "output_type": "execute_result"
    }
   ],
   "source": [
    "glob('../data/*')"
   ]
  },
  {
   "cell_type": "code",
   "execution_count": 3,
   "id": "ed04bcc9-e02d-49ce-9a41-e4015998faa2",
   "metadata": {},
   "outputs": [],
   "source": [
    "df = pd.read_excel('../data/Задание (пролонгация).xlsx', sheet_name='data_full')"
   ]
  },
  {
   "cell_type": "code",
   "execution_count": 6,
   "id": "f71de552-3c31-4d95-b4ae-21c38cf6d2a8",
   "metadata": {},
   "outputs": [
    {
     "data": {
      "text/plain": [
       "ID                   int64\n",
       "Filial              object\n",
       "Type_ts             object\n",
       "passport_region     object\n",
       "VIP                 object\n",
       "Brand               object\n",
       "Model               object\n",
       "Yr_production        int64\n",
       "GAP                 object\n",
       "married             object\n",
       "KBM                  int64\n",
       "KBM_prol_est         int64\n",
       "delta_kbm            int64\n",
       "deduct              object\n",
       "deduct_amount       object\n",
       "product             object\n",
       "Bank                object\n",
       "channel - map       object\n",
       "category            object\n",
       "kvs_type            object\n",
       "Age                  int64\n",
       "Exp                  int64\n",
       "discount           float64\n",
       "Amount - gr          int64\n",
       "sex                 object\n",
       "premium_car          int64\n",
       "price_gr             int64\n",
       "price_prc          float64\n",
       "OSAGO_clnt           int64\n",
       "target               int64\n",
       "dtype: object"
      ]
     },
     "execution_count": 6,
     "metadata": {},
     "output_type": "execute_result"
    }
   ],
   "source": [
    "df.dtypes"
   ]
  },
  {
   "cell_type": "code",
   "execution_count": null,
   "id": "360e28b7-83d3-4688-b866-97caec56f1fa",
   "metadata": {},
   "outputs": [],
   "source": []
  },
  {
   "cell_type": "markdown",
   "id": "1eabcb41-5c5d-4918-8c80-84f396d8673f",
   "metadata": {},
   "source": [
    "# Profiling"
   ]
  },
  {
   "cell_type": "code",
   "execution_count": 7,
   "id": "dc0653a5-d9f3-44ae-be99-68f3c9afbad0",
   "metadata": {},
   "outputs": [],
   "source": [
    "profile = ProfileReport(df, title=\"Insurance Data\")"
   ]
  },
  {
   "cell_type": "code",
   "execution_count": null,
   "id": "f8a33cec-bdd4-4bf3-b8a1-522885c690bc",
   "metadata": {},
   "outputs": [],
   "source": [
    "profile"
   ]
  },
  {
   "cell_type": "code",
   "execution_count": null,
   "id": "f93a192d-5a36-4544-b3d5-31caded8ed6d",
   "metadata": {},
   "outputs": [],
   "source": []
  }
 ],
 "metadata": {
  "kernelspec": {
   "display_name": "insurance_task",
   "language": "python",
   "name": "insurance_task"
  },
  "language_info": {
   "codemirror_mode": {
    "name": "ipython",
    "version": 3
   },
   "file_extension": ".py",
   "mimetype": "text/x-python",
   "name": "python",
   "nbconvert_exporter": "python",
   "pygments_lexer": "ipython3",
   "version": "3.11.6"
  }
 },
 "nbformat": 4,
 "nbformat_minor": 5
}
