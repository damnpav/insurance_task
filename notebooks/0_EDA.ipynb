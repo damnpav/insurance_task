{
 "cells": [
  {
   "cell_type": "code",
   "execution_count": 1,
   "id": "e9d45596-4934-418f-ba3e-e1bc45c8cc2f",
   "metadata": {},
   "outputs": [],
   "source": [
    "import pandas as pd\n",
    "from glob import glob"
   ]
  },
  {
   "cell_type": "code",
   "execution_count": 2,
   "outputs": [],
   "source": [
    "import plotly.graph_objects as go\n",
    "from plotly.subplots import make_subplots\n",
    "import plotly.io as pio"
   ],
   "metadata": {
    "collapsed": false
   }
  },
  {
   "cell_type": "code",
   "execution_count": 3,
   "outputs": [],
   "source": [
    "from tqdm import tqdm"
   ],
   "metadata": {
    "collapsed": false
   }
  },
  {
   "cell_type": "code",
   "execution_count": 4,
   "outputs": [],
   "source": [
    "import numpy as np"
   ],
   "metadata": {
    "collapsed": false
   }
  },
  {
   "cell_type": "code",
   "execution_count": 5,
   "id": "2fc520db-a716-40a0-bdf9-2951fc2bdfd3",
   "metadata": {},
   "outputs": [],
   "source": [
    "from ydata_profiling import ProfileReport"
   ]
  },
  {
   "cell_type": "code",
   "execution_count": 2,
   "id": "97e5b281-fa0d-40a3-9522-21b97020848a",
   "metadata": {},
   "outputs": [
    {
     "data": {
      "text/plain": [
       "['../data/Задание (пролонгация).xlsx']"
      ]
     },
     "execution_count": 2,
     "metadata": {},
     "output_type": "execute_result"
    }
   ],
   "source": [
    "glob('../data/*')"
   ]
  },
  {
   "cell_type": "code",
   "execution_count": 5,
   "id": "ed04bcc9-e02d-49ce-9a41-e4015998faa2",
   "metadata": {},
   "outputs": [],
   "source": [
    "df = pd.read_excel('../data/Задание (пролонгация).xlsx', sheet_name='data_full')"
   ]
  },
  {
   "cell_type": "code",
   "execution_count": 3,
   "id": "f71de552-3c31-4d95-b4ae-21c38cf6d2a8",
   "metadata": {},
   "outputs": [
    {
     "data": {
      "text/plain": "ID                   int64\nFilial              object\nType_ts             object\npassport_region     object\nVIP                 object\nBrand               object\nModel               object\nYr_production        int64\nGAP                 object\nmarried             object\nKBM                  int64\nKBM_prol_est         int64\ndelta_kbm            int64\ndeduct              object\ndeduct_amount       object\nproduct             object\nBank                object\nchannel - map       object\ncategory            object\nkvs_type            object\nAge                  int64\nExp                  int64\ndiscount           float64\nAmount - gr          int64\nsex                 object\npremium_car          int64\nprice_gr             int64\nprice_prc          float64\nOSAGO_clnt           int64\ntarget               int64\ndtype: object"
     },
     "execution_count": 3,
     "metadata": {},
     "output_type": "execute_result"
    }
   ],
   "source": [
    "df.dtypes"
   ]
  },
  {
   "cell_type": "markdown",
   "source": [
    "# ToDo"
   ],
   "metadata": {
    "collapsed": false
   }
  },
  {
   "cell_type": "markdown",
   "source": [
    "ToDo:\n",
    "\n",
    "matrixs of percetage differences between features from view of subsets of target\n",
    "for categorical and numerical features\n",
    "count means and medians of deltas select outliers\n",
    "ChiSquare Test"
   ],
   "metadata": {
    "collapsed": false
   }
  },
  {
   "cell_type": "code",
   "execution_count": null,
   "outputs": [],
   "source": [],
   "metadata": {
    "collapsed": false
   }
  },
  {
   "cell_type": "code",
   "execution_count": null,
   "outputs": [],
   "source": [],
   "metadata": {
    "collapsed": false
   }
  },
  {
   "cell_type": "code",
   "execution_count": null,
   "id": "360e28b7-83d3-4688-b866-97caec56f1fa",
   "metadata": {},
   "outputs": [],
   "source": []
  },
  {
   "cell_type": "markdown",
   "id": "1eabcb41-5c5d-4918-8c80-84f396d8673f",
   "metadata": {},
   "source": [
    "# Profiling"
   ]
  },
  {
   "cell_type": "code",
   "execution_count": 7,
   "id": "dc0653a5-d9f3-44ae-be99-68f3c9afbad0",
   "metadata": {},
   "outputs": [],
   "source": [
    "profile = ProfileReport(df, title=\"Insurance Data\")"
   ]
  },
  {
   "cell_type": "code",
   "execution_count": 8,
   "id": "f8a33cec-bdd4-4bf3-b8a1-522885c690bc",
   "metadata": {},
   "outputs": [
    {
     "data": {
      "application/vnd.jupyter.widget-view+json": {
       "model_id": "4e8052ba353e445088cc89107944164b",
       "version_major": 2,
       "version_minor": 0
      },
      "text/plain": [
       "Summarize dataset:   0%|          | 0/5 [00:00<?, ?it/s]"
      ]
     },
     "metadata": {},
     "output_type": "display_data"
    },
    {
     "name": "stderr",
     "output_type": "stream",
     "text": [
      "/Users/dp_user/PycharmProjects/insurance_task/venv/lib/python3.11/site-packages/ydata_profiling/model/correlations.py:66: UserWarning: There was an attempt to calculate the auto correlation, but this failed.\n",
      "To hide this warning, disable the calculation\n",
      "(using `df.profile_report(correlations={\"auto\": {\"calculate\": False}})`\n",
      "If this is problematic for your use case, please report this as an issue:\n",
      "https://github.com/ydataai/ydata-profiling/issues\n",
      "(include the error message: 'could not convert string to float: 'Банк'')\n",
      "  warnings.warn(\n"
     ]
    },
    {
     "data": {
      "application/vnd.jupyter.widget-view+json": {
       "model_id": "b168b89899e247dbad6c04d668d9803b",
       "version_major": 2,
       "version_minor": 0
      },
      "text/plain": [
       "Generate report structure:   0%|          | 0/1 [00:00<?, ?it/s]"
      ]
     },
     "metadata": {},
     "output_type": "display_data"
    },
    {
     "data": {
      "application/vnd.jupyter.widget-view+json": {
       "model_id": "63dd26c1406146c0abe41d20191e719c",
       "version_major": 2,
       "version_minor": 0
      },
      "text/plain": [
       "Render HTML:   0%|          | 0/1 [00:00<?, ?it/s]"
      ]
     },
     "metadata": {},
     "output_type": "display_data"
    },
    {
     "data": {
      "application/vnd.jupyter.widget-view+json": {
       "model_id": "9efb648bd38b419895f18abb8354a847",
       "version_major": 2,
       "version_minor": 0
      },
      "text/plain": [
       "Export report to file:   0%|          | 0/1 [00:00<?, ?it/s]"
      ]
     },
     "metadata": {},
     "output_type": "display_data"
    }
   ],
   "source": [
    "profile.to_file('profile.html')"
   ]
  },
  {
   "cell_type": "markdown",
   "source": [
    "# Encoding"
   ],
   "metadata": {
    "collapsed": false
   }
  },
  {
   "cell_type": "code",
   "execution_count": 8,
   "outputs": [],
   "source": [
    "categorized_data = df[['Filial', 'Type_ts', 'passport_region', 'VIP', 'Brand', 'Model', 'GAP', 'married', 'deduct', 'deduct_amount', 'product', 'Bank', 'channel - map', 'category', 'kvs_type', 'sex']]"
   ],
   "metadata": {
    "collapsed": false
   }
  },
  {
   "cell_type": "code",
   "execution_count": 9,
   "outputs": [],
   "source": [
    "cat_cols = categorized_data.columns"
   ],
   "metadata": {
    "collapsed": false
   }
  },
  {
   "cell_type": "code",
   "execution_count": 5,
   "outputs": [],
   "source": [
    "df_encoded = pd.get_dummies(categorized_data)"
   ],
   "metadata": {
    "collapsed": false
   }
  },
  {
   "cell_type": "code",
   "execution_count": 12,
   "outputs": [
    {
     "data": {
      "text/plain": "       Filial_Белгородский  Filial_Волгоградский  Filial_Воронежский  \\\n0                    False                 False               False   \n1                    False                 False               False   \n2                    False                 False               False   \n3                    False                 False               False   \n4                    False                 False               False   \n...                    ...                   ...                 ...   \n10858                False                 False               False   \n10859                False                 False               False   \n10860                False                 False               False   \n10861                False                 False               False   \n10862                 True                 False               False   \n\n       Filial_Дальневосточный  Filial_Екатеринбургский  Filial_Ижевский  \\\n0                       False                    False            False   \n1                       False                    False            False   \n2                       False                    False            False   \n3                       False                    False            False   \n4                       False                    False            False   \n...                       ...                      ...              ...   \n10858                   False                    False            False   \n10859                   False                    False             True   \n10860                   False                    False            False   \n10861                   False                    False            False   \n10862                   False                    False            False   \n\n       Filial_Казанский  Filial_Кемеровский  Filial_Краснодарский  \\\n0                 False               False                 False   \n1                 False               False                 False   \n2                 False               False                 False   \n3                  True               False                 False   \n4                 False               False                 False   \n...                 ...                 ...                   ...   \n10858             False                True                 False   \n10859             False               False                 False   \n10860             False               False                 False   \n10861             False               False                 False   \n10862             False               False                 False   \n\n       Filial_Магнитогорский  ...  channel - map_Розница  category_NB 0-1  \\\n0                       True  ...                  False             True   \n1                       True  ...                  False            False   \n2                      False  ...                  False             True   \n3                      False  ...                  False            False   \n4                      False  ...                   True             True   \n...                      ...  ...                    ...              ...   \n10858                  False  ...                  False             True   \n10859                  False  ...                  False            False   \n10860                  False  ...                  False            False   \n10861                  False  ...                  False             True   \n10862                  False  ...                  False             True   \n\n       category_NB 2+  category_RN  category_RN sppg  \\\n0               False        False             False   \n1               False         True             False   \n2               False        False             False   \n3               False         True             False   \n4               False        False             False   \n...               ...          ...               ...   \n10858           False        False             False   \n10859           False         True             False   \n10860           False         True             False   \n10861           False        False             False   \n10862           False        False             False   \n\n       kvs_type_Водители согласно перечню  \\\n0                                    True   \n1                                    True   \n2                                    True   \n3                                    True   \n4                                    True   \n...                                   ...   \n10858                                True   \n10859                                True   \n10860                                True   \n10861                                True   \n10862                                True   \n\n       kvs_type_Ограничение по стажу и возрасту, без ограничения количества лиц  \\\n0                                                  False                          \n1                                                  False                          \n2                                                  False                          \n3                                                  False                          \n4                                                  False                          \n...                                                  ...                          \n10858                                              False                          \n10859                                              False                          \n10860                                              False                          \n10861                                              False                          \n10862                                              False                          \n\n       sex_   sex_F  sex_M  \n0      False  False   True  \n1      False  False   True  \n2      False   True  False  \n3      False  False   True  \n4      False  False   True  \n...      ...    ...    ...  \n10858  False  False   True  \n10859  False  False   True  \n10860  False   True  False  \n10861  False  False   True  \n10862  False  False   True  \n\n[10863 rows x 362 columns]",
      "text/html": "<div>\n<style scoped>\n    .dataframe tbody tr th:only-of-type {\n        vertical-align: middle;\n    }\n\n    .dataframe tbody tr th {\n        vertical-align: top;\n    }\n\n    .dataframe thead th {\n        text-align: right;\n    }\n</style>\n<table border=\"1\" class=\"dataframe\">\n  <thead>\n    <tr style=\"text-align: right;\">\n      <th></th>\n      <th>Filial_Белгородский</th>\n      <th>Filial_Волгоградский</th>\n      <th>Filial_Воронежский</th>\n      <th>Filial_Дальневосточный</th>\n      <th>Filial_Екатеринбургский</th>\n      <th>Filial_Ижевский</th>\n      <th>Filial_Казанский</th>\n      <th>Filial_Кемеровский</th>\n      <th>Filial_Краснодарский</th>\n      <th>Filial_Магнитогорский</th>\n      <th>...</th>\n      <th>channel - map_Розница</th>\n      <th>category_NB 0-1</th>\n      <th>category_NB 2+</th>\n      <th>category_RN</th>\n      <th>category_RN sppg</th>\n      <th>kvs_type_Водители согласно перечню</th>\n      <th>kvs_type_Ограничение по стажу и возрасту, без ограничения количества лиц</th>\n      <th>sex_</th>\n      <th>sex_F</th>\n      <th>sex_M</th>\n    </tr>\n  </thead>\n  <tbody>\n    <tr>\n      <th>0</th>\n      <td>False</td>\n      <td>False</td>\n      <td>False</td>\n      <td>False</td>\n      <td>False</td>\n      <td>False</td>\n      <td>False</td>\n      <td>False</td>\n      <td>False</td>\n      <td>True</td>\n      <td>...</td>\n      <td>False</td>\n      <td>True</td>\n      <td>False</td>\n      <td>False</td>\n      <td>False</td>\n      <td>True</td>\n      <td>False</td>\n      <td>False</td>\n      <td>False</td>\n      <td>True</td>\n    </tr>\n    <tr>\n      <th>1</th>\n      <td>False</td>\n      <td>False</td>\n      <td>False</td>\n      <td>False</td>\n      <td>False</td>\n      <td>False</td>\n      <td>False</td>\n      <td>False</td>\n      <td>False</td>\n      <td>True</td>\n      <td>...</td>\n      <td>False</td>\n      <td>False</td>\n      <td>False</td>\n      <td>True</td>\n      <td>False</td>\n      <td>True</td>\n      <td>False</td>\n      <td>False</td>\n      <td>False</td>\n      <td>True</td>\n    </tr>\n    <tr>\n      <th>2</th>\n      <td>False</td>\n      <td>False</td>\n      <td>False</td>\n      <td>False</td>\n      <td>False</td>\n      <td>False</td>\n      <td>False</td>\n      <td>False</td>\n      <td>False</td>\n      <td>False</td>\n      <td>...</td>\n      <td>False</td>\n      <td>True</td>\n      <td>False</td>\n      <td>False</td>\n      <td>False</td>\n      <td>True</td>\n      <td>False</td>\n      <td>False</td>\n      <td>True</td>\n      <td>False</td>\n    </tr>\n    <tr>\n      <th>3</th>\n      <td>False</td>\n      <td>False</td>\n      <td>False</td>\n      <td>False</td>\n      <td>False</td>\n      <td>False</td>\n      <td>True</td>\n      <td>False</td>\n      <td>False</td>\n      <td>False</td>\n      <td>...</td>\n      <td>False</td>\n      <td>False</td>\n      <td>False</td>\n      <td>True</td>\n      <td>False</td>\n      <td>True</td>\n      <td>False</td>\n      <td>False</td>\n      <td>False</td>\n      <td>True</td>\n    </tr>\n    <tr>\n      <th>4</th>\n      <td>False</td>\n      <td>False</td>\n      <td>False</td>\n      <td>False</td>\n      <td>False</td>\n      <td>False</td>\n      <td>False</td>\n      <td>False</td>\n      <td>False</td>\n      <td>False</td>\n      <td>...</td>\n      <td>True</td>\n      <td>True</td>\n      <td>False</td>\n      <td>False</td>\n      <td>False</td>\n      <td>True</td>\n      <td>False</td>\n      <td>False</td>\n      <td>False</td>\n      <td>True</td>\n    </tr>\n    <tr>\n      <th>...</th>\n      <td>...</td>\n      <td>...</td>\n      <td>...</td>\n      <td>...</td>\n      <td>...</td>\n      <td>...</td>\n      <td>...</td>\n      <td>...</td>\n      <td>...</td>\n      <td>...</td>\n      <td>...</td>\n      <td>...</td>\n      <td>...</td>\n      <td>...</td>\n      <td>...</td>\n      <td>...</td>\n      <td>...</td>\n      <td>...</td>\n      <td>...</td>\n      <td>...</td>\n      <td>...</td>\n    </tr>\n    <tr>\n      <th>10858</th>\n      <td>False</td>\n      <td>False</td>\n      <td>False</td>\n      <td>False</td>\n      <td>False</td>\n      <td>False</td>\n      <td>False</td>\n      <td>True</td>\n      <td>False</td>\n      <td>False</td>\n      <td>...</td>\n      <td>False</td>\n      <td>True</td>\n      <td>False</td>\n      <td>False</td>\n      <td>False</td>\n      <td>True</td>\n      <td>False</td>\n      <td>False</td>\n      <td>False</td>\n      <td>True</td>\n    </tr>\n    <tr>\n      <th>10859</th>\n      <td>False</td>\n      <td>False</td>\n      <td>False</td>\n      <td>False</td>\n      <td>False</td>\n      <td>True</td>\n      <td>False</td>\n      <td>False</td>\n      <td>False</td>\n      <td>False</td>\n      <td>...</td>\n      <td>False</td>\n      <td>False</td>\n      <td>False</td>\n      <td>True</td>\n      <td>False</td>\n      <td>True</td>\n      <td>False</td>\n      <td>False</td>\n      <td>False</td>\n      <td>True</td>\n    </tr>\n    <tr>\n      <th>10860</th>\n      <td>False</td>\n      <td>False</td>\n      <td>False</td>\n      <td>False</td>\n      <td>False</td>\n      <td>False</td>\n      <td>False</td>\n      <td>False</td>\n      <td>False</td>\n      <td>False</td>\n      <td>...</td>\n      <td>False</td>\n      <td>False</td>\n      <td>False</td>\n      <td>True</td>\n      <td>False</td>\n      <td>True</td>\n      <td>False</td>\n      <td>False</td>\n      <td>True</td>\n      <td>False</td>\n    </tr>\n    <tr>\n      <th>10861</th>\n      <td>False</td>\n      <td>False</td>\n      <td>False</td>\n      <td>False</td>\n      <td>False</td>\n      <td>False</td>\n      <td>False</td>\n      <td>False</td>\n      <td>False</td>\n      <td>False</td>\n      <td>...</td>\n      <td>False</td>\n      <td>True</td>\n      <td>False</td>\n      <td>False</td>\n      <td>False</td>\n      <td>True</td>\n      <td>False</td>\n      <td>False</td>\n      <td>False</td>\n      <td>True</td>\n    </tr>\n    <tr>\n      <th>10862</th>\n      <td>True</td>\n      <td>False</td>\n      <td>False</td>\n      <td>False</td>\n      <td>False</td>\n      <td>False</td>\n      <td>False</td>\n      <td>False</td>\n      <td>False</td>\n      <td>False</td>\n      <td>...</td>\n      <td>False</td>\n      <td>True</td>\n      <td>False</td>\n      <td>False</td>\n      <td>False</td>\n      <td>True</td>\n      <td>False</td>\n      <td>False</td>\n      <td>False</td>\n      <td>True</td>\n    </tr>\n  </tbody>\n</table>\n<p>10863 rows × 362 columns</p>\n</div>"
     },
     "execution_count": 12,
     "metadata": {},
     "output_type": "execute_result"
    }
   ],
   "source": [
    "df_encoded # TODO check hotel task"
   ],
   "metadata": {
    "collapsed": false
   }
  },
  {
   "cell_type": "markdown",
   "source": [
    "# Correlations"
   ],
   "metadata": {
    "collapsed": false
   }
  },
  {
   "cell_type": "code",
   "execution_count": 10,
   "outputs": [],
   "source": [
    "all_cols = df.columns"
   ],
   "metadata": {
    "collapsed": false
   }
  },
  {
   "cell_type": "code",
   "execution_count": 11,
   "outputs": [],
   "source": [
    "vect_cols = list(set(all_cols) - set(cat_cols))"
   ],
   "metadata": {
    "collapsed": false
   }
  },
  {
   "cell_type": "code",
   "execution_count": 8,
   "outputs": [],
   "source": [
    "concat_df = pd.concat([df_encoded, df[vect_cols]], axis=1)"
   ],
   "metadata": {
    "collapsed": false
   }
  },
  {
   "cell_type": "code",
   "execution_count": 26,
   "outputs": [],
   "source": [
    "correlated_matrix = concat_df.corr()"
   ],
   "metadata": {
    "collapsed": false
   }
  },
  {
   "cell_type": "code",
   "execution_count": 39,
   "outputs": [
    {
     "data": {
      "text/plain": "                         Filial_Белгородский  Filial_Волгоградский  \\\nFilial_Белгородский                 1.000000             -0.019284   \nFilial_Волгоградский               -0.019284              1.000000   \nFilial_Воронежский                 -0.027883             -0.031554   \nFilial_Дальневосточный             -0.010283             -0.011638   \nFilial_Екатеринбургский            -0.019746             -0.022346   \n...                                      ...                   ...   \npremium_car                        -0.022638             -0.043478   \ndelta_kbm                           0.011379              0.011993   \nAmount - gr                        -0.015339             -0.081093   \nID                                 -0.003971              0.007340   \ntarget                              0.004972             -0.003495   \n\n                         Filial_Воронежский  Filial_Дальневосточный  \\\nFilial_Белгородский               -0.027883               -0.010283   \nFilial_Волгоградский              -0.031554               -0.011638   \nFilial_Воронежский                 1.000000               -0.016827   \nFilial_Дальневосточный            -0.016827                1.000000   \nFilial_Екатеринбургский           -0.032310               -0.011916   \n...                                     ...                     ...   \npremium_car                        0.027991                0.117125   \ndelta_kbm                          0.020645                0.008470   \nAmount - gr                       -0.027330                0.123960   \nID                                -0.009128               -0.003557   \ntarget                             0.013831                0.009049   \n\n                         Filial_Екатеринбургский  Filial_Ижевский  \\\nFilial_Белгородский                    -0.019746        -0.021076   \nFilial_Волгоградский                   -0.022346        -0.023852   \nFilial_Воронежский                     -0.032310        -0.034488   \nFilial_Дальневосточный                 -0.011916        -0.012720   \nFilial_Екатеринбургский                 1.000000        -0.024424   \n...                                          ...              ...   \npremium_car                            -0.029199        -0.043771   \ndelta_kbm                              -0.008033         0.012743   \nAmount - gr                            -0.049315        -0.118844   \nID                                      0.005175        -0.018019   \ntarget                                 -0.007849         0.008737   \n\n                         Filial_Казанский  Filial_Кемеровский  \\\nFilial_Белгородский             -0.026211           -0.016508   \nFilial_Волгоградский            -0.029662           -0.018682   \nFilial_Воронежский              -0.042890           -0.027013   \nFilial_Дальневосточный          -0.015818           -0.009963   \nFilial_Екатеринбургский         -0.030373           -0.019130   \n...                                   ...                 ...   \npremium_car                     -0.038523           -0.018206   \ndelta_kbm                        0.025619            0.006050   \nAmount - gr                     -0.058595           -0.025899   \nID                              -0.009277            0.009475   \ntarget                          -0.016256           -0.011308   \n\n                         Filial_Краснодарский  Filial_Магнитогорский  ...  \\\nFilial_Белгородский                 -0.044982              -0.023285  ...   \nFilial_Волгоградский                -0.050905              -0.026352  ...   \nFilial_Воронежский                  -0.073605              -0.038102  ...   \nFilial_Дальневосточный              -0.027146              -0.014053  ...   \nFilial_Екатеринбургский             -0.052125              -0.026983  ...   \n...                                       ...                    ...  ...   \npremium_car                          0.000177              -0.043912  ...   \ndelta_kbm                            0.053970               0.013970  ...   \nAmount - gr                          0.033638              -0.073531  ...   \nID                                   0.023158              -0.007385  ...   \ntarget                              -0.065656              -0.015224  ...   \n\n                         price_gr       Age  KBM_prol_est  Yr_production  \\\nFilial_Белгородский     -0.045829 -0.014397      0.006749       0.018924   \nFilial_Волгоградский    -0.075183  0.018680     -0.039061       0.011436   \nFilial_Воронежский      -0.056657  0.022363     -0.030092       0.019273   \nFilial_Дальневосточный   0.081690  0.017597     -0.002121      -0.028907   \nFilial_Екатеринбургский -0.025267  0.009494     -0.024613      -0.013513   \n...                           ...       ...           ...            ...   \npremium_car              0.462104 -0.019621     -0.076076      -0.132024   \ndelta_kbm                0.106943 -0.094756      0.547567       0.517995   \nAmount - gr              0.748633 -0.024976      0.126692       0.188388   \nID                       0.004579 -0.016180      0.002070      -0.001090   \ntarget                  -0.029713  0.039642     -0.120213      -0.099643   \n\n                              KBM  premium_car  delta_kbm  Amount - gr  \\\nFilial_Белгородский      0.009448    -0.022638   0.011379    -0.015339   \nFilial_Волгоградский    -0.029344    -0.043478   0.011993    -0.081093   \nFilial_Воронежский      -0.020812     0.027991   0.020645    -0.027330   \nFilial_Дальневосточный  -0.007906     0.117125   0.008470     0.123960   \nFilial_Екатеринбургский -0.021773    -0.029199  -0.008033    -0.049315   \n...                           ...          ...        ...          ...   \npremium_car             -0.081302     1.000000  -0.010982     0.648480   \ndelta_kbm                0.667156    -0.010982   1.000000     0.105991   \nAmount - gr              0.116285     0.648480   0.105991     1.000000   \nID                      -0.002064    -0.001005  -0.004999    -0.000913   \ntarget                  -0.117121     0.037381  -0.055344     0.024865   \n\n                               ID    target  \nFilial_Белгородский     -0.003971  0.004972  \nFilial_Волгоградский     0.007340 -0.003495  \nFilial_Воронежский      -0.009128  0.013831  \nFilial_Дальневосточный  -0.003557  0.009049  \nFilial_Екатеринбургский  0.005175 -0.007849  \n...                           ...       ...  \npremium_car             -0.001005  0.037381  \ndelta_kbm               -0.004999 -0.055344  \nAmount - gr             -0.000913  0.024865  \nID                       1.000000 -0.670585  \ntarget                  -0.670585  1.000000  \n\n[376 rows x 376 columns]",
      "text/html": "<div>\n<style scoped>\n    .dataframe tbody tr th:only-of-type {\n        vertical-align: middle;\n    }\n\n    .dataframe tbody tr th {\n        vertical-align: top;\n    }\n\n    .dataframe thead th {\n        text-align: right;\n    }\n</style>\n<table border=\"1\" class=\"dataframe\">\n  <thead>\n    <tr style=\"text-align: right;\">\n      <th></th>\n      <th>Filial_Белгородский</th>\n      <th>Filial_Волгоградский</th>\n      <th>Filial_Воронежский</th>\n      <th>Filial_Дальневосточный</th>\n      <th>Filial_Екатеринбургский</th>\n      <th>Filial_Ижевский</th>\n      <th>Filial_Казанский</th>\n      <th>Filial_Кемеровский</th>\n      <th>Filial_Краснодарский</th>\n      <th>Filial_Магнитогорский</th>\n      <th>...</th>\n      <th>price_gr</th>\n      <th>Age</th>\n      <th>KBM_prol_est</th>\n      <th>Yr_production</th>\n      <th>KBM</th>\n      <th>premium_car</th>\n      <th>delta_kbm</th>\n      <th>Amount - gr</th>\n      <th>ID</th>\n      <th>target</th>\n    </tr>\n  </thead>\n  <tbody>\n    <tr>\n      <th>Filial_Белгородский</th>\n      <td>1.000000</td>\n      <td>-0.019284</td>\n      <td>-0.027883</td>\n      <td>-0.010283</td>\n      <td>-0.019746</td>\n      <td>-0.021076</td>\n      <td>-0.026211</td>\n      <td>-0.016508</td>\n      <td>-0.044982</td>\n      <td>-0.023285</td>\n      <td>...</td>\n      <td>-0.045829</td>\n      <td>-0.014397</td>\n      <td>0.006749</td>\n      <td>0.018924</td>\n      <td>0.009448</td>\n      <td>-0.022638</td>\n      <td>0.011379</td>\n      <td>-0.015339</td>\n      <td>-0.003971</td>\n      <td>0.004972</td>\n    </tr>\n    <tr>\n      <th>Filial_Волгоградский</th>\n      <td>-0.019284</td>\n      <td>1.000000</td>\n      <td>-0.031554</td>\n      <td>-0.011638</td>\n      <td>-0.022346</td>\n      <td>-0.023852</td>\n      <td>-0.029662</td>\n      <td>-0.018682</td>\n      <td>-0.050905</td>\n      <td>-0.026352</td>\n      <td>...</td>\n      <td>-0.075183</td>\n      <td>0.018680</td>\n      <td>-0.039061</td>\n      <td>0.011436</td>\n      <td>-0.029344</td>\n      <td>-0.043478</td>\n      <td>0.011993</td>\n      <td>-0.081093</td>\n      <td>0.007340</td>\n      <td>-0.003495</td>\n    </tr>\n    <tr>\n      <th>Filial_Воронежский</th>\n      <td>-0.027883</td>\n      <td>-0.031554</td>\n      <td>1.000000</td>\n      <td>-0.016827</td>\n      <td>-0.032310</td>\n      <td>-0.034488</td>\n      <td>-0.042890</td>\n      <td>-0.027013</td>\n      <td>-0.073605</td>\n      <td>-0.038102</td>\n      <td>...</td>\n      <td>-0.056657</td>\n      <td>0.022363</td>\n      <td>-0.030092</td>\n      <td>0.019273</td>\n      <td>-0.020812</td>\n      <td>0.027991</td>\n      <td>0.020645</td>\n      <td>-0.027330</td>\n      <td>-0.009128</td>\n      <td>0.013831</td>\n    </tr>\n    <tr>\n      <th>Filial_Дальневосточный</th>\n      <td>-0.010283</td>\n      <td>-0.011638</td>\n      <td>-0.016827</td>\n      <td>1.000000</td>\n      <td>-0.011916</td>\n      <td>-0.012720</td>\n      <td>-0.015818</td>\n      <td>-0.009963</td>\n      <td>-0.027146</td>\n      <td>-0.014053</td>\n      <td>...</td>\n      <td>0.081690</td>\n      <td>0.017597</td>\n      <td>-0.002121</td>\n      <td>-0.028907</td>\n      <td>-0.007906</td>\n      <td>0.117125</td>\n      <td>0.008470</td>\n      <td>0.123960</td>\n      <td>-0.003557</td>\n      <td>0.009049</td>\n    </tr>\n    <tr>\n      <th>Filial_Екатеринбургский</th>\n      <td>-0.019746</td>\n      <td>-0.022346</td>\n      <td>-0.032310</td>\n      <td>-0.011916</td>\n      <td>1.000000</td>\n      <td>-0.024424</td>\n      <td>-0.030373</td>\n      <td>-0.019130</td>\n      <td>-0.052125</td>\n      <td>-0.026983</td>\n      <td>...</td>\n      <td>-0.025267</td>\n      <td>0.009494</td>\n      <td>-0.024613</td>\n      <td>-0.013513</td>\n      <td>-0.021773</td>\n      <td>-0.029199</td>\n      <td>-0.008033</td>\n      <td>-0.049315</td>\n      <td>0.005175</td>\n      <td>-0.007849</td>\n    </tr>\n    <tr>\n      <th>...</th>\n      <td>...</td>\n      <td>...</td>\n      <td>...</td>\n      <td>...</td>\n      <td>...</td>\n      <td>...</td>\n      <td>...</td>\n      <td>...</td>\n      <td>...</td>\n      <td>...</td>\n      <td>...</td>\n      <td>...</td>\n      <td>...</td>\n      <td>...</td>\n      <td>...</td>\n      <td>...</td>\n      <td>...</td>\n      <td>...</td>\n      <td>...</td>\n      <td>...</td>\n      <td>...</td>\n    </tr>\n    <tr>\n      <th>premium_car</th>\n      <td>-0.022638</td>\n      <td>-0.043478</td>\n      <td>0.027991</td>\n      <td>0.117125</td>\n      <td>-0.029199</td>\n      <td>-0.043771</td>\n      <td>-0.038523</td>\n      <td>-0.018206</td>\n      <td>0.000177</td>\n      <td>-0.043912</td>\n      <td>...</td>\n      <td>0.462104</td>\n      <td>-0.019621</td>\n      <td>-0.076076</td>\n      <td>-0.132024</td>\n      <td>-0.081302</td>\n      <td>1.000000</td>\n      <td>-0.010982</td>\n      <td>0.648480</td>\n      <td>-0.001005</td>\n      <td>0.037381</td>\n    </tr>\n    <tr>\n      <th>delta_kbm</th>\n      <td>0.011379</td>\n      <td>0.011993</td>\n      <td>0.020645</td>\n      <td>0.008470</td>\n      <td>-0.008033</td>\n      <td>0.012743</td>\n      <td>0.025619</td>\n      <td>0.006050</td>\n      <td>0.053970</td>\n      <td>0.013970</td>\n      <td>...</td>\n      <td>0.106943</td>\n      <td>-0.094756</td>\n      <td>0.547567</td>\n      <td>0.517995</td>\n      <td>0.667156</td>\n      <td>-0.010982</td>\n      <td>1.000000</td>\n      <td>0.105991</td>\n      <td>-0.004999</td>\n      <td>-0.055344</td>\n    </tr>\n    <tr>\n      <th>Amount - gr</th>\n      <td>-0.015339</td>\n      <td>-0.081093</td>\n      <td>-0.027330</td>\n      <td>0.123960</td>\n      <td>-0.049315</td>\n      <td>-0.118844</td>\n      <td>-0.058595</td>\n      <td>-0.025899</td>\n      <td>0.033638</td>\n      <td>-0.073531</td>\n      <td>...</td>\n      <td>0.748633</td>\n      <td>-0.024976</td>\n      <td>0.126692</td>\n      <td>0.188388</td>\n      <td>0.116285</td>\n      <td>0.648480</td>\n      <td>0.105991</td>\n      <td>1.000000</td>\n      <td>-0.000913</td>\n      <td>0.024865</td>\n    </tr>\n    <tr>\n      <th>ID</th>\n      <td>-0.003971</td>\n      <td>0.007340</td>\n      <td>-0.009128</td>\n      <td>-0.003557</td>\n      <td>0.005175</td>\n      <td>-0.018019</td>\n      <td>-0.009277</td>\n      <td>0.009475</td>\n      <td>0.023158</td>\n      <td>-0.007385</td>\n      <td>...</td>\n      <td>0.004579</td>\n      <td>-0.016180</td>\n      <td>0.002070</td>\n      <td>-0.001090</td>\n      <td>-0.002064</td>\n      <td>-0.001005</td>\n      <td>-0.004999</td>\n      <td>-0.000913</td>\n      <td>1.000000</td>\n      <td>-0.670585</td>\n    </tr>\n    <tr>\n      <th>target</th>\n      <td>0.004972</td>\n      <td>-0.003495</td>\n      <td>0.013831</td>\n      <td>0.009049</td>\n      <td>-0.007849</td>\n      <td>0.008737</td>\n      <td>-0.016256</td>\n      <td>-0.011308</td>\n      <td>-0.065656</td>\n      <td>-0.015224</td>\n      <td>...</td>\n      <td>-0.029713</td>\n      <td>0.039642</td>\n      <td>-0.120213</td>\n      <td>-0.099643</td>\n      <td>-0.117121</td>\n      <td>0.037381</td>\n      <td>-0.055344</td>\n      <td>0.024865</td>\n      <td>-0.670585</td>\n      <td>1.000000</td>\n    </tr>\n  </tbody>\n</table>\n<p>376 rows × 376 columns</p>\n</div>"
     },
     "execution_count": 39,
     "metadata": {},
     "output_type": "execute_result"
    }
   ],
   "source": [
    "correlated_matrix"
   ],
   "metadata": {
    "collapsed": false
   }
  },
  {
   "cell_type": "markdown",
   "source": [
    "## Melting"
   ],
   "metadata": {
    "collapsed": false
   }
  },
  {
   "cell_type": "code",
   "execution_count": 40,
   "outputs": [],
   "source": [
    "correlated_matrix_reset = correlated_matrix.reset_index()\n",
    "melted = pd.melt(correlated_matrix_reset, id_vars=['index'], value_vars=correlated_matrix_reset.columns[1:], var_name='Variable 2', value_name='Correlation')\n",
    "melted.rename(columns={'index': 'Variable 1'}, inplace=True)"
   ],
   "metadata": {
    "collapsed": false
   }
  },
  {
   "cell_type": "code",
   "execution_count": 46,
   "outputs": [],
   "source": [
    "melted['Correlation_abs'] = melted['Correlation'].abs()"
   ],
   "metadata": {
    "collapsed": false
   }
  },
  {
   "cell_type": "code",
   "execution_count": 49,
   "outputs": [],
   "source": [
    "melted_sorted = melted.sort_values(by='Correlation_abs', ascending=False).copy()\n",
    "melted_sorted_filtered = melted_sorted.loc[melted_sorted['Variable 1'] != melted_sorted['Variable 2']].copy()"
   ],
   "metadata": {
    "collapsed": false
   }
  },
  {
   "cell_type": "code",
   "execution_count": 50,
   "outputs": [
    {
     "data": {
      "text/plain": "                                Variable 1  \\\n125919                             GAP_Нет   \n126294                              GAP_Да   \n127429                     deduct_amount_0   \n128554                 deduct_Без франшизы   \n134965  kvs_type_Водители согласно перечню   \n...                                    ...   \n83806                               GAP_Да   \n83807                              GAP_Нет   \n126182                          Model_IX35   \n31958                                   ID   \n140708  passport_region_Ростовская область   \n\n                                               Variable 2  Correlation  \\\n125919                                             GAP_Да    -1.000000   \n126294                                            GAP_Нет    -1.000000   \n127429                                deduct_Без франшизы     1.000000   \n128554                                    deduct_amount_0     1.000000   \n134965  kvs_type_Ограничение по стажу и возрасту, без ...    -1.000000   \n...                                                   ...          ...   \n83806                                          Model_IX35     0.000003   \n83807                                          Model_IX35    -0.000003   \n126182                                            GAP_Нет    -0.000003   \n31958                  passport_region_Ростовская область     0.000002   \n140708                                                 ID     0.000002   \n\n        Correlation_abs  \n125919         1.000000  \n126294         1.000000  \n127429         1.000000  \n128554         1.000000  \n134965         1.000000  \n...                 ...  \n83806          0.000003  \n83807          0.000003  \n126182         0.000003  \n31958          0.000002  \n140708         0.000002  \n\n[141000 rows x 4 columns]",
      "text/html": "<div>\n<style scoped>\n    .dataframe tbody tr th:only-of-type {\n        vertical-align: middle;\n    }\n\n    .dataframe tbody tr th {\n        vertical-align: top;\n    }\n\n    .dataframe thead th {\n        text-align: right;\n    }\n</style>\n<table border=\"1\" class=\"dataframe\">\n  <thead>\n    <tr style=\"text-align: right;\">\n      <th></th>\n      <th>Variable 1</th>\n      <th>Variable 2</th>\n      <th>Correlation</th>\n      <th>Correlation_abs</th>\n    </tr>\n  </thead>\n  <tbody>\n    <tr>\n      <th>125919</th>\n      <td>GAP_Нет</td>\n      <td>GAP_Да</td>\n      <td>-1.000000</td>\n      <td>1.000000</td>\n    </tr>\n    <tr>\n      <th>126294</th>\n      <td>GAP_Да</td>\n      <td>GAP_Нет</td>\n      <td>-1.000000</td>\n      <td>1.000000</td>\n    </tr>\n    <tr>\n      <th>127429</th>\n      <td>deduct_amount_0</td>\n      <td>deduct_Без франшизы</td>\n      <td>1.000000</td>\n      <td>1.000000</td>\n    </tr>\n    <tr>\n      <th>128554</th>\n      <td>deduct_Без франшизы</td>\n      <td>deduct_amount_0</td>\n      <td>1.000000</td>\n      <td>1.000000</td>\n    </tr>\n    <tr>\n      <th>134965</th>\n      <td>kvs_type_Водители согласно перечню</td>\n      <td>kvs_type_Ограничение по стажу и возрасту, без ...</td>\n      <td>-1.000000</td>\n      <td>1.000000</td>\n    </tr>\n    <tr>\n      <th>...</th>\n      <td>...</td>\n      <td>...</td>\n      <td>...</td>\n      <td>...</td>\n    </tr>\n    <tr>\n      <th>83806</th>\n      <td>GAP_Да</td>\n      <td>Model_IX35</td>\n      <td>0.000003</td>\n      <td>0.000003</td>\n    </tr>\n    <tr>\n      <th>83807</th>\n      <td>GAP_Нет</td>\n      <td>Model_IX35</td>\n      <td>-0.000003</td>\n      <td>0.000003</td>\n    </tr>\n    <tr>\n      <th>126182</th>\n      <td>Model_IX35</td>\n      <td>GAP_Нет</td>\n      <td>-0.000003</td>\n      <td>0.000003</td>\n    </tr>\n    <tr>\n      <th>31958</th>\n      <td>ID</td>\n      <td>passport_region_Ростовская область</td>\n      <td>0.000002</td>\n      <td>0.000002</td>\n    </tr>\n    <tr>\n      <th>140708</th>\n      <td>passport_region_Ростовская область</td>\n      <td>ID</td>\n      <td>0.000002</td>\n      <td>0.000002</td>\n    </tr>\n  </tbody>\n</table>\n<p>141000 rows × 4 columns</p>\n</div>"
     },
     "execution_count": 50,
     "metadata": {},
     "output_type": "execute_result"
    }
   ],
   "source": [
    "melted_sorted_filtered"
   ],
   "metadata": {
    "collapsed": false
   }
  },
  {
   "cell_type": "code",
   "execution_count": 51,
   "outputs": [
    {
     "data": {
      "text/plain": "                              Variable 1                        Variable 2  \\\n140999                            target                                ID   \n141374                                ID                            target   \n141355                       category_RN                            target   \n133855                            target                       category_RN   \n133103                            target                   category_NB 0-1   \n...                                  ...                               ...   \n141130                      Brand_TOYOTA                            target   \n11279                             target  passport_region_Брянская область   \n141029  passport_region_Брянская область                            target   \n44367                             target                     Brand_HYUNDAI   \n141117                     Brand_HYUNDAI                            target   \n\n        Correlation  Correlation_abs  \n140999    -0.670585         0.670585  \n141374    -0.670585         0.670585  \n141355     0.128240         0.128240  \n133855     0.128240         0.128240  \n133103    -0.128071         0.128071  \n...             ...              ...  \n141130     0.000191         0.000191  \n11279     -0.000052         0.000052  \n141029    -0.000052         0.000052  \n44367      0.000018         0.000018  \n141117     0.000018         0.000018  \n\n[750 rows x 4 columns]",
      "text/html": "<div>\n<style scoped>\n    .dataframe tbody tr th:only-of-type {\n        vertical-align: middle;\n    }\n\n    .dataframe tbody tr th {\n        vertical-align: top;\n    }\n\n    .dataframe thead th {\n        text-align: right;\n    }\n</style>\n<table border=\"1\" class=\"dataframe\">\n  <thead>\n    <tr style=\"text-align: right;\">\n      <th></th>\n      <th>Variable 1</th>\n      <th>Variable 2</th>\n      <th>Correlation</th>\n      <th>Correlation_abs</th>\n    </tr>\n  </thead>\n  <tbody>\n    <tr>\n      <th>140999</th>\n      <td>target</td>\n      <td>ID</td>\n      <td>-0.670585</td>\n      <td>0.670585</td>\n    </tr>\n    <tr>\n      <th>141374</th>\n      <td>ID</td>\n      <td>target</td>\n      <td>-0.670585</td>\n      <td>0.670585</td>\n    </tr>\n    <tr>\n      <th>141355</th>\n      <td>category_RN</td>\n      <td>target</td>\n      <td>0.128240</td>\n      <td>0.128240</td>\n    </tr>\n    <tr>\n      <th>133855</th>\n      <td>target</td>\n      <td>category_RN</td>\n      <td>0.128240</td>\n      <td>0.128240</td>\n    </tr>\n    <tr>\n      <th>133103</th>\n      <td>target</td>\n      <td>category_NB 0-1</td>\n      <td>-0.128071</td>\n      <td>0.128071</td>\n    </tr>\n    <tr>\n      <th>...</th>\n      <td>...</td>\n      <td>...</td>\n      <td>...</td>\n      <td>...</td>\n    </tr>\n    <tr>\n      <th>141130</th>\n      <td>Brand_TOYOTA</td>\n      <td>target</td>\n      <td>0.000191</td>\n      <td>0.000191</td>\n    </tr>\n    <tr>\n      <th>11279</th>\n      <td>target</td>\n      <td>passport_region_Брянская область</td>\n      <td>-0.000052</td>\n      <td>0.000052</td>\n    </tr>\n    <tr>\n      <th>141029</th>\n      <td>passport_region_Брянская область</td>\n      <td>target</td>\n      <td>-0.000052</td>\n      <td>0.000052</td>\n    </tr>\n    <tr>\n      <th>44367</th>\n      <td>target</td>\n      <td>Brand_HYUNDAI</td>\n      <td>0.000018</td>\n      <td>0.000018</td>\n    </tr>\n    <tr>\n      <th>141117</th>\n      <td>Brand_HYUNDAI</td>\n      <td>target</td>\n      <td>0.000018</td>\n      <td>0.000018</td>\n    </tr>\n  </tbody>\n</table>\n<p>750 rows × 4 columns</p>\n</div>"
     },
     "execution_count": 51,
     "metadata": {},
     "output_type": "execute_result"
    }
   ],
   "source": [
    "melted_sorted_filtered.loc[melted_sorted_filtered['Variable 1'].str.contains('target') | melted_sorted_filtered['Variable 2'].str.contains('target')]"
   ],
   "metadata": {
    "collapsed": false
   }
  },
  {
   "cell_type": "markdown",
   "source": [
    "Существенных корреляций для таргета нет"
   ],
   "metadata": {
    "collapsed": false
   }
  },
  {
   "cell_type": "code",
   "execution_count": null,
   "outputs": [],
   "source": [],
   "metadata": {
    "collapsed": false
   }
  },
  {
   "cell_type": "markdown",
   "source": [
    "# Subsets for Target"
   ],
   "metadata": {
    "collapsed": false
   }
  },
  {
   "cell_type": "code",
   "execution_count": 6,
   "outputs": [],
   "source": [
    "df_target_0 = df[df['target'] == 0].copy()\n",
    "df_target_1 = df[df['target'] == 1].copy()\n",
    "df_target_minus_1 = df[df['target'] == -1].copy()"
   ],
   "metadata": {
    "collapsed": false
   }
  },
  {
   "cell_type": "markdown",
   "source": [
    "# Feature Review"
   ],
   "metadata": {
    "collapsed": false
   }
  },
  {
   "cell_type": "markdown",
   "source": [
    "## Categorical"
   ],
   "metadata": {
    "collapsed": false
   }
  },
  {
   "cell_type": "code",
   "execution_count": 70,
   "outputs": [
    {
     "data": {
      "text/plain": "Index(['Filial', 'Type_ts', 'passport_region', 'VIP', 'Brand', 'Model', 'GAP',\n       'married', 'deduct', 'deduct_amount', 'product', 'Bank',\n       'channel - map', 'category', 'kvs_type', 'sex'],\n      dtype='object')"
     },
     "execution_count": 70,
     "metadata": {},
     "output_type": "execute_result"
    }
   ],
   "source": [
    "cat_cols"
   ],
   "metadata": {
    "collapsed": false
   }
  },
  {
   "cell_type": "code",
   "execution_count": 75,
   "outputs": [
    {
     "name": "stderr",
     "output_type": "stream",
     "text": [
      "100%|██████████| 16/16 [00:00<00:00, 139.95it/s]\n"
     ]
    }
   ],
   "source": [
    "cat_review_dict = {}\n",
    "for cat in tqdm(cat_cols):\n",
    "    review_df = pd.DataFrame()\n",
    "    review_df['name'] = ''\n",
    "    review_df['percentage'] = ''\n",
    "\n",
    "    review_df_target_0 = review_df.copy()\n",
    "    review_df_target_1 = review_df.copy()\n",
    "    review_df_target_minus_1 = review_df.copy()\n",
    "\n",
    "    # total\n",
    "    review_df['name'] = df[cat].value_counts().reset_index()[cat]\n",
    "    review_df['percentage'] = df[cat].value_counts().reset_index()['count'] / df.shape[0]\n",
    "\n",
    "    # target 0\n",
    "    review_df_target_0['name'] = df_target_0[cat].value_counts().reset_index()[cat]\n",
    "    review_df_target_0['percentage'] = df_target_0[cat].value_counts().reset_index()['count'] / df_target_0.shape[0]\n",
    "\n",
    "    # target 1\n",
    "    review_df_target_1['name'] = df_target_1[cat].value_counts().reset_index()[cat]\n",
    "    review_df_target_1['percentage'] = df_target_1[cat].value_counts().reset_index()['count'] / df_target_1.shape[0]\n",
    "\n",
    "    # target -1\n",
    "    review_df_target_minus_1['name'] = df_target_minus_1[cat].value_counts().reset_index()[cat]\n",
    "    review_df_target_minus_1['percentage'] = df_target_minus_1[cat].value_counts().reset_index()['count'] / df_target_minus_1.shape[0]\n",
    "\n",
    "    # Join\n",
    "    review_df = review_df.merge(review_df_target_0, on='name', suffixes=('', '_target_0'), how='left')\n",
    "    review_df = review_df.merge(review_df_target_1, on='name', suffixes=('', '_target_1'), how='left')\n",
    "    review_df = review_df.merge(review_df_target_minus_1, on='name', suffixes=('', '_target_minus_1'), how='left')\n",
    "\n",
    "    # Delta\n",
    "    review_df['delta_0'] = review_df['percentage'] - review_df['percentage_target_0']\n",
    "    review_df['delta_1'] = review_df['percentage'] - review_df['percentage_target_1']\n",
    "    review_df['delta_minus_1'] = review_df['percentage'] - review_df['percentage_target_minus_1']\n",
    "\n",
    "    cat_review_dict[cat] = review_df"
   ],
   "metadata": {
    "collapsed": false
   }
  },
  {
   "cell_type": "code",
   "execution_count": 73,
   "outputs": [
    {
     "data": {
      "text/plain": "dict_keys(['Filial', 'Type_ts', 'passport_region', 'VIP', 'Brand', 'Model', 'GAP', 'married', 'deduct', 'deduct_amount', 'product', 'Bank', 'channel - map', 'category', 'kvs_type', 'sex'])"
     },
     "execution_count": 73,
     "metadata": {},
     "output_type": "execute_result"
    }
   ],
   "source": [
    "cat_review_dict.keys()"
   ],
   "metadata": {
    "collapsed": false
   }
  },
  {
   "cell_type": "code",
   "execution_count": 76,
   "outputs": [
    {
     "data": {
      "text/plain": "                     name  percentage  percentage_target_0  \\\n0              Московский    0.304244             0.276885   \n1           Краснодарский    0.106140             0.121508   \n2   Санкт - Петербургский    0.099972             0.085917   \n3              Ростовский    0.050907             0.053578   \n4             Воронежский    0.043634             0.042671   \n5               Казанский    0.038755             0.046690   \n6               Самарский    0.036270             0.035400   \n7          Магнитогорский    0.030839             0.038462   \n8             Челябинский    0.029458             0.026980   \n9                Пермский    0.028261             0.031573   \n10               Ижевский    0.025407             0.027937   \n11               Уфимский    0.024855             0.028703   \n12          Нижегородский    0.024763             0.026598   \n13               Тверской    0.023106             0.019900   \n14       Екатеринбургский    0.022370             0.022197   \n15         Ставропольский    0.021541             0.025450   \n16          Волгоградский    0.021357             0.020475   \n17          Новосибирский    0.017122             0.018370   \n18           Белгородский    0.016754             0.015691   \n19            Кемеровский    0.015742             0.017604   \n20               Тульский    0.012335             0.011864   \n21        Дальневосточный    0.006168             0.005549   \n\n    percentage_target_1  percentage_target_minus_1   delta_0   delta_1  \\\n0              0.365093                   0.303828  0.027359 -0.060849   \n1              0.056071                   0.117917 -0.015368  0.050069   \n2              0.120995                   0.107198  0.014056 -0.021023   \n3              0.044266                   0.051455 -0.002672  0.006640   \n4              0.049325                   0.041041  0.000963 -0.005691   \n5              0.024874                   0.036141 -0.007934  0.013882   \n6              0.043423                   0.032466  0.000870 -0.007153   \n7              0.018128                   0.027871 -0.007623  0.012710   \n8              0.031197                   0.032159  0.002477 -0.001740   \n9              0.028668                   0.022665 -0.003312 -0.000407   \n10             0.024874                   0.021746 -0.002530  0.000534   \n11             0.015177                   0.025727 -0.003848  0.009678   \n12             0.021501                   0.024196 -0.001835  0.003262   \n13             0.030354                   0.022971  0.003205 -0.007248   \n14             0.020658                   0.023890  0.000173  0.001712   \n15             0.014334                   0.020521 -0.003909  0.007207   \n16             0.021501                   0.022665  0.000882 -0.000144   \n17             0.015599                   0.016233 -0.001247  0.001524   \n18             0.018971                   0.016845  0.001063 -0.002217   \n19             0.011383                   0.015926 -0.001863  0.004359   \n20             0.015599                   0.010720  0.000472 -0.003263   \n21             0.008010                   0.005819  0.000619 -0.001842   \n\n    delta_minus_1  \n0        0.000415  \n1       -0.011777  \n2       -0.007225  \n3       -0.000548  \n4        0.002593  \n5        0.002615  \n6        0.003804  \n7        0.002967  \n8       -0.002701  \n9        0.005596  \n10       0.003662  \n11      -0.000872  \n12       0.000567  \n13       0.000135  \n14      -0.001520  \n15       0.001020  \n16      -0.001308  \n17       0.000890  \n18      -0.000091  \n19      -0.000185  \n20       0.001616  \n21       0.000348  ",
      "text/html": "<div>\n<style scoped>\n    .dataframe tbody tr th:only-of-type {\n        vertical-align: middle;\n    }\n\n    .dataframe tbody tr th {\n        vertical-align: top;\n    }\n\n    .dataframe thead th {\n        text-align: right;\n    }\n</style>\n<table border=\"1\" class=\"dataframe\">\n  <thead>\n    <tr style=\"text-align: right;\">\n      <th></th>\n      <th>name</th>\n      <th>percentage</th>\n      <th>percentage_target_0</th>\n      <th>percentage_target_1</th>\n      <th>percentage_target_minus_1</th>\n      <th>delta_0</th>\n      <th>delta_1</th>\n      <th>delta_minus_1</th>\n    </tr>\n  </thead>\n  <tbody>\n    <tr>\n      <th>0</th>\n      <td>Московский</td>\n      <td>0.304244</td>\n      <td>0.276885</td>\n      <td>0.365093</td>\n      <td>0.303828</td>\n      <td>0.027359</td>\n      <td>-0.060849</td>\n      <td>0.000415</td>\n    </tr>\n    <tr>\n      <th>1</th>\n      <td>Краснодарский</td>\n      <td>0.106140</td>\n      <td>0.121508</td>\n      <td>0.056071</td>\n      <td>0.117917</td>\n      <td>-0.015368</td>\n      <td>0.050069</td>\n      <td>-0.011777</td>\n    </tr>\n    <tr>\n      <th>2</th>\n      <td>Санкт - Петербургский</td>\n      <td>0.099972</td>\n      <td>0.085917</td>\n      <td>0.120995</td>\n      <td>0.107198</td>\n      <td>0.014056</td>\n      <td>-0.021023</td>\n      <td>-0.007225</td>\n    </tr>\n    <tr>\n      <th>3</th>\n      <td>Ростовский</td>\n      <td>0.050907</td>\n      <td>0.053578</td>\n      <td>0.044266</td>\n      <td>0.051455</td>\n      <td>-0.002672</td>\n      <td>0.006640</td>\n      <td>-0.000548</td>\n    </tr>\n    <tr>\n      <th>4</th>\n      <td>Воронежский</td>\n      <td>0.043634</td>\n      <td>0.042671</td>\n      <td>0.049325</td>\n      <td>0.041041</td>\n      <td>0.000963</td>\n      <td>-0.005691</td>\n      <td>0.002593</td>\n    </tr>\n    <tr>\n      <th>5</th>\n      <td>Казанский</td>\n      <td>0.038755</td>\n      <td>0.046690</td>\n      <td>0.024874</td>\n      <td>0.036141</td>\n      <td>-0.007934</td>\n      <td>0.013882</td>\n      <td>0.002615</td>\n    </tr>\n    <tr>\n      <th>6</th>\n      <td>Самарский</td>\n      <td>0.036270</td>\n      <td>0.035400</td>\n      <td>0.043423</td>\n      <td>0.032466</td>\n      <td>0.000870</td>\n      <td>-0.007153</td>\n      <td>0.003804</td>\n    </tr>\n    <tr>\n      <th>7</th>\n      <td>Магнитогорский</td>\n      <td>0.030839</td>\n      <td>0.038462</td>\n      <td>0.018128</td>\n      <td>0.027871</td>\n      <td>-0.007623</td>\n      <td>0.012710</td>\n      <td>0.002967</td>\n    </tr>\n    <tr>\n      <th>8</th>\n      <td>Челябинский</td>\n      <td>0.029458</td>\n      <td>0.026980</td>\n      <td>0.031197</td>\n      <td>0.032159</td>\n      <td>0.002477</td>\n      <td>-0.001740</td>\n      <td>-0.002701</td>\n    </tr>\n    <tr>\n      <th>9</th>\n      <td>Пермский</td>\n      <td>0.028261</td>\n      <td>0.031573</td>\n      <td>0.028668</td>\n      <td>0.022665</td>\n      <td>-0.003312</td>\n      <td>-0.000407</td>\n      <td>0.005596</td>\n    </tr>\n    <tr>\n      <th>10</th>\n      <td>Ижевский</td>\n      <td>0.025407</td>\n      <td>0.027937</td>\n      <td>0.024874</td>\n      <td>0.021746</td>\n      <td>-0.002530</td>\n      <td>0.000534</td>\n      <td>0.003662</td>\n    </tr>\n    <tr>\n      <th>11</th>\n      <td>Уфимский</td>\n      <td>0.024855</td>\n      <td>0.028703</td>\n      <td>0.015177</td>\n      <td>0.025727</td>\n      <td>-0.003848</td>\n      <td>0.009678</td>\n      <td>-0.000872</td>\n    </tr>\n    <tr>\n      <th>12</th>\n      <td>Нижегородский</td>\n      <td>0.024763</td>\n      <td>0.026598</td>\n      <td>0.021501</td>\n      <td>0.024196</td>\n      <td>-0.001835</td>\n      <td>0.003262</td>\n      <td>0.000567</td>\n    </tr>\n    <tr>\n      <th>13</th>\n      <td>Тверской</td>\n      <td>0.023106</td>\n      <td>0.019900</td>\n      <td>0.030354</td>\n      <td>0.022971</td>\n      <td>0.003205</td>\n      <td>-0.007248</td>\n      <td>0.000135</td>\n    </tr>\n    <tr>\n      <th>14</th>\n      <td>Екатеринбургский</td>\n      <td>0.022370</td>\n      <td>0.022197</td>\n      <td>0.020658</td>\n      <td>0.023890</td>\n      <td>0.000173</td>\n      <td>0.001712</td>\n      <td>-0.001520</td>\n    </tr>\n    <tr>\n      <th>15</th>\n      <td>Ставропольский</td>\n      <td>0.021541</td>\n      <td>0.025450</td>\n      <td>0.014334</td>\n      <td>0.020521</td>\n      <td>-0.003909</td>\n      <td>0.007207</td>\n      <td>0.001020</td>\n    </tr>\n    <tr>\n      <th>16</th>\n      <td>Волгоградский</td>\n      <td>0.021357</td>\n      <td>0.020475</td>\n      <td>0.021501</td>\n      <td>0.022665</td>\n      <td>0.000882</td>\n      <td>-0.000144</td>\n      <td>-0.001308</td>\n    </tr>\n    <tr>\n      <th>17</th>\n      <td>Новосибирский</td>\n      <td>0.017122</td>\n      <td>0.018370</td>\n      <td>0.015599</td>\n      <td>0.016233</td>\n      <td>-0.001247</td>\n      <td>0.001524</td>\n      <td>0.000890</td>\n    </tr>\n    <tr>\n      <th>18</th>\n      <td>Белгородский</td>\n      <td>0.016754</td>\n      <td>0.015691</td>\n      <td>0.018971</td>\n      <td>0.016845</td>\n      <td>0.001063</td>\n      <td>-0.002217</td>\n      <td>-0.000091</td>\n    </tr>\n    <tr>\n      <th>19</th>\n      <td>Кемеровский</td>\n      <td>0.015742</td>\n      <td>0.017604</td>\n      <td>0.011383</td>\n      <td>0.015926</td>\n      <td>-0.001863</td>\n      <td>0.004359</td>\n      <td>-0.000185</td>\n    </tr>\n    <tr>\n      <th>20</th>\n      <td>Тульский</td>\n      <td>0.012335</td>\n      <td>0.011864</td>\n      <td>0.015599</td>\n      <td>0.010720</td>\n      <td>0.000472</td>\n      <td>-0.003263</td>\n      <td>0.001616</td>\n    </tr>\n    <tr>\n      <th>21</th>\n      <td>Дальневосточный</td>\n      <td>0.006168</td>\n      <td>0.005549</td>\n      <td>0.008010</td>\n      <td>0.005819</td>\n      <td>0.000619</td>\n      <td>-0.001842</td>\n      <td>0.000348</td>\n    </tr>\n  </tbody>\n</table>\n</div>"
     },
     "execution_count": 76,
     "metadata": {},
     "output_type": "execute_result"
    }
   ],
   "source": [
    "cat_review_dict['Filial']"
   ],
   "metadata": {
    "collapsed": false
   }
  },
  {
   "cell_type": "markdown",
   "source": [
    "### Plotting"
   ],
   "metadata": {
    "collapsed": false
   }
  },
  {
   "cell_type": "code",
   "execution_count": 82,
   "outputs": [
    {
     "name": "stderr",
     "output_type": "stream",
     "text": [
      "100%|██████████| 16/16 [00:00<00:00, 44.98it/s]\n"
     ]
    }
   ],
   "source": [
    "all_figures_html = \"\"\n",
    "\n",
    "for key, df in tqdm(cat_review_dict.items()):\n",
    "    fig = go.Figure()\n",
    "    fig.add_trace(go.Bar(x=df['name'], y=df['percentage'], name='Total'))\n",
    "    fig.add_trace(go.Bar(x=df['name'], y=df['percentage_target_0'], name='Target 0'))\n",
    "    fig.add_trace(go.Bar(x=df['name'], y=df['percentage_target_1'], name='Target 1'))\n",
    "    fig.add_trace(go.Bar(x=df['name'], y=df['percentage_target_minus_1'], name='Target -1'))\n",
    "\n",
    "\n",
    "    fig.update_layout(title_text=f'Distribution for {key}', barmode='group')\n",
    "    all_figures_html += f\"<div>{pio.to_html(fig, full_html=False)}</div>\"\n",
    "\n",
    "# Save the combined HTML to a file\n",
    "with open(\"cat_plots.html\", \"w\") as file:\n",
    "    file.write(all_figures_html)"
   ],
   "metadata": {
    "collapsed": false
   }
  },
  {
   "cell_type": "markdown",
   "source": [
    "Visually target 1 has more values for VIP and non common TS types\n",
    "Also target 1 break common distribution for Bank field\n",
    "ALso target 1 break common distribution for category field\n",
    "But target -1 has common distribution for all categorical fields"
   ],
   "metadata": {
    "collapsed": false
   }
  },
  {
   "cell_type": "code",
   "execution_count": null,
   "outputs": [],
   "source": [],
   "metadata": {
    "collapsed": false
   }
  },
  {
   "cell_type": "code",
   "execution_count": null,
   "outputs": [],
   "source": [],
   "metadata": {
    "collapsed": false
   }
  },
  {
   "cell_type": "markdown",
   "source": [
    "## Numerical"
   ],
   "metadata": {
    "collapsed": false
   }
  },
  {
   "cell_type": "code",
   "execution_count": 13,
   "outputs": [],
   "source": [
    "vect_cols = list(set(vect_cols) - set(['ID']))"
   ],
   "metadata": {
    "collapsed": false
   }
  },
  {
   "cell_type": "code",
   "execution_count": 14,
   "outputs": [
    {
     "data": {
      "text/plain": "['Age',\n 'Amount - gr',\n 'Exp',\n 'KBM_prol_est',\n 'delta_kbm',\n 'price_prc',\n 'target',\n 'premium_car',\n 'Yr_production',\n 'discount',\n 'KBM',\n 'OSAGO_clnt',\n 'price_gr']"
     },
     "execution_count": 14,
     "metadata": {},
     "output_type": "execute_result"
    }
   ],
   "source": [
    "vect_cols"
   ],
   "metadata": {
    "collapsed": false
   }
  },
  {
   "cell_type": "code",
   "execution_count": null,
   "outputs": [],
   "source": [
    "df['Yr']"
   ],
   "metadata": {
    "collapsed": false
   }
  },
  {
   "cell_type": "code",
   "execution_count": null,
   "outputs": [],
   "source": [],
   "metadata": {
    "collapsed": false
   }
  },
  {
   "cell_type": "code",
   "execution_count": 15,
   "outputs": [
    {
     "name": "stderr",
     "output_type": "stream",
     "text": [
      "100%|██████████| 13/13 [00:00<00:00, 28.46it/s]\n"
     ]
    }
   ],
   "source": [
    "# dataframes_dict = {'subset1': df1, 'subset2': df2, 'subset3': df3}\n",
    "# numerical_columns = ['num_col1', 'num_col2', ...]\n",
    "\n",
    "# Initialize an empty string to store all the figures' HTML\n",
    "all_figures_html = \"\"\n",
    "\n",
    "for col in tqdm(vect_cols):\n",
    "    fig = go.Figure()\n",
    "\n",
    "    fig.add_trace(go.Histogram(x=df[col], name='Total'))\n",
    "    fig.add_trace(go.Histogram(x=df_target_0[col], name='Target 0'))\n",
    "    fig.add_trace(go.Histogram(x=df_target_1[col], name='Target 1'))\n",
    "    fig.add_trace(go.Histogram(x=df_target_minus_1[col], name='Target -1'))\n",
    "\n",
    "    fig.update_layout(\n",
    "        title_text=f'Distribution of {col} in subsets',\n",
    "        barmode='overlay',\n",
    "        xaxis_title_text=col,\n",
    "        yaxis_title_text='Count',\n",
    "    )\n",
    "    fig.update_traces(marker_line_width=1.5)\n",
    "\n",
    "    all_figures_html += f\"<div>{pio.to_html(fig, full_html=False)}</div>\"\n",
    "\n",
    "\n",
    "with open(f\"../plots/numerical_distributions.html\", \"w\") as file:\n",
    "    file.write(all_figures_html)"
   ],
   "metadata": {
    "collapsed": false
   }
  },
  {
   "cell_type": "code",
   "execution_count": null,
   "outputs": [],
   "source": [],
   "metadata": {
    "collapsed": false
   }
  },
  {
   "cell_type": "code",
   "execution_count": 72,
   "outputs": [],
   "source": [],
   "metadata": {
    "collapsed": false
   }
  },
  {
   "cell_type": "markdown",
   "source": [
    "## Filials"
   ],
   "metadata": {
    "collapsed": false
   }
  },
  {
   "cell_type": "code",
   "execution_count": 65,
   "outputs": [
    {
     "data": {
      "text/plain": "                     name  percentage\n0              Московский    0.304244\n1           Краснодарский    0.106140\n2   Санкт - Петербургский    0.099972\n3              Ростовский    0.050907\n4             Воронежский    0.043634\n5               Казанский    0.038755\n6               Самарский    0.036270\n7          Магнитогорский    0.030839\n8             Челябинский    0.029458\n9                Пермский    0.028261\n10               Ижевский    0.025407\n11               Уфимский    0.024855\n12          Нижегородский    0.024763\n13               Тверской    0.023106\n14       Екатеринбургский    0.022370\n15         Ставропольский    0.021541\n16          Волгоградский    0.021357\n17          Новосибирский    0.017122\n18           Белгородский    0.016754\n19            Кемеровский    0.015742\n20               Тульский    0.012335\n21        Дальневосточный    0.006168",
      "text/html": "<div>\n<style scoped>\n    .dataframe tbody tr th:only-of-type {\n        vertical-align: middle;\n    }\n\n    .dataframe tbody tr th {\n        vertical-align: top;\n    }\n\n    .dataframe thead th {\n        text-align: right;\n    }\n</style>\n<table border=\"1\" class=\"dataframe\">\n  <thead>\n    <tr style=\"text-align: right;\">\n      <th></th>\n      <th>name</th>\n      <th>percentage</th>\n    </tr>\n  </thead>\n  <tbody>\n    <tr>\n      <th>0</th>\n      <td>Московский</td>\n      <td>0.304244</td>\n    </tr>\n    <tr>\n      <th>1</th>\n      <td>Краснодарский</td>\n      <td>0.106140</td>\n    </tr>\n    <tr>\n      <th>2</th>\n      <td>Санкт - Петербургский</td>\n      <td>0.099972</td>\n    </tr>\n    <tr>\n      <th>3</th>\n      <td>Ростовский</td>\n      <td>0.050907</td>\n    </tr>\n    <tr>\n      <th>4</th>\n      <td>Воронежский</td>\n      <td>0.043634</td>\n    </tr>\n    <tr>\n      <th>5</th>\n      <td>Казанский</td>\n      <td>0.038755</td>\n    </tr>\n    <tr>\n      <th>6</th>\n      <td>Самарский</td>\n      <td>0.036270</td>\n    </tr>\n    <tr>\n      <th>7</th>\n      <td>Магнитогорский</td>\n      <td>0.030839</td>\n    </tr>\n    <tr>\n      <th>8</th>\n      <td>Челябинский</td>\n      <td>0.029458</td>\n    </tr>\n    <tr>\n      <th>9</th>\n      <td>Пермский</td>\n      <td>0.028261</td>\n    </tr>\n    <tr>\n      <th>10</th>\n      <td>Ижевский</td>\n      <td>0.025407</td>\n    </tr>\n    <tr>\n      <th>11</th>\n      <td>Уфимский</td>\n      <td>0.024855</td>\n    </tr>\n    <tr>\n      <th>12</th>\n      <td>Нижегородский</td>\n      <td>0.024763</td>\n    </tr>\n    <tr>\n      <th>13</th>\n      <td>Тверской</td>\n      <td>0.023106</td>\n    </tr>\n    <tr>\n      <th>14</th>\n      <td>Екатеринбургский</td>\n      <td>0.022370</td>\n    </tr>\n    <tr>\n      <th>15</th>\n      <td>Ставропольский</td>\n      <td>0.021541</td>\n    </tr>\n    <tr>\n      <th>16</th>\n      <td>Волгоградский</td>\n      <td>0.021357</td>\n    </tr>\n    <tr>\n      <th>17</th>\n      <td>Новосибирский</td>\n      <td>0.017122</td>\n    </tr>\n    <tr>\n      <th>18</th>\n      <td>Белгородский</td>\n      <td>0.016754</td>\n    </tr>\n    <tr>\n      <th>19</th>\n      <td>Кемеровский</td>\n      <td>0.015742</td>\n    </tr>\n    <tr>\n      <th>20</th>\n      <td>Тульский</td>\n      <td>0.012335</td>\n    </tr>\n    <tr>\n      <th>21</th>\n      <td>Дальневосточный</td>\n      <td>0.006168</td>\n    </tr>\n  </tbody>\n</table>\n</div>"
     },
     "execution_count": 65,
     "metadata": {},
     "output_type": "execute_result"
    }
   ],
   "source": [
    "filials_df = pd.DataFrame()\n",
    "filials_df['name'] = ''\n",
    "filials_df['percentage'] = ''\n",
    "filials_df['name'] = df['Filial'].value_counts().reset_index()['Filial']\n",
    "filials_df['percentage'] = df['Filial'].value_counts().reset_index()['count'] / df.shape[0]\n",
    "filials_df"
   ],
   "metadata": {
    "collapsed": false
   }
  },
  {
   "cell_type": "code",
   "execution_count": 65,
   "outputs": [],
   "source": [],
   "metadata": {
    "collapsed": false
   }
  },
  {
   "cell_type": "markdown",
   "source": [
    "## Type TS"
   ],
   "metadata": {
    "collapsed": false
   }
  },
  {
   "cell_type": "code",
   "execution_count": 66,
   "outputs": [
    {
     "data": {
      "text/plain": "            name  percentage\n0    Иностранные     0.76894\n1  Отечественные     0.23106",
      "text/html": "<div>\n<style scoped>\n    .dataframe tbody tr th:only-of-type {\n        vertical-align: middle;\n    }\n\n    .dataframe tbody tr th {\n        vertical-align: top;\n    }\n\n    .dataframe thead th {\n        text-align: right;\n    }\n</style>\n<table border=\"1\" class=\"dataframe\">\n  <thead>\n    <tr style=\"text-align: right;\">\n      <th></th>\n      <th>name</th>\n      <th>percentage</th>\n    </tr>\n  </thead>\n  <tbody>\n    <tr>\n      <th>0</th>\n      <td>Иностранные</td>\n      <td>0.76894</td>\n    </tr>\n    <tr>\n      <th>1</th>\n      <td>Отечественные</td>\n      <td>0.23106</td>\n    </tr>\n  </tbody>\n</table>\n</div>"
     },
     "execution_count": 66,
     "metadata": {},
     "output_type": "execute_result"
    }
   ],
   "source": [
    "type_ts = pd.DataFrame()\n",
    "type_ts['name'] = ''\n",
    "type_ts['percentage'] = ''\n",
    "type_ts['name'] = df['Type_ts'].value_counts().reset_index()['Type_ts']\n",
    "type_ts['percentage'] = df['Type_ts'].value_counts().reset_index()['count'] / df.shape[0]\n",
    "type_ts"
   ],
   "metadata": {
    "collapsed": false
   }
  },
  {
   "cell_type": "code",
   "execution_count": null,
   "outputs": [],
   "source": [],
   "metadata": {
    "collapsed": false,
    "pycharm": {
     "is_executing": true
    }
   }
  },
  {
   "cell_type": "code",
   "execution_count": null,
   "outputs": [],
   "source": [],
   "metadata": {
    "collapsed": false,
    "pycharm": {
     "is_executing": true
    }
   }
  },
  {
   "cell_type": "code",
   "execution_count": 65,
   "outputs": [],
   "source": [],
   "metadata": {
    "collapsed": false
   }
  }
 ],
 "metadata": {
  "kernelspec": {
   "display_name": "insurance_task",
   "language": "python",
   "name": "insurance_task"
  },
  "language_info": {
   "codemirror_mode": {
    "name": "ipython",
    "version": 3
   },
   "file_extension": ".py",
   "mimetype": "text/x-python",
   "name": "python",
   "nbconvert_exporter": "python",
   "pygments_lexer": "ipython3",
   "version": "3.11.6"
  }
 },
 "nbformat": 4,
 "nbformat_minor": 5
}
