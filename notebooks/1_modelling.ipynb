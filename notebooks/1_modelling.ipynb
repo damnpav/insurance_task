{
 "cells": [
  {
   "cell_type": "code",
   "execution_count": 57,
   "metadata": {
    "collapsed": true
   },
   "outputs": [],
   "source": [
    "import matplotlib.pyplot as plt\n",
    "import seaborn as sns\n",
    "import pandas as pd\n",
    "import numpy as np\n",
    "from pygam import LogisticGAM, s, f\n",
    "from sklearn.model_selection import train_test_split\n",
    "from sklearn.preprocessing import StandardScaler, OneHotEncoder\n",
    "from sklearn.compose import ColumnTransformer\n",
    "from sklearn.pipeline import Pipeline\n",
    "from sklearn.linear_model import LogisticRegression\n",
    "from sklearn.tree import DecisionTreeClassifier\n",
    "from sklearn.metrics import classification_report, confusion_matrix"
   ]
  },
  {
   "cell_type": "code",
   "execution_count": 2,
   "outputs": [],
   "source": [
    "df = pd.read_excel('../data/Задание (пролонгация).xlsx', sheet_name='data_full')"
   ],
   "metadata": {
    "collapsed": false
   }
  },
  {
   "cell_type": "code",
   "execution_count": null,
   "outputs": [],
   "source": [],
   "metadata": {
    "collapsed": false
   }
  },
  {
   "cell_type": "markdown",
   "source": [
    "# Features and Target"
   ],
   "metadata": {
    "collapsed": false
   }
  },
  {
   "cell_type": "code",
   "execution_count": 3,
   "outputs": [],
   "source": [
    "del df['ID']  # ID is not needed"
   ],
   "metadata": {
    "collapsed": false
   }
  },
  {
   "cell_type": "code",
   "execution_count": 4,
   "outputs": [],
   "source": [
    "# Make target binary\n",
    "df['target'] = df['target'].apply(lambda x: x if x == -1 else 0)"
   ],
   "metadata": {
    "collapsed": false
   }
  },
  {
   "cell_type": "code",
   "execution_count": 5,
   "outputs": [],
   "source": [
    "X = df.drop('target', axis=1)\n",
    "y = df['target']"
   ],
   "metadata": {
    "collapsed": false
   }
  },
  {
   "cell_type": "code",
   "execution_count": 6,
   "outputs": [],
   "source": [
    "X_train, X_test, y_train, y_test = train_test_split(X, y, test_size=0.2, random_state=42)"
   ],
   "metadata": {
    "collapsed": false
   }
  },
  {
   "cell_type": "code",
   "execution_count": 7,
   "outputs": [],
   "source": [
    "numerical_cols = X_train.select_dtypes(include=['int64', 'float64']).columns\n",
    "categorical_cols = X_train.select_dtypes(include=['object', 'category']).columns"
   ],
   "metadata": {
    "collapsed": false
   }
  },
  {
   "cell_type": "code",
   "execution_count": 13,
   "outputs": [],
   "source": [
    "for col in categorical_cols:\n",
    "    X_train[col] = X_train[col].astype(str)\n",
    "    X_test[col] = X_test[col].astype(str)"
   ],
   "metadata": {
    "collapsed": false
   }
  },
  {
   "cell_type": "code",
   "execution_count": 17,
   "outputs": [
    {
     "data": {
      "text/plain": "Index(['Filial', 'Type_ts', 'passport_region', 'VIP', 'Brand', 'Model', 'GAP',\n       'married', 'deduct', 'deduct_amount', 'product', 'Bank',\n       'channel - map', 'category', 'kvs_type', 'sex'],\n      dtype='object')"
     },
     "execution_count": 17,
     "metadata": {},
     "output_type": "execute_result"
    }
   ],
   "source": [
    "categorical_cols"
   ],
   "metadata": {
    "collapsed": false
   }
  },
  {
   "cell_type": "code",
   "execution_count": 18,
   "outputs": [
    {
     "data": {
      "text/plain": "Index(['Yr_production', 'KBM', 'KBM_prol_est', 'delta_kbm', 'Age', 'Exp',\n       'discount', 'Amount - gr', 'premium_car', 'price_gr', 'price_prc',\n       'OSAGO_clnt'],\n      dtype='object')"
     },
     "execution_count": 18,
     "metadata": {},
     "output_type": "execute_result"
    }
   ],
   "source": [
    "numerical_cols"
   ],
   "metadata": {
    "collapsed": false
   }
  },
  {
   "cell_type": "markdown",
   "source": [
    "## Scaling and Encoding"
   ],
   "metadata": {
    "collapsed": false
   }
  },
  {
   "cell_type": "code",
   "execution_count": 16,
   "outputs": [],
   "source": [
    "numerical_transformer = StandardScaler()\n",
    "categorical_transformer = OneHotEncoder(handle_unknown='ignore')"
   ],
   "metadata": {
    "collapsed": false
   }
  },
  {
   "cell_type": "code",
   "execution_count": 17,
   "outputs": [],
   "source": [
    "preprocessor = ColumnTransformer(\n",
    "    transformers=[\n",
    "        ('num', numerical_transformer, numerical_cols),\n",
    "        ('cat', categorical_transformer, categorical_cols)\n",
    "    ])"
   ],
   "metadata": {
    "collapsed": false
   }
  },
  {
   "cell_type": "markdown",
   "source": [
    "# Model"
   ],
   "metadata": {
    "collapsed": false
   }
  },
  {
   "cell_type": "markdown",
   "source": [
    "## Log Reg"
   ],
   "metadata": {
    "collapsed": false
   }
  },
  {
   "cell_type": "code",
   "execution_count": 18,
   "outputs": [],
   "source": [
    "model = LogisticRegression(max_iter=1000)"
   ],
   "metadata": {
    "collapsed": false
   }
  },
  {
   "cell_type": "code",
   "execution_count": 19,
   "outputs": [],
   "source": [
    "pipeline = Pipeline(steps=[('preprocessor', preprocessor),\n",
    "                           ('model', model)])"
   ],
   "metadata": {
    "collapsed": false
   }
  },
  {
   "cell_type": "markdown",
   "source": [
    "### Fit"
   ],
   "metadata": {
    "collapsed": false
   }
  },
  {
   "cell_type": "code",
   "execution_count": 20,
   "outputs": [
    {
     "data": {
      "text/plain": "Pipeline(steps=[('preprocessor',\n                 ColumnTransformer(transformers=[('num', StandardScaler(),\n                                                  Index(['Yr_production', 'KBM', 'KBM_prol_est', 'delta_kbm', 'Age', 'Exp',\n       'discount', 'Amount - gr', 'premium_car', 'price_gr', 'price_prc',\n       'OSAGO_clnt'],\n      dtype='object')),\n                                                 ('cat',\n                                                  OneHotEncoder(handle_unknown='ignore'),\n                                                  Index(['Filial', 'Type_ts', 'passport_region', 'VIP', 'Brand', 'Model', 'GAP',\n       'married', 'deduct', 'deduct_amount', 'product', 'Bank',\n       'channel - map', 'category', 'kvs_type', 'sex'],\n      dtype='object'))])),\n                ('model', LogisticRegression(max_iter=1000))])",
      "text/html": "<style>#sk-container-id-1 {\n  /* Definition of color scheme common for light and dark mode */\n  --sklearn-color-text: black;\n  --sklearn-color-line: gray;\n  /* Definition of color scheme for unfitted estimators */\n  --sklearn-color-unfitted-level-0: #fff5e6;\n  --sklearn-color-unfitted-level-1: #f6e4d2;\n  --sklearn-color-unfitted-level-2: #ffe0b3;\n  --sklearn-color-unfitted-level-3: chocolate;\n  /* Definition of color scheme for fitted estimators */\n  --sklearn-color-fitted-level-0: #f0f8ff;\n  --sklearn-color-fitted-level-1: #d4ebff;\n  --sklearn-color-fitted-level-2: #b3dbfd;\n  --sklearn-color-fitted-level-3: cornflowerblue;\n\n  /* Specific color for light theme */\n  --sklearn-color-text-on-default-background: var(--sg-text-color, var(--theme-code-foreground, var(--jp-content-font-color1, black)));\n  --sklearn-color-background: var(--sg-background-color, var(--theme-background, var(--jp-layout-color0, white)));\n  --sklearn-color-border-box: var(--sg-text-color, var(--theme-code-foreground, var(--jp-content-font-color1, black)));\n  --sklearn-color-icon: #696969;\n\n  @media (prefers-color-scheme: dark) {\n    /* Redefinition of color scheme for dark theme */\n    --sklearn-color-text-on-default-background: var(--sg-text-color, var(--theme-code-foreground, var(--jp-content-font-color1, white)));\n    --sklearn-color-background: var(--sg-background-color, var(--theme-background, var(--jp-layout-color0, #111)));\n    --sklearn-color-border-box: var(--sg-text-color, var(--theme-code-foreground, var(--jp-content-font-color1, white)));\n    --sklearn-color-icon: #878787;\n  }\n}\n\n#sk-container-id-1 {\n  color: var(--sklearn-color-text);\n}\n\n#sk-container-id-1 pre {\n  padding: 0;\n}\n\n#sk-container-id-1 input.sk-hidden--visually {\n  border: 0;\n  clip: rect(1px 1px 1px 1px);\n  clip: rect(1px, 1px, 1px, 1px);\n  height: 1px;\n  margin: -1px;\n  overflow: hidden;\n  padding: 0;\n  position: absolute;\n  width: 1px;\n}\n\n#sk-container-id-1 div.sk-dashed-wrapped {\n  border: 1px dashed var(--sklearn-color-line);\n  margin: 0 0.4em 0.5em 0.4em;\n  box-sizing: border-box;\n  padding-bottom: 0.4em;\n  background-color: var(--sklearn-color-background);\n}\n\n#sk-container-id-1 div.sk-container {\n  /* jupyter's `normalize.less` sets `[hidden] { display: none; }`\n     but bootstrap.min.css set `[hidden] { display: none !important; }`\n     so we also need the `!important` here to be able to override the\n     default hidden behavior on the sphinx rendered scikit-learn.org.\n     See: https://github.com/scikit-learn/scikit-learn/issues/21755 */\n  display: inline-block !important;\n  position: relative;\n}\n\n#sk-container-id-1 div.sk-text-repr-fallback {\n  display: none;\n}\n\ndiv.sk-parallel-item,\ndiv.sk-serial,\ndiv.sk-item {\n  /* draw centered vertical line to link estimators */\n  background-image: linear-gradient(var(--sklearn-color-text-on-default-background), var(--sklearn-color-text-on-default-background));\n  background-size: 2px 100%;\n  background-repeat: no-repeat;\n  background-position: center center;\n}\n\n/* Parallel-specific style estimator block */\n\n#sk-container-id-1 div.sk-parallel-item::after {\n  content: \"\";\n  width: 100%;\n  border-bottom: 2px solid var(--sklearn-color-text-on-default-background);\n  flex-grow: 1;\n}\n\n#sk-container-id-1 div.sk-parallel {\n  display: flex;\n  align-items: stretch;\n  justify-content: center;\n  background-color: var(--sklearn-color-background);\n  position: relative;\n}\n\n#sk-container-id-1 div.sk-parallel-item {\n  display: flex;\n  flex-direction: column;\n}\n\n#sk-container-id-1 div.sk-parallel-item:first-child::after {\n  align-self: flex-end;\n  width: 50%;\n}\n\n#sk-container-id-1 div.sk-parallel-item:last-child::after {\n  align-self: flex-start;\n  width: 50%;\n}\n\n#sk-container-id-1 div.sk-parallel-item:only-child::after {\n  width: 0;\n}\n\n/* Serial-specific style estimator block */\n\n#sk-container-id-1 div.sk-serial {\n  display: flex;\n  flex-direction: column;\n  align-items: center;\n  background-color: var(--sklearn-color-background);\n  padding-right: 1em;\n  padding-left: 1em;\n}\n\n\n/* Toggleable style: style used for estimator/Pipeline/ColumnTransformer box that is\nclickable and can be expanded/collapsed.\n- Pipeline and ColumnTransformer use this feature and define the default style\n- Estimators will overwrite some part of the style using the `sk-estimator` class\n*/\n\n/* Pipeline and ColumnTransformer style (default) */\n\n#sk-container-id-1 div.sk-toggleable {\n  /* Default theme specific background. It is overwritten whether we have a\n  specific estimator or a Pipeline/ColumnTransformer */\n  background-color: var(--sklearn-color-background);\n}\n\n/* Toggleable label */\n#sk-container-id-1 label.sk-toggleable__label {\n  cursor: pointer;\n  display: block;\n  width: 100%;\n  margin-bottom: 0;\n  padding: 0.5em;\n  box-sizing: border-box;\n  text-align: center;\n}\n\n#sk-container-id-1 label.sk-toggleable__label-arrow:before {\n  /* Arrow on the left of the label */\n  content: \"▸\";\n  float: left;\n  margin-right: 0.25em;\n  color: var(--sklearn-color-icon);\n}\n\n#sk-container-id-1 label.sk-toggleable__label-arrow:hover:before {\n  color: var(--sklearn-color-text);\n}\n\n/* Toggleable content - dropdown */\n\n#sk-container-id-1 div.sk-toggleable__content {\n  max-height: 0;\n  max-width: 0;\n  overflow: hidden;\n  text-align: left;\n  /* unfitted */\n  background-color: var(--sklearn-color-unfitted-level-0);\n}\n\n#sk-container-id-1 div.sk-toggleable__content.fitted {\n  /* fitted */\n  background-color: var(--sklearn-color-fitted-level-0);\n}\n\n#sk-container-id-1 div.sk-toggleable__content pre {\n  margin: 0.2em;\n  border-radius: 0.25em;\n  color: var(--sklearn-color-text);\n  /* unfitted */\n  background-color: var(--sklearn-color-unfitted-level-0);\n}\n\n#sk-container-id-1 div.sk-toggleable__content.fitted pre {\n  /* unfitted */\n  background-color: var(--sklearn-color-fitted-level-0);\n}\n\n#sk-container-id-1 input.sk-toggleable__control:checked~div.sk-toggleable__content {\n  /* Expand drop-down */\n  max-height: 200px;\n  max-width: 100%;\n  overflow: auto;\n}\n\n#sk-container-id-1 input.sk-toggleable__control:checked~label.sk-toggleable__label-arrow:before {\n  content: \"▾\";\n}\n\n/* Pipeline/ColumnTransformer-specific style */\n\n#sk-container-id-1 div.sk-label input.sk-toggleable__control:checked~label.sk-toggleable__label {\n  color: var(--sklearn-color-text);\n  background-color: var(--sklearn-color-unfitted-level-2);\n}\n\n#sk-container-id-1 div.sk-label.fitted input.sk-toggleable__control:checked~label.sk-toggleable__label {\n  background-color: var(--sklearn-color-fitted-level-2);\n}\n\n/* Estimator-specific style */\n\n/* Colorize estimator box */\n#sk-container-id-1 div.sk-estimator input.sk-toggleable__control:checked~label.sk-toggleable__label {\n  /* unfitted */\n  background-color: var(--sklearn-color-unfitted-level-2);\n}\n\n#sk-container-id-1 div.sk-estimator.fitted input.sk-toggleable__control:checked~label.sk-toggleable__label {\n  /* fitted */\n  background-color: var(--sklearn-color-fitted-level-2);\n}\n\n#sk-container-id-1 div.sk-label label.sk-toggleable__label,\n#sk-container-id-1 div.sk-label label {\n  /* The background is the default theme color */\n  color: var(--sklearn-color-text-on-default-background);\n}\n\n/* On hover, darken the color of the background */\n#sk-container-id-1 div.sk-label:hover label.sk-toggleable__label {\n  color: var(--sklearn-color-text);\n  background-color: var(--sklearn-color-unfitted-level-2);\n}\n\n/* Label box, darken color on hover, fitted */\n#sk-container-id-1 div.sk-label.fitted:hover label.sk-toggleable__label.fitted {\n  color: var(--sklearn-color-text);\n  background-color: var(--sklearn-color-fitted-level-2);\n}\n\n/* Estimator label */\n\n#sk-container-id-1 div.sk-label label {\n  font-family: monospace;\n  font-weight: bold;\n  display: inline-block;\n  line-height: 1.2em;\n}\n\n#sk-container-id-1 div.sk-label-container {\n  text-align: center;\n}\n\n/* Estimator-specific */\n#sk-container-id-1 div.sk-estimator {\n  font-family: monospace;\n  border: 1px dotted var(--sklearn-color-border-box);\n  border-radius: 0.25em;\n  box-sizing: border-box;\n  margin-bottom: 0.5em;\n  /* unfitted */\n  background-color: var(--sklearn-color-unfitted-level-0);\n}\n\n#sk-container-id-1 div.sk-estimator.fitted {\n  /* fitted */\n  background-color: var(--sklearn-color-fitted-level-0);\n}\n\n/* on hover */\n#sk-container-id-1 div.sk-estimator:hover {\n  /* unfitted */\n  background-color: var(--sklearn-color-unfitted-level-2);\n}\n\n#sk-container-id-1 div.sk-estimator.fitted:hover {\n  /* fitted */\n  background-color: var(--sklearn-color-fitted-level-2);\n}\n\n/* Specification for estimator info (e.g. \"i\" and \"?\") */\n\n/* Common style for \"i\" and \"?\" */\n\n.sk-estimator-doc-link,\na:link.sk-estimator-doc-link,\na:visited.sk-estimator-doc-link {\n  float: right;\n  font-size: smaller;\n  line-height: 1em;\n  font-family: monospace;\n  background-color: var(--sklearn-color-background);\n  border-radius: 1em;\n  height: 1em;\n  width: 1em;\n  text-decoration: none !important;\n  margin-left: 1ex;\n  /* unfitted */\n  border: var(--sklearn-color-unfitted-level-1) 1pt solid;\n  color: var(--sklearn-color-unfitted-level-1);\n}\n\n.sk-estimator-doc-link.fitted,\na:link.sk-estimator-doc-link.fitted,\na:visited.sk-estimator-doc-link.fitted {\n  /* fitted */\n  border: var(--sklearn-color-fitted-level-1) 1pt solid;\n  color: var(--sklearn-color-fitted-level-1);\n}\n\n/* On hover */\ndiv.sk-estimator:hover .sk-estimator-doc-link:hover,\n.sk-estimator-doc-link:hover,\ndiv.sk-label-container:hover .sk-estimator-doc-link:hover,\n.sk-estimator-doc-link:hover {\n  /* unfitted */\n  background-color: var(--sklearn-color-unfitted-level-3);\n  color: var(--sklearn-color-background);\n  text-decoration: none;\n}\n\ndiv.sk-estimator.fitted:hover .sk-estimator-doc-link.fitted:hover,\n.sk-estimator-doc-link.fitted:hover,\ndiv.sk-label-container:hover .sk-estimator-doc-link.fitted:hover,\n.sk-estimator-doc-link.fitted:hover {\n  /* fitted */\n  background-color: var(--sklearn-color-fitted-level-3);\n  color: var(--sklearn-color-background);\n  text-decoration: none;\n}\n\n/* Span, style for the box shown on hovering the info icon */\n.sk-estimator-doc-link span {\n  display: none;\n  z-index: 9999;\n  position: relative;\n  font-weight: normal;\n  right: .2ex;\n  padding: .5ex;\n  margin: .5ex;\n  width: min-content;\n  min-width: 20ex;\n  max-width: 50ex;\n  color: var(--sklearn-color-text);\n  box-shadow: 2pt 2pt 4pt #999;\n  /* unfitted */\n  background: var(--sklearn-color-unfitted-level-0);\n  border: .5pt solid var(--sklearn-color-unfitted-level-3);\n}\n\n.sk-estimator-doc-link.fitted span {\n  /* fitted */\n  background: var(--sklearn-color-fitted-level-0);\n  border: var(--sklearn-color-fitted-level-3);\n}\n\n.sk-estimator-doc-link:hover span {\n  display: block;\n}\n\n/* \"?\"-specific style due to the `<a>` HTML tag */\n\n#sk-container-id-1 a.estimator_doc_link {\n  float: right;\n  font-size: 1rem;\n  line-height: 1em;\n  font-family: monospace;\n  background-color: var(--sklearn-color-background);\n  border-radius: 1rem;\n  height: 1rem;\n  width: 1rem;\n  text-decoration: none;\n  /* unfitted */\n  color: var(--sklearn-color-unfitted-level-1);\n  border: var(--sklearn-color-unfitted-level-1) 1pt solid;\n}\n\n#sk-container-id-1 a.estimator_doc_link.fitted {\n  /* fitted */\n  border: var(--sklearn-color-fitted-level-1) 1pt solid;\n  color: var(--sklearn-color-fitted-level-1);\n}\n\n/* On hover */\n#sk-container-id-1 a.estimator_doc_link:hover {\n  /* unfitted */\n  background-color: var(--sklearn-color-unfitted-level-3);\n  color: var(--sklearn-color-background);\n  text-decoration: none;\n}\n\n#sk-container-id-1 a.estimator_doc_link.fitted:hover {\n  /* fitted */\n  background-color: var(--sklearn-color-fitted-level-3);\n}\n</style><div id=\"sk-container-id-1\" class=\"sk-top-container\"><div class=\"sk-text-repr-fallback\"><pre>Pipeline(steps=[(&#x27;preprocessor&#x27;,\n                 ColumnTransformer(transformers=[(&#x27;num&#x27;, StandardScaler(),\n                                                  Index([&#x27;Yr_production&#x27;, &#x27;KBM&#x27;, &#x27;KBM_prol_est&#x27;, &#x27;delta_kbm&#x27;, &#x27;Age&#x27;, &#x27;Exp&#x27;,\n       &#x27;discount&#x27;, &#x27;Amount - gr&#x27;, &#x27;premium_car&#x27;, &#x27;price_gr&#x27;, &#x27;price_prc&#x27;,\n       &#x27;OSAGO_clnt&#x27;],\n      dtype=&#x27;object&#x27;)),\n                                                 (&#x27;cat&#x27;,\n                                                  OneHotEncoder(handle_unknown=&#x27;ignore&#x27;),\n                                                  Index([&#x27;Filial&#x27;, &#x27;Type_ts&#x27;, &#x27;passport_region&#x27;, &#x27;VIP&#x27;, &#x27;Brand&#x27;, &#x27;Model&#x27;, &#x27;GAP&#x27;,\n       &#x27;married&#x27;, &#x27;deduct&#x27;, &#x27;deduct_amount&#x27;, &#x27;product&#x27;, &#x27;Bank&#x27;,\n       &#x27;channel - map&#x27;, &#x27;category&#x27;, &#x27;kvs_type&#x27;, &#x27;sex&#x27;],\n      dtype=&#x27;object&#x27;))])),\n                (&#x27;model&#x27;, LogisticRegression(max_iter=1000))])</pre><b>In a Jupyter environment, please rerun this cell to show the HTML representation or trust the notebook. <br />On GitHub, the HTML representation is unable to render, please try loading this page with nbviewer.org.</b></div><div class=\"sk-container\" hidden><div class=\"sk-item sk-dashed-wrapped\"><div class=\"sk-label-container\"><div class=\"sk-label fitted sk-toggleable\"><input class=\"sk-toggleable__control sk-hidden--visually\" id=\"sk-estimator-id-1\" type=\"checkbox\" ><label for=\"sk-estimator-id-1\" class=\"sk-toggleable__label fitted sk-toggleable__label-arrow fitted\">&nbsp;&nbsp;Pipeline<a class=\"sk-estimator-doc-link fitted\" rel=\"noreferrer\" target=\"_blank\" href=\"https://scikit-learn.org/1.4/modules/generated/sklearn.pipeline.Pipeline.html\">?<span>Documentation for Pipeline</span></a><span class=\"sk-estimator-doc-link fitted\">i<span>Fitted</span></span></label><div class=\"sk-toggleable__content fitted\"><pre>Pipeline(steps=[(&#x27;preprocessor&#x27;,\n                 ColumnTransformer(transformers=[(&#x27;num&#x27;, StandardScaler(),\n                                                  Index([&#x27;Yr_production&#x27;, &#x27;KBM&#x27;, &#x27;KBM_prol_est&#x27;, &#x27;delta_kbm&#x27;, &#x27;Age&#x27;, &#x27;Exp&#x27;,\n       &#x27;discount&#x27;, &#x27;Amount - gr&#x27;, &#x27;premium_car&#x27;, &#x27;price_gr&#x27;, &#x27;price_prc&#x27;,\n       &#x27;OSAGO_clnt&#x27;],\n      dtype=&#x27;object&#x27;)),\n                                                 (&#x27;cat&#x27;,\n                                                  OneHotEncoder(handle_unknown=&#x27;ignore&#x27;),\n                                                  Index([&#x27;Filial&#x27;, &#x27;Type_ts&#x27;, &#x27;passport_region&#x27;, &#x27;VIP&#x27;, &#x27;Brand&#x27;, &#x27;Model&#x27;, &#x27;GAP&#x27;,\n       &#x27;married&#x27;, &#x27;deduct&#x27;, &#x27;deduct_amount&#x27;, &#x27;product&#x27;, &#x27;Bank&#x27;,\n       &#x27;channel - map&#x27;, &#x27;category&#x27;, &#x27;kvs_type&#x27;, &#x27;sex&#x27;],\n      dtype=&#x27;object&#x27;))])),\n                (&#x27;model&#x27;, LogisticRegression(max_iter=1000))])</pre></div> </div></div><div class=\"sk-serial\"><div class=\"sk-item sk-dashed-wrapped\"><div class=\"sk-label-container\"><div class=\"sk-label fitted sk-toggleable\"><input class=\"sk-toggleable__control sk-hidden--visually\" id=\"sk-estimator-id-2\" type=\"checkbox\" ><label for=\"sk-estimator-id-2\" class=\"sk-toggleable__label fitted sk-toggleable__label-arrow fitted\">&nbsp;preprocessor: ColumnTransformer<a class=\"sk-estimator-doc-link fitted\" rel=\"noreferrer\" target=\"_blank\" href=\"https://scikit-learn.org/1.4/modules/generated/sklearn.compose.ColumnTransformer.html\">?<span>Documentation for preprocessor: ColumnTransformer</span></a></label><div class=\"sk-toggleable__content fitted\"><pre>ColumnTransformer(transformers=[(&#x27;num&#x27;, StandardScaler(),\n                                 Index([&#x27;Yr_production&#x27;, &#x27;KBM&#x27;, &#x27;KBM_prol_est&#x27;, &#x27;delta_kbm&#x27;, &#x27;Age&#x27;, &#x27;Exp&#x27;,\n       &#x27;discount&#x27;, &#x27;Amount - gr&#x27;, &#x27;premium_car&#x27;, &#x27;price_gr&#x27;, &#x27;price_prc&#x27;,\n       &#x27;OSAGO_clnt&#x27;],\n      dtype=&#x27;object&#x27;)),\n                                (&#x27;cat&#x27;, OneHotEncoder(handle_unknown=&#x27;ignore&#x27;),\n                                 Index([&#x27;Filial&#x27;, &#x27;Type_ts&#x27;, &#x27;passport_region&#x27;, &#x27;VIP&#x27;, &#x27;Brand&#x27;, &#x27;Model&#x27;, &#x27;GAP&#x27;,\n       &#x27;married&#x27;, &#x27;deduct&#x27;, &#x27;deduct_amount&#x27;, &#x27;product&#x27;, &#x27;Bank&#x27;,\n       &#x27;channel - map&#x27;, &#x27;category&#x27;, &#x27;kvs_type&#x27;, &#x27;sex&#x27;],\n      dtype=&#x27;object&#x27;))])</pre></div> </div></div><div class=\"sk-parallel\"><div class=\"sk-parallel-item\"><div class=\"sk-item\"><div class=\"sk-label-container\"><div class=\"sk-label fitted sk-toggleable\"><input class=\"sk-toggleable__control sk-hidden--visually\" id=\"sk-estimator-id-3\" type=\"checkbox\" ><label for=\"sk-estimator-id-3\" class=\"sk-toggleable__label fitted sk-toggleable__label-arrow fitted\">num</label><div class=\"sk-toggleable__content fitted\"><pre>Index([&#x27;Yr_production&#x27;, &#x27;KBM&#x27;, &#x27;KBM_prol_est&#x27;, &#x27;delta_kbm&#x27;, &#x27;Age&#x27;, &#x27;Exp&#x27;,\n       &#x27;discount&#x27;, &#x27;Amount - gr&#x27;, &#x27;premium_car&#x27;, &#x27;price_gr&#x27;, &#x27;price_prc&#x27;,\n       &#x27;OSAGO_clnt&#x27;],\n      dtype=&#x27;object&#x27;)</pre></div> </div></div><div class=\"sk-serial\"><div class=\"sk-item\"><div class=\"sk-estimator fitted sk-toggleable\"><input class=\"sk-toggleable__control sk-hidden--visually\" id=\"sk-estimator-id-4\" type=\"checkbox\" ><label for=\"sk-estimator-id-4\" class=\"sk-toggleable__label fitted sk-toggleable__label-arrow fitted\">&nbsp;StandardScaler<a class=\"sk-estimator-doc-link fitted\" rel=\"noreferrer\" target=\"_blank\" href=\"https://scikit-learn.org/1.4/modules/generated/sklearn.preprocessing.StandardScaler.html\">?<span>Documentation for StandardScaler</span></a></label><div class=\"sk-toggleable__content fitted\"><pre>StandardScaler()</pre></div> </div></div></div></div></div><div class=\"sk-parallel-item\"><div class=\"sk-item\"><div class=\"sk-label-container\"><div class=\"sk-label fitted sk-toggleable\"><input class=\"sk-toggleable__control sk-hidden--visually\" id=\"sk-estimator-id-5\" type=\"checkbox\" ><label for=\"sk-estimator-id-5\" class=\"sk-toggleable__label fitted sk-toggleable__label-arrow fitted\">cat</label><div class=\"sk-toggleable__content fitted\"><pre>Index([&#x27;Filial&#x27;, &#x27;Type_ts&#x27;, &#x27;passport_region&#x27;, &#x27;VIP&#x27;, &#x27;Brand&#x27;, &#x27;Model&#x27;, &#x27;GAP&#x27;,\n       &#x27;married&#x27;, &#x27;deduct&#x27;, &#x27;deduct_amount&#x27;, &#x27;product&#x27;, &#x27;Bank&#x27;,\n       &#x27;channel - map&#x27;, &#x27;category&#x27;, &#x27;kvs_type&#x27;, &#x27;sex&#x27;],\n      dtype=&#x27;object&#x27;)</pre></div> </div></div><div class=\"sk-serial\"><div class=\"sk-item\"><div class=\"sk-estimator fitted sk-toggleable\"><input class=\"sk-toggleable__control sk-hidden--visually\" id=\"sk-estimator-id-6\" type=\"checkbox\" ><label for=\"sk-estimator-id-6\" class=\"sk-toggleable__label fitted sk-toggleable__label-arrow fitted\">&nbsp;OneHotEncoder<a class=\"sk-estimator-doc-link fitted\" rel=\"noreferrer\" target=\"_blank\" href=\"https://scikit-learn.org/1.4/modules/generated/sklearn.preprocessing.OneHotEncoder.html\">?<span>Documentation for OneHotEncoder</span></a></label><div class=\"sk-toggleable__content fitted\"><pre>OneHotEncoder(handle_unknown=&#x27;ignore&#x27;)</pre></div> </div></div></div></div></div></div></div><div class=\"sk-item\"><div class=\"sk-estimator fitted sk-toggleable\"><input class=\"sk-toggleable__control sk-hidden--visually\" id=\"sk-estimator-id-7\" type=\"checkbox\" ><label for=\"sk-estimator-id-7\" class=\"sk-toggleable__label fitted sk-toggleable__label-arrow fitted\">&nbsp;LogisticRegression<a class=\"sk-estimator-doc-link fitted\" rel=\"noreferrer\" target=\"_blank\" href=\"https://scikit-learn.org/1.4/modules/generated/sklearn.linear_model.LogisticRegression.html\">?<span>Documentation for LogisticRegression</span></a></label><div class=\"sk-toggleable__content fitted\"><pre>LogisticRegression(max_iter=1000)</pre></div> </div></div></div></div></div></div>"
     },
     "execution_count": 20,
     "metadata": {},
     "output_type": "execute_result"
    }
   ],
   "source": [
    "pipeline.fit(X_train, y_train)"
   ],
   "metadata": {
    "collapsed": false
   }
  },
  {
   "cell_type": "markdown",
   "source": [
    "### Predict"
   ],
   "metadata": {
    "collapsed": false
   }
  },
  {
   "cell_type": "code",
   "execution_count": 21,
   "outputs": [],
   "source": [
    "y_pred = pipeline.predict(X_test)"
   ],
   "metadata": {
    "collapsed": false
   }
  },
  {
   "cell_type": "markdown",
   "source": [
    "### Evaluation"
   ],
   "metadata": {
    "collapsed": false
   }
  },
  {
   "cell_type": "code",
   "execution_count": 22,
   "outputs": [
    {
     "name": "stdout",
     "output_type": "stream",
     "text": [
      "Classification Report:\n",
      "               precision    recall  f1-score   support\n",
      "\n",
      "          -1       0.33      0.01      0.02       656\n",
      "           0       0.70      0.99      0.82      1517\n",
      "\n",
      "    accuracy                           0.69      2173\n",
      "   macro avg       0.52      0.50      0.42      2173\n",
      "weighted avg       0.59      0.69      0.58      2173\n",
      "\n",
      "Confusion Matrix:\n",
      " [[   7  649]\n",
      " [  14 1503]]\n"
     ]
    }
   ],
   "source": [
    "print(\"Classification Report:\\n\", classification_report(y_test, y_pred))\n",
    "print(\"Confusion Matrix:\\n\", confusion_matrix(y_test, y_pred))"
   ],
   "metadata": {
    "collapsed": false
   }
  },
  {
   "cell_type": "markdown",
   "source": [
    "### Test Visualization"
   ],
   "metadata": {
    "collapsed": false
   }
  },
  {
   "cell_type": "code",
   "execution_count": 26,
   "outputs": [
    {
     "data": {
      "text/plain": "<Figure size 1000x700 with 2 Axes>",
      "image/png": "[encoded data removed]"
     },
     "metadata": {},
     "output_type": "display_data"
    }
   ],
   "source": [
    "plt.figure(figsize=(10,7))\n",
    "sns.heatmap(confusion_matrix(y_test, y_pred), annot=True, fmt='d', cmap='Blues', xticklabels=['Predicted -1', 'Predicted 0'], yticklabels=['Actual -1', 'Actual 0'])\n",
    "plt.ylabel('Actual Label')\n",
    "plt.xlabel('Predicted Label')\n",
    "plt.title('Confusion Matrix')\n",
    "plt.show()"
   ],
   "metadata": {
    "collapsed": false
   }
  },
  {
   "cell_type": "code",
   "execution_count": null,
   "outputs": [],
   "source": [],
   "metadata": {
    "collapsed": false
   }
  },
  {
   "cell_type": "markdown",
   "source": [
    "### Feature Importance"
   ],
   "metadata": {
    "collapsed": false
   }
  },
  {
   "cell_type": "code",
   "execution_count": 32,
   "outputs": [],
   "source": [
    "onehot_encoder = pipeline.named_steps['preprocessor'].named_transformers_['cat']"
   ],
   "metadata": {
    "collapsed": false
   }
  },
  {
   "cell_type": "code",
   "execution_count": 34,
   "outputs": [],
   "source": [
    "categorical_features_encoded = onehot_encoder.get_feature_names_out(categorical_cols)"
   ],
   "metadata": {
    "collapsed": false
   }
  },
  {
   "cell_type": "code",
   "execution_count": 37,
   "outputs": [],
   "source": [
    "features = np.concatenate([numerical_cols, categorical_features_encoded])"
   ],
   "metadata": {
    "collapsed": false
   }
  },
  {
   "cell_type": "code",
   "execution_count": 39,
   "outputs": [],
   "source": [
    "coefs = model.coef_[0]"
   ],
   "metadata": {
    "collapsed": false
   }
  },
  {
   "cell_type": "code",
   "execution_count": 43,
   "outputs": [],
   "source": [
    "feature_importance = pd.DataFrame(coefs, index=features, columns=['Importance'])\n",
    "feature_importance['Abs_Importance'] = feature_importance['Importance'].abs()\n",
    "feature_importance = feature_importance.sort_values(by='Abs_Importance', ascending=False)"
   ],
   "metadata": {
    "collapsed": false
   }
  },
  {
   "cell_type": "code",
   "execution_count": 44,
   "outputs": [
    {
     "data": {
      "text/plain": "                                    Importance  Abs_Importance\nModel_GRAND SANTA FE                 -1.268441        1.268441\nModel_3                              -1.113932        1.113932\npassport_region_Томская область       1.072932        1.072932\npassport_region_Алтайский край       -0.918373        0.918373\npassport_region_н.д.                  0.878671        0.878671\n...                                        ...             ...\nBrand_MAZDA                           0.002508        0.002508\nprice_prc                            -0.002435        0.002435\ndeduct_Безусловная франшиза          -0.002171        0.002171\npassport_region_Смоленская область    0.001041        0.001041\nModel_SOUL                            0.000303        0.000303\n\n[365 rows x 2 columns]",
      "text/html": "<div>\n<style scoped>\n    .dataframe tbody tr th:only-of-type {\n        vertical-align: middle;\n    }\n\n    .dataframe tbody tr th {\n        vertical-align: top;\n    }\n\n    .dataframe thead th {\n        text-align: right;\n    }\n</style>\n<table border=\"1\" class=\"dataframe\">\n  <thead>\n    <tr style=\"text-align: right;\">\n      <th></th>\n      <th>Importance</th>\n      <th>Abs_Importance</th>\n    </tr>\n  </thead>\n  <tbody>\n    <tr>\n      <th>Model_GRAND SANTA FE</th>\n      <td>-1.268441</td>\n      <td>1.268441</td>\n    </tr>\n    <tr>\n      <th>Model_3</th>\n      <td>-1.113932</td>\n      <td>1.113932</td>\n    </tr>\n    <tr>\n      <th>passport_region_Томская область</th>\n      <td>1.072932</td>\n      <td>1.072932</td>\n    </tr>\n    <tr>\n      <th>passport_region_Алтайский край</th>\n      <td>-0.918373</td>\n      <td>0.918373</td>\n    </tr>\n    <tr>\n      <th>passport_region_н.д.</th>\n      <td>0.878671</td>\n      <td>0.878671</td>\n    </tr>\n    <tr>\n      <th>...</th>\n      <td>...</td>\n      <td>...</td>\n    </tr>\n    <tr>\n      <th>Brand_MAZDA</th>\n      <td>0.002508</td>\n      <td>0.002508</td>\n    </tr>\n    <tr>\n      <th>price_prc</th>\n      <td>-0.002435</td>\n      <td>0.002435</td>\n    </tr>\n    <tr>\n      <th>deduct_Безусловная франшиза</th>\n      <td>-0.002171</td>\n      <td>0.002171</td>\n    </tr>\n    <tr>\n      <th>passport_region_Смоленская область</th>\n      <td>0.001041</td>\n      <td>0.001041</td>\n    </tr>\n    <tr>\n      <th>Model_SOUL</th>\n      <td>0.000303</td>\n      <td>0.000303</td>\n    </tr>\n  </tbody>\n</table>\n<p>365 rows × 2 columns</p>\n</div>"
     },
     "execution_count": 44,
     "metadata": {},
     "output_type": "execute_result"
    }
   ],
   "source": [
    "feature_importance"
   ],
   "metadata": {
    "collapsed": false
   }
  },
  {
   "cell_type": "code",
   "execution_count": 46,
   "outputs": [],
   "source": [
    "model_classes = model.classes_"
   ],
   "metadata": {
    "collapsed": false
   }
  },
  {
   "cell_type": "code",
   "execution_count": 47,
   "outputs": [
    {
     "data": {
      "text/plain": "array([-1,  0])"
     },
     "execution_count": 47,
     "metadata": {},
     "output_type": "execute_result"
    }
   ],
   "source": [
    "model_classes"
   ],
   "metadata": {
    "collapsed": false
   }
  },
  {
   "cell_type": "markdown",
   "source": [
    "There are lots of unnecessary features"
   ],
   "metadata": {
    "collapsed": false
   }
  },
  {
   "cell_type": "code",
   "execution_count": 30,
   "outputs": [
    {
     "data": {
      "text/plain": "array([-2.45969653e-02,  2.71104192e-01, -2.44100648e-01, -1.46939400e-02,\n        3.67659656e-02, -5.36338829e-02,  2.70059375e-02,  6.83321213e-02,\n        3.55243825e-03, -6.62511654e-02, -2.43509932e-03, -1.36571583e-02,\n       -4.14554551e-02, -6.86189599e-02,  1.77338769e-01, -2.28449077e-01,\n       -2.23844641e-01,  6.82578751e-01,  8.97720244e-02, -2.35084604e-01,\n       -9.79661737e-02,  2.13045983e-01,  1.81492001e-02,  5.23552662e-02,\n       -4.13432801e-01,  4.45805203e-01, -1.28076163e-01,  5.16110594e-02,\n       -1.57807687e-01, -1.28742376e-01,  2.66255340e-01, -1.24156515e-01,\n       -7.64026465e-02,  3.09398722e-02, -1.36548394e-02,  1.17469207e-01,\n       -9.18373030e-01, -3.29554596e-01,  7.46662529e-01,  3.72395736e-01,\n       -1.38137027e-01,  2.81563114e-01, -1.80574708e-01, -1.37901354e-01,\n        8.72976740e-02, -2.17007149e-01, -2.69227427e-01,  4.08245342e-01,\n        2.54616616e-01, -1.51889977e-01,  1.78726771e-01, -1.86844406e-02,\n        1.92797994e-02, -4.33280157e-01,  4.65309134e-01,  3.24744428e-01,\n       -7.97609532e-01, -6.29771715e-01, -4.27243499e-01, -9.04423807e-02,\n       -3.72484208e-01, -3.21583942e-01,  1.59449397e-01, -7.46719900e-02,\n        4.19522905e-01, -3.12234816e-01, -6.97398163e-02, -7.24443633e-02,\n        1.88535110e-01,  2.18519717e-01, -6.44373228e-02, -6.49974802e-01,\n        4.38982004e-01, -1.64414507e-01,  5.02251443e-01,  4.17325650e-01,\n       -4.08529930e-01, -1.94349698e-01,  2.20577933e-01,  4.07664019e-01,\n       -1.21892668e-01,  2.03036556e-02,  6.87970739e-01, -1.80517124e-01,\n        1.89054093e-01, -3.05633848e-01, -3.19059561e-01, -6.79071396e-01,\n        8.18475057e-02, -6.20536742e-02, -5.20501720e-01,  7.71267285e-01,\n       -1.00407326e-01, -7.76972660e-02,  6.46049377e-01, -8.46737140e-01,\n        1.71554809e-02,  2.54911104e-01,  4.52020978e-02,  3.56986424e-02,\n       -1.03177215e-01, -3.21900396e-02,  2.55178252e-02,  1.04145588e-03,\n        2.18938592e-01, -3.24200467e-02, -3.74252849e-01,  1.07293204e+00,\n        3.73835314e-01,  6.11440573e-01, -4.11127949e-01, -5.33885890e-01,\n        3.77229840e-01,  3.07420272e-02, -1.94403820e-01,  3.83825094e-01,\n       -5.37671513e-01,  1.21739326e-01,  4.09408075e-01, -3.85372584e-01,\n        8.78670923e-01,  3.49022728e-02, -2.71771343e-01,  3.40683437e-01,\n        2.14731949e-01,  4.81396166e-02, -2.45405125e-01, -1.24014266e-02,\n       -1.50731015e-01,  3.58096945e-02,  8.87406494e-02, -1.62400724e-02,\n        2.08926219e-02, -4.97888627e-01, -2.01776643e-02,  2.50843026e-03,\n       -2.27580647e-01,  1.60459411e-01,  1.05964893e-01, -3.85682679e-01,\n        2.11440083e-02,  4.27867875e-01,  1.18630139e-01,  7.13057994e-02,\n       -2.34911993e-02, -8.21807419e-03,  3.75435809e-01,  3.81457150e-01,\n        2.66219868e-01, -5.01169430e-01,  2.25791532e-01,  2.17634457e-01,\n       -3.08489944e-01,  1.86622584e-01,  4.20680238e-01,  3.52867718e-01,\n       -2.19364859e-01, -1.11393229e+00, -2.47428322e-01,  3.70141527e-01,\n       -2.99041432e-01,  5.45685802e-01, -5.05809524e-01, -4.77295897e-01,\n       -1.21226771e-01, -3.45375628e-01,  4.36807141e-02,  4.27384899e-01,\n       -7.50241768e-01,  1.75526606e-01, -2.43229795e-02, -4.82310903e-01,\n        3.69343355e-02,  2.41663113e-01,  3.65176708e-01, -6.21117422e-01,\n       -2.24079030e-01, -2.55811708e-01,  1.68603818e-01,  2.27118053e-01,\n        2.49926976e-01,  2.46692044e-01,  3.21945493e-01, -3.51056562e-01,\n       -1.98521724e-01,  2.37581299e-01,  8.99669544e-02,  4.81105559e-01,\n        9.25223717e-02, -1.42118930e-01, -1.75536445e-01, -5.01626262e-02,\n       -5.72886248e-01,  3.60361462e-01,  2.10393451e-01, -8.15287662e-01,\n        7.70326604e-02, -4.29011069e-01,  2.17669960e-01,  1.36278204e-01,\n       -9.60643413e-02, -7.37124185e-02,  1.29516117e-01,  1.20797577e-01,\n        5.25304243e-01,  6.37097900e-01, -4.32163071e-01, -3.12310324e-01,\n        3.92964366e-02, -1.38155552e-01,  1.15630321e-01, -5.72679609e-02,\n        2.25246720e-01,  3.76447537e-02,  9.95301936e-02, -5.97697029e-01,\n        2.57633104e-02, -4.81602166e-01,  5.33652391e-01, -7.51754427e-01,\n       -1.26844141e+00,  2.36498057e-01, -2.62717533e-01,  3.97129489e-02,\n        1.09864033e-01,  3.62113639e-01, -3.04371194e-01, -2.79583919e-01,\n        4.09946258e-01, -1.34210307e-01, -3.11477852e-01,  4.15630410e-02,\n        9.26858286e-02,  2.62937379e-01, -4.21784453e-01,  3.56788395e-01,\n       -4.20047695e-01,  2.26744449e-01,  2.98040218e-01,  2.95007409e-01,\n       -5.35952155e-01, -4.70543173e-01,  2.26736227e-01,  1.76642259e-01,\n       -1.53663037e-01, -1.45877144e-01,  1.69262072e-01, -2.25838429e-01,\n       -3.46261167e-02,  1.53497708e-01, -6.68571554e-02,  8.09110395e-02,\n       -2.08466240e-01,  1.82835216e-01,  6.35444153e-01, -1.56596072e-01,\n        1.20067784e-01,  2.39590757e-01, -3.66791021e-01, -3.14688370e-01,\n        5.44557288e-02, -4.19266861e-02,  7.72827161e-01,  5.68263543e-01,\n       -4.48936720e-01,  1.95591015e-01,  8.40034490e-01, -5.78834387e-02,\n        4.58088499e-01, -4.51637800e-01, -4.44376340e-02,  5.96766403e-02,\n        2.03721588e-01,  3.44507908e-01,  2.11346139e-01, -9.54629481e-03,\n        2.00471666e-01,  2.48162357e-01,  6.08478652e-02,  2.66636949e-01,\n        3.36272312e-01, -3.00039560e-01,  1.49918505e-01, -5.43126897e-01,\n        5.17944446e-01, -4.21960809e-01, -8.79677784e-02,  1.21440649e-01,\n        1.55575370e-01,  4.11941259e-01, -4.18778409e-01,  9.24703273e-02,\n        8.50532371e-02, -6.41157426e-01,  1.15457043e-01,  6.31268600e-02,\n       -1.23151855e-01,  3.02520842e-04,  2.43076453e-01,  2.40988270e-01,\n        2.51572811e-01,  2.15091884e-01,  2.90151835e-01, -2.06996448e-01,\n       -2.95215696e-01, -1.61284751e-01, -2.30132033e-01, -1.57031704e-01,\n        8.14205485e-01, -5.54231794e-02, -4.99742951e-01, -6.87298830e-01,\n        1.56885140e-01, -7.10079891e-02, -1.04407024e-01, -1.18902222e-01,\n        4.90336485e-01,  1.58509018e-01,  1.96291618e-01,  1.90209534e-01,\n        2.33383389e-01, -4.96653285e-01, -1.42393611e-01,  6.84694268e-01,\n       -1.60024753e-01,  7.35392466e-03, -2.42957234e-02,  3.58948510e-01,\n        5.41280712e-01, -5.71713086e-02,  1.57562957e-01, -6.80549977e-01,\n       -9.34714690e-02,  3.43048794e-01, -2.04386863e-01, -1.45052500e-01,\n       -1.48091828e-01,  4.63300093e-02,  5.74843581e-02,  5.41430314e-02,\n        4.96713360e-02,  6.27708988e-02, -2.17081078e-03,  4.32142793e-02,\n        6.27708988e-02,  5.91445009e-02, -1.81010324e-02,  9.64308520e-02,\n        1.02517840e-01, -1.21444515e-01,  2.63101906e-02, -9.77129859e-03,\n        1.58856768e-02,  9.76999891e-02,  8.58641755e-02,  1.79501919e-02,\n        8.42192222e-03,  1.53178305e-01,  1.00097808e-01, -1.57883668e-01,\n        1.54750088e-01, -5.09357206e-02, -6.55185771e-02,  1.04138106e-01,\n        6.51948385e-02])"
     },
     "execution_count": 30,
     "metadata": {},
     "output_type": "execute_result"
    }
   ],
   "source": [
    "coefs  # here columns are busted, need to fix that"
   ],
   "metadata": {
    "collapsed": false
   }
  },
  {
   "cell_type": "code",
   "execution_count": 76,
   "outputs": [],
   "source": [
    "feature_importance.reset_index(inplace=True)"
   ],
   "metadata": {
    "collapsed": false
   }
  },
  {
   "cell_type": "code",
   "execution_count": 78,
   "outputs": [],
   "source": [
    "feature_importance.to_csv('feature_importance_log_reg.csv', sep=';', index=False)"
   ],
   "metadata": {
    "collapsed": false
   }
  },
  {
   "cell_type": "code",
   "execution_count": null,
   "outputs": [],
   "source": [],
   "metadata": {
    "collapsed": false
   }
  },
  {
   "cell_type": "markdown",
   "source": [
    "### Explanation"
   ],
   "metadata": {
    "collapsed": false
   }
  },
  {
   "cell_type": "markdown",
   "source": [
    "The model is highly effective at identifying class 0 instances, as evidenced by a recall of 0.99 and a high number of true positives (1503).\n",
    "However, it struggles significantly with class -1, with a very low recall (0.01), indicating it hardly identifies any true class -1 instances correctly, and a precision of 0.33, which is also quite low.\n",
    "The very high false positive rate for class -1 (649 out of 656) indicates that the model almost always incorrectly predicts class -1 instances as class 0.\n",
    "The overall accuracy of 0.69 might seem decent, but the model's effectiveness is heavily skewed towards class 0, making it unreliable for classifying instances of class -1."
   ],
   "metadata": {
    "collapsed": false
   }
  },
  {
   "cell_type": "markdown",
   "source": [
    "## Decision Tree"
   ],
   "metadata": {
    "collapsed": false
   }
  },
  {
   "cell_type": "code",
   "execution_count": 49,
   "outputs": [],
   "source": [
    "model = DecisionTreeClassifier(random_state=42)"
   ],
   "metadata": {
    "collapsed": false
   }
  },
  {
   "cell_type": "code",
   "execution_count": 50,
   "outputs": [],
   "source": [
    "pipeline = Pipeline(steps=[('preprocessor', preprocessor),\n",
    "                           ('model', model)])"
   ],
   "metadata": {
    "collapsed": false
   }
  },
  {
   "cell_type": "markdown",
   "source": [
    "### Fit"
   ],
   "metadata": {
    "collapsed": false
   }
  },
  {
   "cell_type": "code",
   "execution_count": 51,
   "outputs": [
    {
     "data": {
      "text/plain": "Pipeline(steps=[('preprocessor',\n                 ColumnTransformer(transformers=[('num', StandardScaler(),\n                                                  Index(['Yr_production', 'KBM', 'KBM_prol_est', 'delta_kbm', 'Age', 'Exp',\n       'discount', 'Amount - gr', 'premium_car', 'price_gr', 'price_prc',\n       'OSAGO_clnt'],\n      dtype='object')),\n                                                 ('cat',\n                                                  OneHotEncoder(handle_unknown='ignore'),\n                                                  Index(['Filial', 'Type_ts', 'passport_region', 'VIP', 'Brand', 'Model', 'GAP',\n       'married', 'deduct', 'deduct_amount', 'product', 'Bank',\n       'channel - map', 'category', 'kvs_type', 'sex'],\n      dtype='object'))])),\n                ('model', DecisionTreeClassifier(random_state=42))])",
      "text/html": "<style>#sk-container-id-3 {\n  /* Definition of color scheme common for light and dark mode */\n  --sklearn-color-text: black;\n  --sklearn-color-line: gray;\n  /* Definition of color scheme for unfitted estimators */\n  --sklearn-color-unfitted-level-0: #fff5e6;\n  --sklearn-color-unfitted-level-1: #f6e4d2;\n  --sklearn-color-unfitted-level-2: #ffe0b3;\n  --sklearn-color-unfitted-level-3: chocolate;\n  /* Definition of color scheme for fitted estimators */\n  --sklearn-color-fitted-level-0: #f0f8ff;\n  --sklearn-color-fitted-level-1: #d4ebff;\n  --sklearn-color-fitted-level-2: #b3dbfd;\n  --sklearn-color-fitted-level-3: cornflowerblue;\n\n  /* Specific color for light theme */\n  --sklearn-color-text-on-default-background: var(--sg-text-color, var(--theme-code-foreground, var(--jp-content-font-color1, black)));\n  --sklearn-color-background: var(--sg-background-color, var(--theme-background, var(--jp-layout-color0, white)));\n  --sklearn-color-border-box: var(--sg-text-color, var(--theme-code-foreground, var(--jp-content-font-color1, black)));\n  --sklearn-color-icon: #696969;\n\n  @media (prefers-color-scheme: dark) {\n    /* Redefinition of color scheme for dark theme */\n    --sklearn-color-text-on-default-background: var(--sg-text-color, var(--theme-code-foreground, var(--jp-content-font-color1, white)));\n    --sklearn-color-background: var(--sg-background-color, var(--theme-background, var(--jp-layout-color0, #111)));\n    --sklearn-color-border-box: var(--sg-text-color, var(--theme-code-foreground, var(--jp-content-font-color1, white)));\n    --sklearn-color-icon: #878787;\n  }\n}\n\n#sk-container-id-3 {\n  color: var(--sklearn-color-text);\n}\n\n#sk-container-id-3 pre {\n  padding: 0;\n}\n\n#sk-container-id-3 input.sk-hidden--visually {\n  border: 0;\n  clip: rect(1px 1px 1px 1px);\n  clip: rect(1px, 1px, 1px, 1px);\n  height: 1px;\n  margin: -1px;\n  overflow: hidden;\n  padding: 0;\n  position: absolute;\n  width: 1px;\n}\n\n#sk-container-id-3 div.sk-dashed-wrapped {\n  border: 1px dashed var(--sklearn-color-line);\n  margin: 0 0.4em 0.5em 0.4em;\n  box-sizing: border-box;\n  padding-bottom: 0.4em;\n  background-color: var(--sklearn-color-background);\n}\n\n#sk-container-id-3 div.sk-container {\n  /* jupyter's `normalize.less` sets `[hidden] { display: none; }`\n     but bootstrap.min.css set `[hidden] { display: none !important; }`\n     so we also need the `!important` here to be able to override the\n     default hidden behavior on the sphinx rendered scikit-learn.org.\n     See: https://github.com/scikit-learn/scikit-learn/issues/21755 */\n  display: inline-block !important;\n  position: relative;\n}\n\n#sk-container-id-3 div.sk-text-repr-fallback {\n  display: none;\n}\n\ndiv.sk-parallel-item,\ndiv.sk-serial,\ndiv.sk-item {\n  /* draw centered vertical line to link estimators */\n  background-image: linear-gradient(var(--sklearn-color-text-on-default-background), var(--sklearn-color-text-on-default-background));\n  background-size: 2px 100%;\n  background-repeat: no-repeat;\n  background-position: center center;\n}\n\n/* Parallel-specific style estimator block */\n\n#sk-container-id-3 div.sk-parallel-item::after {\n  content: \"\";\n  width: 100%;\n  border-bottom: 2px solid var(--sklearn-color-text-on-default-background);\n  flex-grow: 1;\n}\n\n#sk-container-id-3 div.sk-parallel {\n  display: flex;\n  align-items: stretch;\n  justify-content: center;\n  background-color: var(--sklearn-color-background);\n  position: relative;\n}\n\n#sk-container-id-3 div.sk-parallel-item {\n  display: flex;\n  flex-direction: column;\n}\n\n#sk-container-id-3 div.sk-parallel-item:first-child::after {\n  align-self: flex-end;\n  width: 50%;\n}\n\n#sk-container-id-3 div.sk-parallel-item:last-child::after {\n  align-self: flex-start;\n  width: 50%;\n}\n\n#sk-container-id-3 div.sk-parallel-item:only-child::after {\n  width: 0;\n}\n\n/* Serial-specific style estimator block */\n\n#sk-container-id-3 div.sk-serial {\n  display: flex;\n  flex-direction: column;\n  align-items: center;\n  background-color: var(--sklearn-color-background);\n  padding-right: 1em;\n  padding-left: 1em;\n}\n\n\n/* Toggleable style: style used for estimator/Pipeline/ColumnTransformer box that is\nclickable and can be expanded/collapsed.\n- Pipeline and ColumnTransformer use this feature and define the default style\n- Estimators will overwrite some part of the style using the `sk-estimator` class\n*/\n\n/* Pipeline and ColumnTransformer style (default) */\n\n#sk-container-id-3 div.sk-toggleable {\n  /* Default theme specific background. It is overwritten whether we have a\n  specific estimator or a Pipeline/ColumnTransformer */\n  background-color: var(--sklearn-color-background);\n}\n\n/* Toggleable label */\n#sk-container-id-3 label.sk-toggleable__label {\n  cursor: pointer;\n  display: block;\n  width: 100%;\n  margin-bottom: 0;\n  padding: 0.5em;\n  box-sizing: border-box;\n  text-align: center;\n}\n\n#sk-container-id-3 label.sk-toggleable__label-arrow:before {\n  /* Arrow on the left of the label */\n  content: \"▸\";\n  float: left;\n  margin-right: 0.25em;\n  color: var(--sklearn-color-icon);\n}\n\n#sk-container-id-3 label.sk-toggleable__label-arrow:hover:before {\n  color: var(--sklearn-color-text);\n}\n\n/* Toggleable content - dropdown */\n\n#sk-container-id-3 div.sk-toggleable__content {\n  max-height: 0;\n  max-width: 0;\n  overflow: hidden;\n  text-align: left;\n  /* unfitted */\n  background-color: var(--sklearn-color-unfitted-level-0);\n}\n\n#sk-container-id-3 div.sk-toggleable__content.fitted {\n  /* fitted */\n  background-color: var(--sklearn-color-fitted-level-0);\n}\n\n#sk-container-id-3 div.sk-toggleable__content pre {\n  margin: 0.2em;\n  border-radius: 0.25em;\n  color: var(--sklearn-color-text);\n  /* unfitted */\n  background-color: var(--sklearn-color-unfitted-level-0);\n}\n\n#sk-container-id-3 div.sk-toggleable__content.fitted pre {\n  /* unfitted */\n  background-color: var(--sklearn-color-fitted-level-0);\n}\n\n#sk-container-id-3 input.sk-toggleable__control:checked~div.sk-toggleable__content {\n  /* Expand drop-down */\n  max-height: 200px;\n  max-width: 100%;\n  overflow: auto;\n}\n\n#sk-container-id-3 input.sk-toggleable__control:checked~label.sk-toggleable__label-arrow:before {\n  content: \"▾\";\n}\n\n/* Pipeline/ColumnTransformer-specific style */\n\n#sk-container-id-3 div.sk-label input.sk-toggleable__control:checked~label.sk-toggleable__label {\n  color: var(--sklearn-color-text);\n  background-color: var(--sklearn-color-unfitted-level-2);\n}\n\n#sk-container-id-3 div.sk-label.fitted input.sk-toggleable__control:checked~label.sk-toggleable__label {\n  background-color: var(--sklearn-color-fitted-level-2);\n}\n\n/* Estimator-specific style */\n\n/* Colorize estimator box */\n#sk-container-id-3 div.sk-estimator input.sk-toggleable__control:checked~label.sk-toggleable__label {\n  /* unfitted */\n  background-color: var(--sklearn-color-unfitted-level-2);\n}\n\n#sk-container-id-3 div.sk-estimator.fitted input.sk-toggleable__control:checked~label.sk-toggleable__label {\n  /* fitted */\n  background-color: var(--sklearn-color-fitted-level-2);\n}\n\n#sk-container-id-3 div.sk-label label.sk-toggleable__label,\n#sk-container-id-3 div.sk-label label {\n  /* The background is the default theme color */\n  color: var(--sklearn-color-text-on-default-background);\n}\n\n/* On hover, darken the color of the background */\n#sk-container-id-3 div.sk-label:hover label.sk-toggleable__label {\n  color: var(--sklearn-color-text);\n  background-color: var(--sklearn-color-unfitted-level-2);\n}\n\n/* Label box, darken color on hover, fitted */\n#sk-container-id-3 div.sk-label.fitted:hover label.sk-toggleable__label.fitted {\n  color: var(--sklearn-color-text);\n  background-color: var(--sklearn-color-fitted-level-2);\n}\n\n/* Estimator label */\n\n#sk-container-id-3 div.sk-label label {\n  font-family: monospace;\n  font-weight: bold;\n  display: inline-block;\n  line-height: 1.2em;\n}\n\n#sk-container-id-3 div.sk-label-container {\n  text-align: center;\n}\n\n/* Estimator-specific */\n#sk-container-id-3 div.sk-estimator {\n  font-family: monospace;\n  border: 1px dotted var(--sklearn-color-border-box);\n  border-radius: 0.25em;\n  box-sizing: border-box;\n  margin-bottom: 0.5em;\n  /* unfitted */\n  background-color: var(--sklearn-color-unfitted-level-0);\n}\n\n#sk-container-id-3 div.sk-estimator.fitted {\n  /* fitted */\n  background-color: var(--sklearn-color-fitted-level-0);\n}\n\n/* on hover */\n#sk-container-id-3 div.sk-estimator:hover {\n  /* unfitted */\n  background-color: var(--sklearn-color-unfitted-level-2);\n}\n\n#sk-container-id-3 div.sk-estimator.fitted:hover {\n  /* fitted */\n  background-color: var(--sklearn-color-fitted-level-2);\n}\n\n/* Specification for estimator info (e.g. \"i\" and \"?\") */\n\n/* Common style for \"i\" and \"?\" */\n\n.sk-estimator-doc-link,\na:link.sk-estimator-doc-link,\na:visited.sk-estimator-doc-link {\n  float: right;\n  font-size: smaller;\n  line-height: 1em;\n  font-family: monospace;\n  background-color: var(--sklearn-color-background);\n  border-radius: 1em;\n  height: 1em;\n  width: 1em;\n  text-decoration: none !important;\n  margin-left: 1ex;\n  /* unfitted */\n  border: var(--sklearn-color-unfitted-level-1) 1pt solid;\n  color: var(--sklearn-color-unfitted-level-1);\n}\n\n.sk-estimator-doc-link.fitted,\na:link.sk-estimator-doc-link.fitted,\na:visited.sk-estimator-doc-link.fitted {\n  /* fitted */\n  border: var(--sklearn-color-fitted-level-1) 1pt solid;\n  color: var(--sklearn-color-fitted-level-1);\n}\n\n/* On hover */\ndiv.sk-estimator:hover .sk-estimator-doc-link:hover,\n.sk-estimator-doc-link:hover,\ndiv.sk-label-container:hover .sk-estimator-doc-link:hover,\n.sk-estimator-doc-link:hover {\n  /* unfitted */\n  background-color: var(--sklearn-color-unfitted-level-3);\n  color: var(--sklearn-color-background);\n  text-decoration: none;\n}\n\ndiv.sk-estimator.fitted:hover .sk-estimator-doc-link.fitted:hover,\n.sk-estimator-doc-link.fitted:hover,\ndiv.sk-label-container:hover .sk-estimator-doc-link.fitted:hover,\n.sk-estimator-doc-link.fitted:hover {\n  /* fitted */\n  background-color: var(--sklearn-color-fitted-level-3);\n  color: var(--sklearn-color-background);\n  text-decoration: none;\n}\n\n/* Span, style for the box shown on hovering the info icon */\n.sk-estimator-doc-link span {\n  display: none;\n  z-index: 9999;\n  position: relative;\n  font-weight: normal;\n  right: .2ex;\n  padding: .5ex;\n  margin: .5ex;\n  width: min-content;\n  min-width: 20ex;\n  max-width: 50ex;\n  color: var(--sklearn-color-text);\n  box-shadow: 2pt 2pt 4pt #999;\n  /* unfitted */\n  background: var(--sklearn-color-unfitted-level-0);\n  border: .5pt solid var(--sklearn-color-unfitted-level-3);\n}\n\n.sk-estimator-doc-link.fitted span {\n  /* fitted */\n  background: var(--sklearn-color-fitted-level-0);\n  border: var(--sklearn-color-fitted-level-3);\n}\n\n.sk-estimator-doc-link:hover span {\n  display: block;\n}\n\n/* \"?\"-specific style due to the `<a>` HTML tag */\n\n#sk-container-id-3 a.estimator_doc_link {\n  float: right;\n  font-size: 1rem;\n  line-height: 1em;\n  font-family: monospace;\n  background-color: var(--sklearn-color-background);\n  border-radius: 1rem;\n  height: 1rem;\n  width: 1rem;\n  text-decoration: none;\n  /* unfitted */\n  color: var(--sklearn-color-unfitted-level-1);\n  border: var(--sklearn-color-unfitted-level-1) 1pt solid;\n}\n\n#sk-container-id-3 a.estimator_doc_link.fitted {\n  /* fitted */\n  border: var(--sklearn-color-fitted-level-1) 1pt solid;\n  color: var(--sklearn-color-fitted-level-1);\n}\n\n/* On hover */\n#sk-container-id-3 a.estimator_doc_link:hover {\n  /* unfitted */\n  background-color: var(--sklearn-color-unfitted-level-3);\n  color: var(--sklearn-color-background);\n  text-decoration: none;\n}\n\n#sk-container-id-3 a.estimator_doc_link.fitted:hover {\n  /* fitted */\n  background-color: var(--sklearn-color-fitted-level-3);\n}\n</style><div id=\"sk-container-id-3\" class=\"sk-top-container\"><div class=\"sk-text-repr-fallback\"><pre>Pipeline(steps=[(&#x27;preprocessor&#x27;,\n                 ColumnTransformer(transformers=[(&#x27;num&#x27;, StandardScaler(),\n                                                  Index([&#x27;Yr_production&#x27;, &#x27;KBM&#x27;, &#x27;KBM_prol_est&#x27;, &#x27;delta_kbm&#x27;, &#x27;Age&#x27;, &#x27;Exp&#x27;,\n       &#x27;discount&#x27;, &#x27;Amount - gr&#x27;, &#x27;premium_car&#x27;, &#x27;price_gr&#x27;, &#x27;price_prc&#x27;,\n       &#x27;OSAGO_clnt&#x27;],\n      dtype=&#x27;object&#x27;)),\n                                                 (&#x27;cat&#x27;,\n                                                  OneHotEncoder(handle_unknown=&#x27;ignore&#x27;),\n                                                  Index([&#x27;Filial&#x27;, &#x27;Type_ts&#x27;, &#x27;passport_region&#x27;, &#x27;VIP&#x27;, &#x27;Brand&#x27;, &#x27;Model&#x27;, &#x27;GAP&#x27;,\n       &#x27;married&#x27;, &#x27;deduct&#x27;, &#x27;deduct_amount&#x27;, &#x27;product&#x27;, &#x27;Bank&#x27;,\n       &#x27;channel - map&#x27;, &#x27;category&#x27;, &#x27;kvs_type&#x27;, &#x27;sex&#x27;],\n      dtype=&#x27;object&#x27;))])),\n                (&#x27;model&#x27;, DecisionTreeClassifier(random_state=42))])</pre><b>In a Jupyter environment, please rerun this cell to show the HTML representation or trust the notebook. <br />On GitHub, the HTML representation is unable to render, please try loading this page with nbviewer.org.</b></div><div class=\"sk-container\" hidden><div class=\"sk-item sk-dashed-wrapped\"><div class=\"sk-label-container\"><div class=\"sk-label fitted sk-toggleable\"><input class=\"sk-toggleable__control sk-hidden--visually\" id=\"sk-estimator-id-9\" type=\"checkbox\" ><label for=\"sk-estimator-id-9\" class=\"sk-toggleable__label fitted sk-toggleable__label-arrow fitted\">&nbsp;&nbsp;Pipeline<a class=\"sk-estimator-doc-link fitted\" rel=\"noreferrer\" target=\"_blank\" href=\"https://scikit-learn.org/1.4/modules/generated/sklearn.pipeline.Pipeline.html\">?<span>Documentation for Pipeline</span></a><span class=\"sk-estimator-doc-link fitted\">i<span>Fitted</span></span></label><div class=\"sk-toggleable__content fitted\"><pre>Pipeline(steps=[(&#x27;preprocessor&#x27;,\n                 ColumnTransformer(transformers=[(&#x27;num&#x27;, StandardScaler(),\n                                                  Index([&#x27;Yr_production&#x27;, &#x27;KBM&#x27;, &#x27;KBM_prol_est&#x27;, &#x27;delta_kbm&#x27;, &#x27;Age&#x27;, &#x27;Exp&#x27;,\n       &#x27;discount&#x27;, &#x27;Amount - gr&#x27;, &#x27;premium_car&#x27;, &#x27;price_gr&#x27;, &#x27;price_prc&#x27;,\n       &#x27;OSAGO_clnt&#x27;],\n      dtype=&#x27;object&#x27;)),\n                                                 (&#x27;cat&#x27;,\n                                                  OneHotEncoder(handle_unknown=&#x27;ignore&#x27;),\n                                                  Index([&#x27;Filial&#x27;, &#x27;Type_ts&#x27;, &#x27;passport_region&#x27;, &#x27;VIP&#x27;, &#x27;Brand&#x27;, &#x27;Model&#x27;, &#x27;GAP&#x27;,\n       &#x27;married&#x27;, &#x27;deduct&#x27;, &#x27;deduct_amount&#x27;, &#x27;product&#x27;, &#x27;Bank&#x27;,\n       &#x27;channel - map&#x27;, &#x27;category&#x27;, &#x27;kvs_type&#x27;, &#x27;sex&#x27;],\n      dtype=&#x27;object&#x27;))])),\n                (&#x27;model&#x27;, DecisionTreeClassifier(random_state=42))])</pre></div> </div></div><div class=\"sk-serial\"><div class=\"sk-item sk-dashed-wrapped\"><div class=\"sk-label-container\"><div class=\"sk-label fitted sk-toggleable\"><input class=\"sk-toggleable__control sk-hidden--visually\" id=\"sk-estimator-id-10\" type=\"checkbox\" ><label for=\"sk-estimator-id-10\" class=\"sk-toggleable__label fitted sk-toggleable__label-arrow fitted\">&nbsp;preprocessor: ColumnTransformer<a class=\"sk-estimator-doc-link fitted\" rel=\"noreferrer\" target=\"_blank\" href=\"https://scikit-learn.org/1.4/modules/generated/sklearn.compose.ColumnTransformer.html\">?<span>Documentation for preprocessor: ColumnTransformer</span></a></label><div class=\"sk-toggleable__content fitted\"><pre>ColumnTransformer(transformers=[(&#x27;num&#x27;, StandardScaler(),\n                                 Index([&#x27;Yr_production&#x27;, &#x27;KBM&#x27;, &#x27;KBM_prol_est&#x27;, &#x27;delta_kbm&#x27;, &#x27;Age&#x27;, &#x27;Exp&#x27;,\n       &#x27;discount&#x27;, &#x27;Amount - gr&#x27;, &#x27;premium_car&#x27;, &#x27;price_gr&#x27;, &#x27;price_prc&#x27;,\n       &#x27;OSAGO_clnt&#x27;],\n      dtype=&#x27;object&#x27;)),\n                                (&#x27;cat&#x27;, OneHotEncoder(handle_unknown=&#x27;ignore&#x27;),\n                                 Index([&#x27;Filial&#x27;, &#x27;Type_ts&#x27;, &#x27;passport_region&#x27;, &#x27;VIP&#x27;, &#x27;Brand&#x27;, &#x27;Model&#x27;, &#x27;GAP&#x27;,\n       &#x27;married&#x27;, &#x27;deduct&#x27;, &#x27;deduct_amount&#x27;, &#x27;product&#x27;, &#x27;Bank&#x27;,\n       &#x27;channel - map&#x27;, &#x27;category&#x27;, &#x27;kvs_type&#x27;, &#x27;sex&#x27;],\n      dtype=&#x27;object&#x27;))])</pre></div> </div></div><div class=\"sk-parallel\"><div class=\"sk-parallel-item\"><div class=\"sk-item\"><div class=\"sk-label-container\"><div class=\"sk-label fitted sk-toggleable\"><input class=\"sk-toggleable__control sk-hidden--visually\" id=\"sk-estimator-id-11\" type=\"checkbox\" ><label for=\"sk-estimator-id-11\" class=\"sk-toggleable__label fitted sk-toggleable__label-arrow fitted\">num</label><div class=\"sk-toggleable__content fitted\"><pre>Index([&#x27;Yr_production&#x27;, &#x27;KBM&#x27;, &#x27;KBM_prol_est&#x27;, &#x27;delta_kbm&#x27;, &#x27;Age&#x27;, &#x27;Exp&#x27;,\n       &#x27;discount&#x27;, &#x27;Amount - gr&#x27;, &#x27;premium_car&#x27;, &#x27;price_gr&#x27;, &#x27;price_prc&#x27;,\n       &#x27;OSAGO_clnt&#x27;],\n      dtype=&#x27;object&#x27;)</pre></div> </div></div><div class=\"sk-serial\"><div class=\"sk-item\"><div class=\"sk-estimator fitted sk-toggleable\"><input class=\"sk-toggleable__control sk-hidden--visually\" id=\"sk-estimator-id-12\" type=\"checkbox\" ><label for=\"sk-estimator-id-12\" class=\"sk-toggleable__label fitted sk-toggleable__label-arrow fitted\">&nbsp;StandardScaler<a class=\"sk-estimator-doc-link fitted\" rel=\"noreferrer\" target=\"_blank\" href=\"https://scikit-learn.org/1.4/modules/generated/sklearn.preprocessing.StandardScaler.html\">?<span>Documentation for StandardScaler</span></a></label><div class=\"sk-toggleable__content fitted\"><pre>StandardScaler()</pre></div> </div></div></div></div></div><div class=\"sk-parallel-item\"><div class=\"sk-item\"><div class=\"sk-label-container\"><div class=\"sk-label fitted sk-toggleable\"><input class=\"sk-toggleable__control sk-hidden--visually\" id=\"sk-estimator-id-13\" type=\"checkbox\" ><label for=\"sk-estimator-id-13\" class=\"sk-toggleable__label fitted sk-toggleable__label-arrow fitted\">cat</label><div class=\"sk-toggleable__content fitted\"><pre>Index([&#x27;Filial&#x27;, &#x27;Type_ts&#x27;, &#x27;passport_region&#x27;, &#x27;VIP&#x27;, &#x27;Brand&#x27;, &#x27;Model&#x27;, &#x27;GAP&#x27;,\n       &#x27;married&#x27;, &#x27;deduct&#x27;, &#x27;deduct_amount&#x27;, &#x27;product&#x27;, &#x27;Bank&#x27;,\n       &#x27;channel - map&#x27;, &#x27;category&#x27;, &#x27;kvs_type&#x27;, &#x27;sex&#x27;],\n      dtype=&#x27;object&#x27;)</pre></div> </div></div><div class=\"sk-serial\"><div class=\"sk-item\"><div class=\"sk-estimator fitted sk-toggleable\"><input class=\"sk-toggleable__control sk-hidden--visually\" id=\"sk-estimator-id-14\" type=\"checkbox\" ><label for=\"sk-estimator-id-14\" class=\"sk-toggleable__label fitted sk-toggleable__label-arrow fitted\">&nbsp;OneHotEncoder<a class=\"sk-estimator-doc-link fitted\" rel=\"noreferrer\" target=\"_blank\" href=\"https://scikit-learn.org/1.4/modules/generated/sklearn.preprocessing.OneHotEncoder.html\">?<span>Documentation for OneHotEncoder</span></a></label><div class=\"sk-toggleable__content fitted\"><pre>OneHotEncoder(handle_unknown=&#x27;ignore&#x27;)</pre></div> </div></div></div></div></div></div></div><div class=\"sk-item\"><div class=\"sk-estimator fitted sk-toggleable\"><input class=\"sk-toggleable__control sk-hidden--visually\" id=\"sk-estimator-id-15\" type=\"checkbox\" ><label for=\"sk-estimator-id-15\" class=\"sk-toggleable__label fitted sk-toggleable__label-arrow fitted\">&nbsp;DecisionTreeClassifier<a class=\"sk-estimator-doc-link fitted\" rel=\"noreferrer\" target=\"_blank\" href=\"https://scikit-learn.org/1.4/modules/generated/sklearn.tree.DecisionTreeClassifier.html\">?<span>Documentation for DecisionTreeClassifier</span></a></label><div class=\"sk-toggleable__content fitted\"><pre>DecisionTreeClassifier(random_state=42)</pre></div> </div></div></div></div></div></div>"
     },
     "execution_count": 51,
     "metadata": {},
     "output_type": "execute_result"
    }
   ],
   "source": [
    "pipeline.fit(X_train, y_train)"
   ],
   "metadata": {
    "collapsed": false
   }
  },
  {
   "cell_type": "markdown",
   "source": [
    "### Predict and Evaluate"
   ],
   "metadata": {
    "collapsed": false
   }
  },
  {
   "cell_type": "code",
   "execution_count": 52,
   "outputs": [],
   "source": [
    "y_pred = pipeline.predict(X_test)"
   ],
   "metadata": {
    "collapsed": false
   }
  },
  {
   "cell_type": "code",
   "execution_count": 53,
   "outputs": [
    {
     "name": "stdout",
     "output_type": "stream",
     "text": [
      "Classification Report:\n",
      "               precision    recall  f1-score   support\n",
      "\n",
      "          -1       0.29      0.31      0.30       656\n",
      "           0       0.69      0.68      0.69      1517\n",
      "\n",
      "    accuracy                           0.57      2173\n",
      "   macro avg       0.49      0.49      0.49      2173\n",
      "weighted avg       0.57      0.57      0.57      2173\n",
      "\n",
      "Confusion Matrix:\n",
      " [[ 201  455]\n",
      " [ 488 1029]]\n"
     ]
    }
   ],
   "source": [
    "print(\"Classification Report:\\n\", classification_report(y_test, y_pred))\n",
    "print(\"Confusion Matrix:\\n\", confusion_matrix(y_test, y_pred))"
   ],
   "metadata": {
    "collapsed": false
   }
  },
  {
   "cell_type": "markdown",
   "source": [
    "Results no better than with Log Reg"
   ],
   "metadata": {
    "collapsed": false
   }
  },
  {
   "cell_type": "markdown",
   "source": [
    "### Feature Importance"
   ],
   "metadata": {
    "collapsed": false
   }
  },
  {
   "cell_type": "code",
   "execution_count": 32,
   "outputs": [],
   "source": [
    "onehot_encoder = pipeline.named_steps['preprocessor'].named_transformers_['cat']"
   ],
   "metadata": {
    "collapsed": false
   }
  },
  {
   "cell_type": "code",
   "execution_count": 34,
   "outputs": [],
   "source": [
    "categorical_features_encoded = onehot_encoder.get_feature_names_out(categorical_cols)"
   ],
   "metadata": {
    "collapsed": false
   }
  },
  {
   "cell_type": "code",
   "execution_count": 37,
   "outputs": [],
   "source": [
    "features = np.concatenate([numerical_cols, categorical_features_encoded])"
   ],
   "metadata": {
    "collapsed": false
   }
  },
  {
   "cell_type": "code",
   "execution_count": 39,
   "outputs": [],
   "source": [
    "coefs = model.coef_[0]"
   ],
   "metadata": {
    "collapsed": false
   }
  },
  {
   "cell_type": "code",
   "execution_count": 55,
   "outputs": [],
   "source": [
    "feature_importance_tree = pd.DataFrame(coefs, index=features, columns=['Importance'])\n",
    "feature_importance_tree['Abs_Importance'] = feature_importance_tree['Importance'].abs()\n",
    "feature_importance_tree = feature_importance_tree.sort_values(by='Abs_Importance', ascending=False)"
   ],
   "metadata": {
    "collapsed": false
   }
  },
  {
   "cell_type": "code",
   "execution_count": 56,
   "outputs": [
    {
     "data": {
      "text/plain": "                                    Importance  Abs_Importance\nModel_GRAND SANTA FE                 -1.268441        1.268441\nModel_3                              -1.113932        1.113932\npassport_region_Томская область       1.072932        1.072932\npassport_region_Алтайский край       -0.918373        0.918373\npassport_region_н.д.                  0.878671        0.878671\n...                                        ...             ...\nBrand_MAZDA                           0.002508        0.002508\nprice_prc                            -0.002435        0.002435\ndeduct_Безусловная франшиза          -0.002171        0.002171\npassport_region_Смоленская область    0.001041        0.001041\nModel_SOUL                            0.000303        0.000303\n\n[365 rows x 2 columns]",
      "text/html": "<div>\n<style scoped>\n    .dataframe tbody tr th:only-of-type {\n        vertical-align: middle;\n    }\n\n    .dataframe tbody tr th {\n        vertical-align: top;\n    }\n\n    .dataframe thead th {\n        text-align: right;\n    }\n</style>\n<table border=\"1\" class=\"dataframe\">\n  <thead>\n    <tr style=\"text-align: right;\">\n      <th></th>\n      <th>Importance</th>\n      <th>Abs_Importance</th>\n    </tr>\n  </thead>\n  <tbody>\n    <tr>\n      <th>Model_GRAND SANTA FE</th>\n      <td>-1.268441</td>\n      <td>1.268441</td>\n    </tr>\n    <tr>\n      <th>Model_3</th>\n      <td>-1.113932</td>\n      <td>1.113932</td>\n    </tr>\n    <tr>\n      <th>passport_region_Томская область</th>\n      <td>1.072932</td>\n      <td>1.072932</td>\n    </tr>\n    <tr>\n      <th>passport_region_Алтайский край</th>\n      <td>-0.918373</td>\n      <td>0.918373</td>\n    </tr>\n    <tr>\n      <th>passport_region_н.д.</th>\n      <td>0.878671</td>\n      <td>0.878671</td>\n    </tr>\n    <tr>\n      <th>...</th>\n      <td>...</td>\n      <td>...</td>\n    </tr>\n    <tr>\n      <th>Brand_MAZDA</th>\n      <td>0.002508</td>\n      <td>0.002508</td>\n    </tr>\n    <tr>\n      <th>price_prc</th>\n      <td>-0.002435</td>\n      <td>0.002435</td>\n    </tr>\n    <tr>\n      <th>deduct_Безусловная франшиза</th>\n      <td>-0.002171</td>\n      <td>0.002171</td>\n    </tr>\n    <tr>\n      <th>passport_region_Смоленская область</th>\n      <td>0.001041</td>\n      <td>0.001041</td>\n    </tr>\n    <tr>\n      <th>Model_SOUL</th>\n      <td>0.000303</td>\n      <td>0.000303</td>\n    </tr>\n  </tbody>\n</table>\n<p>365 rows × 2 columns</p>\n</div>"
     },
     "execution_count": 56,
     "metadata": {},
     "output_type": "execute_result"
    }
   ],
   "source": [
    "feature_importance_tree"
   ],
   "metadata": {
    "collapsed": false
   }
  },
  {
   "cell_type": "code",
   "execution_count": 79,
   "outputs": [],
   "source": [
    "feature_importance_tree.reset_index().to_csv('feature_importance_tree.csv', sep=';', index=False)"
   ],
   "metadata": {
    "collapsed": false
   }
  },
  {
   "cell_type": "code",
   "execution_count": null,
   "outputs": [],
   "source": [],
   "metadata": {
    "collapsed": false
   }
  },
  {
   "cell_type": "markdown",
   "source": [
    "Feature Importance also similar to Log Reg"
   ],
   "metadata": {
    "collapsed": false
   }
  },
  {
   "cell_type": "markdown",
   "source": [
    "## GAM"
   ],
   "metadata": {
    "collapsed": false
   }
  },
  {
   "cell_type": "markdown",
   "source": [
    "### Scaling and Encoding"
   ],
   "metadata": {
    "collapsed": false
   }
  },
  {
   "cell_type": "code",
   "execution_count": 59,
   "outputs": [],
   "source": [
    "# Make target binary, force it to 1 or 0\n",
    "df['target'] = df['target'].apply(lambda x: abs(x) if x == -1 else 0)"
   ],
   "metadata": {
    "collapsed": false
   }
  },
  {
   "cell_type": "code",
   "execution_count": 60,
   "outputs": [],
   "source": [
    "X = df.drop('target', axis=1)\n",
    "y = df['target']"
   ],
   "metadata": {
    "collapsed": false
   }
  },
  {
   "cell_type": "code",
   "execution_count": 62,
   "outputs": [],
   "source": [
    "numerical_cols = X_train.select_dtypes(include=['int64', 'float64']).columns\n",
    "categorical_cols = X_train.select_dtypes(include=['object', 'category']).columns"
   ],
   "metadata": {
    "collapsed": false
   }
  },
  {
   "cell_type": "code",
   "execution_count": 63,
   "outputs": [],
   "source": [
    "for col in categorical_cols:\n",
    "    X_train[col] = X_train[col].astype(str)\n",
    "    X_test[col] = X_test[col].astype(str)"
   ],
   "metadata": {
    "collapsed": false
   }
  },
  {
   "cell_type": "code",
   "execution_count": 64,
   "outputs": [
    {
     "data": {
      "text/plain": "Index(['Filial', 'Type_ts', 'passport_region', 'VIP', 'Brand', 'Model', 'GAP',\n       'married', 'deduct', 'deduct_amount', 'product', 'Bank',\n       'channel - map', 'category', 'kvs_type', 'sex'],\n      dtype='object')"
     },
     "execution_count": 64,
     "metadata": {},
     "output_type": "execute_result"
    }
   ],
   "source": [
    "categorical_cols"
   ],
   "metadata": {
    "collapsed": false
   }
  },
  {
   "cell_type": "code",
   "execution_count": 65,
   "outputs": [
    {
     "data": {
      "text/plain": "Index(['Yr_production', 'KBM', 'KBM_prol_est', 'delta_kbm', 'Age', 'Exp',\n       'discount', 'Amount - gr', 'premium_car', 'price_gr', 'price_prc',\n       'OSAGO_clnt'],\n      dtype='object')"
     },
     "execution_count": 65,
     "metadata": {},
     "output_type": "execute_result"
    }
   ],
   "source": [
    "numerical_cols"
   ],
   "metadata": {
    "collapsed": false
   }
  },
  {
   "cell_type": "code",
   "execution_count": 67,
   "outputs": [],
   "source": [
    "scaler = StandardScaler()\n",
    "X_numerical_scaled = pd.DataFrame(scaler.fit_transform(X[numerical_cols]),\n",
    "                                  columns=numerical_cols)\n",
    "X_categorical_encoded = pd.get_dummies(X[categorical_cols])\n",
    "X_preprocessed = pd.concat([X_numerical_scaled, X_categorical_encoded], axis=1)"
   ],
   "metadata": {
    "collapsed": false
   }
  },
  {
   "cell_type": "code",
   "execution_count": 71,
   "outputs": [],
   "source": [
    "X_train, X_test, y_train, y_test = train_test_split(X_preprocessed, y, test_size=0.2, random_state=42)"
   ],
   "metadata": {
    "collapsed": false
   }
  },
  {
   "cell_type": "markdown",
   "source": [
    "### Fit"
   ],
   "metadata": {
    "collapsed": false
   }
  },
  {
   "cell_type": "code",
   "execution_count": 72,
   "outputs": [
    {
     "ename": "LinAlgError",
     "evalue": "SVD did not converge",
     "output_type": "error",
     "traceback": [
      "\u001B[0;31m---------------------------------------------------------------------------\u001B[0m",
      "\u001B[0;31mLinAlgError\u001B[0m                               Traceback (most recent call last)",
      "Cell \u001B[0;32mIn[72], line 1\u001B[0m\n\u001B[0;32m----> 1\u001B[0m gam \u001B[38;5;241m=\u001B[39m \u001B[43mLogisticGAM\u001B[49m\u001B[43m(\u001B[49m\u001B[43m)\u001B[49m\u001B[38;5;241;43m.\u001B[39;49m\u001B[43mfit\u001B[49m\u001B[43m(\u001B[49m\u001B[43mX_train\u001B[49m\u001B[43m,\u001B[49m\u001B[43m \u001B[49m\u001B[43my_train\u001B[49m\u001B[43m)\u001B[49m\n",
      "File \u001B[0;32m~/PycharmProjects/insurance_task/venv/lib/python3.11/site-packages/pygam/pygam.py:913\u001B[0m, in \u001B[0;36mGAM.fit\u001B[0;34m(self, X, y, weights)\u001B[0m\n\u001B[1;32m    910\u001B[0m \u001B[38;5;28mself\u001B[39m\u001B[38;5;241m.\u001B[39mstatistics_[\u001B[38;5;124m'\u001B[39m\u001B[38;5;124mm_features\u001B[39m\u001B[38;5;124m'\u001B[39m] \u001B[38;5;241m=\u001B[39m X\u001B[38;5;241m.\u001B[39mshape[\u001B[38;5;241m1\u001B[39m]\n\u001B[1;32m    912\u001B[0m \u001B[38;5;66;03m# optimize\u001B[39;00m\n\u001B[0;32m--> 913\u001B[0m \u001B[38;5;28;43mself\u001B[39;49m\u001B[38;5;241;43m.\u001B[39;49m\u001B[43m_pirls\u001B[49m\u001B[43m(\u001B[49m\u001B[43mX\u001B[49m\u001B[43m,\u001B[49m\u001B[43m \u001B[49m\u001B[43my\u001B[49m\u001B[43m,\u001B[49m\u001B[43m \u001B[49m\u001B[43mweights\u001B[49m\u001B[43m)\u001B[49m\n\u001B[1;32m    914\u001B[0m \u001B[38;5;66;03m# if self._opt == 0:\u001B[39;00m\n\u001B[1;32m    915\u001B[0m \u001B[38;5;66;03m#     self._pirls(X, y, weights)\u001B[39;00m\n\u001B[1;32m    916\u001B[0m \u001B[38;5;66;03m# if self._opt == 1:\u001B[39;00m\n\u001B[1;32m    917\u001B[0m \u001B[38;5;66;03m#     self._pirls_naive(X, y)\u001B[39;00m\n\u001B[1;32m    918\u001B[0m \u001B[38;5;28;01mreturn\u001B[39;00m \u001B[38;5;28mself\u001B[39m\n",
      "File \u001B[0;32m~/PycharmProjects/insurance_task/venv/lib/python3.11/site-packages/pygam/pygam.py:795\u001B[0m, in \u001B[0;36mGAM._pirls\u001B[0;34m(self, X, Y, weights)\u001B[0m\n\u001B[1;32m    792\u001B[0m Dinv \u001B[38;5;241m=\u001B[39m np\u001B[38;5;241m.\u001B[39mzeros((m, min_n_m))\n\u001B[1;32m    794\u001B[0m \u001B[38;5;66;03m# SVD\u001B[39;00m\n\u001B[0;32m--> 795\u001B[0m U, d, Vt \u001B[38;5;241m=\u001B[39m \u001B[43mnp\u001B[49m\u001B[38;5;241;43m.\u001B[39;49m\u001B[43mlinalg\u001B[49m\u001B[38;5;241;43m.\u001B[39;49m\u001B[43msvd\u001B[49m\u001B[43m(\u001B[49m\u001B[43mnp\u001B[49m\u001B[38;5;241;43m.\u001B[39;49m\u001B[43mvstack\u001B[49m\u001B[43m(\u001B[49m\u001B[43m[\u001B[49m\u001B[43mR\u001B[49m\u001B[43m,\u001B[49m\u001B[43m \u001B[49m\u001B[43mE\u001B[49m\u001B[43m]\u001B[49m\u001B[43m)\u001B[49m\u001B[43m)\u001B[49m\n\u001B[1;32m    797\u001B[0m \u001B[38;5;66;03m# mask out small singular values\u001B[39;00m\n\u001B[1;32m    798\u001B[0m \u001B[38;5;66;03m# svd_mask = d <= (d.max() * np.sqrt(EPS))\u001B[39;00m\n\u001B[1;32m    800\u001B[0m np\u001B[38;5;241m.\u001B[39mfill_diagonal(Dinv, d\u001B[38;5;241m*\u001B[39m\u001B[38;5;241m*\u001B[39m\u001B[38;5;241m-\u001B[39m\u001B[38;5;241m1\u001B[39m)  \u001B[38;5;66;03m# invert the singular values\u001B[39;00m\n",
      "File \u001B[0;32m~/PycharmProjects/insurance_task/venv/lib/python3.11/site-packages/numpy/linalg/linalg.py:1681\u001B[0m, in \u001B[0;36msvd\u001B[0;34m(a, full_matrices, compute_uv, hermitian)\u001B[0m\n\u001B[1;32m   1678\u001B[0m         gufunc \u001B[38;5;241m=\u001B[39m _umath_linalg\u001B[38;5;241m.\u001B[39msvd_n_s\n\u001B[1;32m   1680\u001B[0m signature \u001B[38;5;241m=\u001B[39m \u001B[38;5;124m'\u001B[39m\u001B[38;5;124mD->DdD\u001B[39m\u001B[38;5;124m'\u001B[39m \u001B[38;5;28;01mif\u001B[39;00m isComplexType(t) \u001B[38;5;28;01melse\u001B[39;00m \u001B[38;5;124m'\u001B[39m\u001B[38;5;124md->ddd\u001B[39m\u001B[38;5;124m'\u001B[39m\n\u001B[0;32m-> 1681\u001B[0m u, s, vh \u001B[38;5;241m=\u001B[39m \u001B[43mgufunc\u001B[49m\u001B[43m(\u001B[49m\u001B[43ma\u001B[49m\u001B[43m,\u001B[49m\u001B[43m \u001B[49m\u001B[43msignature\u001B[49m\u001B[38;5;241;43m=\u001B[39;49m\u001B[43msignature\u001B[49m\u001B[43m,\u001B[49m\u001B[43m \u001B[49m\u001B[43mextobj\u001B[49m\u001B[38;5;241;43m=\u001B[39;49m\u001B[43mextobj\u001B[49m\u001B[43m)\u001B[49m\n\u001B[1;32m   1682\u001B[0m u \u001B[38;5;241m=\u001B[39m u\u001B[38;5;241m.\u001B[39mastype(result_t, copy\u001B[38;5;241m=\u001B[39m\u001B[38;5;28;01mFalse\u001B[39;00m)\n\u001B[1;32m   1683\u001B[0m s \u001B[38;5;241m=\u001B[39m s\u001B[38;5;241m.\u001B[39mastype(_realType(result_t), copy\u001B[38;5;241m=\u001B[39m\u001B[38;5;28;01mFalse\u001B[39;00m)\n",
      "File \u001B[0;32m~/PycharmProjects/insurance_task/venv/lib/python3.11/site-packages/numpy/linalg/linalg.py:121\u001B[0m, in \u001B[0;36m_raise_linalgerror_svd_nonconvergence\u001B[0;34m(err, flag)\u001B[0m\n\u001B[1;32m    120\u001B[0m \u001B[38;5;28;01mdef\u001B[39;00m \u001B[38;5;21m_raise_linalgerror_svd_nonconvergence\u001B[39m(err, flag):\n\u001B[0;32m--> 121\u001B[0m     \u001B[38;5;28;01mraise\u001B[39;00m LinAlgError(\u001B[38;5;124m\"\u001B[39m\u001B[38;5;124mSVD did not converge\u001B[39m\u001B[38;5;124m\"\u001B[39m)\n",
      "\u001B[0;31mLinAlgError\u001B[0m: SVD did not converge"
     ]
    }
   ],
   "source": [
    "gam = LogisticGAM().fit(X_train, y_train)  # 9:25"
   ],
   "metadata": {
    "collapsed": false
   }
  },
  {
   "cell_type": "code",
   "execution_count": 73,
   "outputs": [],
   "source": [
    "# Too many features, need to carefully select"
   ],
   "metadata": {
    "collapsed": false
   }
  },
  {
   "cell_type": "code",
   "execution_count": null,
   "outputs": [],
   "source": [],
   "metadata": {
    "collapsed": false,
    "pycharm": {
     "is_executing": true
    }
   }
  },
  {
   "cell_type": "code",
   "execution_count": 58,
   "outputs": [],
   "source": [],
   "metadata": {
    "collapsed": false
   }
  }
 ],
 "metadata": {
  "kernelspec": {
   "display_name": "Python 3",
   "language": "python",
   "name": "python3"
  },
  "language_info": {
   "codemirror_mode": {
    "name": "ipython",
    "version": 2
   },
   "file_extension": ".py",
   "mimetype": "text/x-python",
   "name": "python",
   "nbconvert_exporter": "python",
   "pygments_lexer": "ipython2",
   "version": "2.7.6"
  }
 },
 "nbformat": 4,
 "nbformat_minor": 0
}
